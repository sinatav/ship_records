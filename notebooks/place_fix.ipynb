{
 "cells": [
  {
   "cell_type": "code",
   "execution_count": 22,
   "id": "f72c918a",
   "metadata": {},
   "outputs": [],
   "source": [
    "import numpy as np\n",
    "import pandas as pd"
   ]
  },
  {
   "cell_type": "code",
   "execution_count": 21,
   "id": "5677942b",
   "metadata": {},
   "outputs": [],
   "source": [
    "df2 = pd.read_csv('fixes_jun.csv', low_memory=False).drop('Unnamed: 11', axis=1)\n",
    "df3 = pd.read_csv('fixes_jul.csv', low_memory=False).drop('Unnamed: 11', axis=1)\n",
    "df4 = pd.read_csv('fixes_pp.csv', low_memory=False)\n",
    "df1 = pd.read_csv('combined_loc.csv', low_memory=False)"
   ]
  },
  {
   "cell_type": "code",
   "execution_count": 15,
   "id": "3ee76f99",
   "metadata": {},
   "outputs": [],
   "source": [
    "columns = ['port',\n",
    " 'lat',\n",
    " 'lon',\n",
    " 'place',\n",
    " 'alt_place',\n",
    " 'orig_class_1',\n",
    " 'orig_class_2',\n",
    " 'orig_class_3',\n",
    " 'notes',\n",
    " 'origin_id']"
   ]
  },
  {
   "cell_type": "code",
   "execution_count": 23,
   "id": "13357062",
   "metadata": {},
   "outputs": [],
   "source": [
    "dfs = [df4, df3, df2, df1]\n",
    "\n",
    "invalid_values = [\"\\\\\", \"/\"]\n",
    "\n",
    "result = dfs[0].copy()\n",
    "\n",
    "dfs = [df.replace(invalid_values, np.nan) for df in dfs]\n",
    "\n",
    "for df in dfs[1:]:\n",
    "    result = result.fillna(df)\n",
    "\n",
    "result = result.drop_duplicates(subset=['place'], keep='first').reset_index(drop=True)"
   ]
  },
  {
   "cell_type": "code",
   "execution_count": 35,
   "id": "c310231a",
   "metadata": {},
   "outputs": [],
   "source": [
    "df4.sort_values(by='origin_id')[columns].to_csv('locations.csv')"
   ]
  },
  {
   "cell_type": "code",
   "execution_count": null,
   "id": "e9448991",
   "metadata": {},
   "outputs": [],
   "source": []
  }
 ],
 "metadata": {
  "kernelspec": {
   "display_name": "Python 3",
   "language": "python",
   "name": "python3"
  },
  "language_info": {
   "codemirror_mode": {
    "name": "ipython",
    "version": 3
   },
   "file_extension": ".py",
   "mimetype": "text/x-python",
   "name": "python",
   "nbconvert_exporter": "python",
   "pygments_lexer": "ipython3",
   "version": "3.9.20"
  }
 },
 "nbformat": 4,
 "nbformat_minor": 5
}
