{
 "cells": [
  {
   "cell_type": "code",
   "execution_count": 1,
   "id": "361930b9",
   "metadata": {},
   "outputs": [],
   "source": [
    "import pandas as pd\n",
    "from tqdm import tqdm"
   ]
  },
  {
   "cell_type": "code",
   "execution_count": 2,
   "id": "d06b5f08",
   "metadata": {},
   "outputs": [],
   "source": [
    "df_r = pd.read_csv('record.csv', low_memory=False).drop(columns=['file_name', 'age', 'build', 'complexion', 'conscription', 'wage', 'f_n', 'zot_title', 'date_of_birth', 'date_of_death', 'medical_issues', 'passage_paid_by', 'days_on_voyage', 'earnings']).rename(columns={'id': 'record_id'})\n",
    "df_p = pd.read_csv('person.csv', low_memory=False).drop(columns=['alternate_last_name', 'alternate_first_name', 'parents', 'gender', 'families_groups']).rename(columns={'id': 'person_id'})\n",
    "df_v = pd.read_csv('voyage.csv', low_memory=False)\n",
    "# .drop(columns=['date', 'notes', 'route_class', 'fate', 'call_number', 'operations', 'ship_notes', 'ships_encountered', 'route_class_1']).rename(columns={'id': 'voyage_id'})\n",
    "df_s = pd.read_csv('ship.csv', low_memory=False).drop(columns=['ship_built_date', 'ship_built_place', 'ship_type', 'tonnage', 'guns']).rename(columns={'id': 'ship_id'})\n",
    "df_f = pd.read_csv('functions.csv', low_memory=False).drop(columns=['func_class_1', 'func_class_2']).rename(columns={'id': 'function_id'})\n",
    "df1 = pd.merge(df_r, df_p, on='person_index', how='inner')\n",
    "df2 = pd.merge(df1, df_v, on='voyage_index', how='inner')\n",
    "df3 = pd.merge(df2, df_s, on='ship_index', how='inner')\n",
    "df = pd.merge(df3, df_f, on='function_index', how='inner').drop(columns=['record_index', 'record_index', 'ship_index', 'voyage_index', 'function_index'])"
   ]
  },
  {
   "cell_type": "code",
   "execution_count": 5,
   "id": "b2dfbe67",
   "metadata": {},
   "outputs": [
    {
     "data": {
      "text/plain": [
       "Index(['id', 'voyage_code', 'date', 'date_voy_begin', 'date_voy_end', 'notes',\n",
       "       'route_class', 'fate', 'call_number', 'steps', 'operations',\n",
       "       'ship_notes', 'ships_encountered', 'voyage_index', 'route_class_1',\n",
       "       'start_loc', 'last_loc', 'ship_code'],\n",
       "      dtype='object')"
      ]
     },
     "execution_count": 5,
     "metadata": {},
     "output_type": "execute_result"
    }
   ],
   "source": [
    "df_v.columns\n",
    "# [df_v['voyage_code']=='IND01']"
   ]
  },
  {
   "cell_type": "code",
   "execution_count": 6,
   "id": "35d9ad12",
   "metadata": {},
   "outputs": [
    {
     "data": {
      "text/html": [
       "<div>\n",
       "<style scoped>\n",
       "    .dataframe tbody tr th:only-of-type {\n",
       "        vertical-align: middle;\n",
       "    }\n",
       "\n",
       "    .dataframe tbody tr th {\n",
       "        vertical-align: top;\n",
       "    }\n",
       "\n",
       "    .dataframe thead th {\n",
       "        text-align: right;\n",
       "    }\n",
       "</style>\n",
       "<table border=\"1\" class=\"dataframe\">\n",
       "  <thead>\n",
       "    <tr style=\"text-align: right;\">\n",
       "      <th></th>\n",
       "      <th>ship_id</th>\n",
       "      <th>ship_name</th>\n",
       "      <th>ship_index</th>\n",
       "      <th>ship_code</th>\n",
       "    </tr>\n",
       "  </thead>\n",
       "  <tbody>\n",
       "    <tr>\n",
       "      <th>0</th>\n",
       "      <td>1</td>\n",
       "      <td>Solide</td>\n",
       "      <td>0</td>\n",
       "      <td>SOL_A</td>\n",
       "    </tr>\n",
       "    <tr>\n",
       "      <th>1</th>\n",
       "      <td>2</td>\n",
       "      <td>Aurore</td>\n",
       "      <td>1</td>\n",
       "      <td>AUR_B</td>\n",
       "    </tr>\n",
       "    <tr>\n",
       "      <th>2</th>\n",
       "      <td>3</td>\n",
       "      <td>Ville de Lorient</td>\n",
       "      <td>2</td>\n",
       "      <td>VDL_B</td>\n",
       "    </tr>\n",
       "    <tr>\n",
       "      <th>3</th>\n",
       "      <td>4</td>\n",
       "      <td>Mutine</td>\n",
       "      <td>3</td>\n",
       "      <td>MUT_A</td>\n",
       "    </tr>\n",
       "    <tr>\n",
       "      <th>4</th>\n",
       "      <td>5</td>\n",
       "      <td>Portefaix</td>\n",
       "      <td>4</td>\n",
       "      <td>POR_A</td>\n",
       "    </tr>\n",
       "    <tr>\n",
       "      <th>...</th>\n",
       "      <td>...</td>\n",
       "      <td>...</td>\n",
       "      <td>...</td>\n",
       "      <td>...</td>\n",
       "    </tr>\n",
       "    <tr>\n",
       "      <th>576</th>\n",
       "      <td>577</td>\n",
       "      <td>Victoire</td>\n",
       "      <td>576</td>\n",
       "      <td>VIC_E</td>\n",
       "    </tr>\n",
       "    <tr>\n",
       "      <th>577</th>\n",
       "      <td>578</td>\n",
       "      <td>Villevault</td>\n",
       "      <td>577</td>\n",
       "      <td>VIV_B</td>\n",
       "    </tr>\n",
       "    <tr>\n",
       "      <th>578</th>\n",
       "      <td>579</td>\n",
       "      <td>Vautour</td>\n",
       "      <td>578</td>\n",
       "      <td>VTR_B</td>\n",
       "    </tr>\n",
       "    <tr>\n",
       "      <th>579</th>\n",
       "      <td>580</td>\n",
       "      <td>Vautour</td>\n",
       "      <td>579</td>\n",
       "      <td>VTR_C</td>\n",
       "    </tr>\n",
       "    <tr>\n",
       "      <th>580</th>\n",
       "      <td>581</td>\n",
       "      <td>Zéphir</td>\n",
       "      <td>580</td>\n",
       "      <td>ZEP_C</td>\n",
       "    </tr>\n",
       "  </tbody>\n",
       "</table>\n",
       "<p>581 rows × 4 columns</p>\n",
       "</div>"
      ],
      "text/plain": [
       "     ship_id         ship_name  ship_index ship_code\n",
       "0          1           Solide            0     SOL_A\n",
       "1          2            Aurore           1     AUR_B\n",
       "2          3  Ville de Lorient           2     VDL_B\n",
       "3          4            Mutine           3     MUT_A\n",
       "4          5         Portefaix           4     POR_A\n",
       "..       ...               ...         ...       ...\n",
       "576      577          Victoire         576     VIC_E\n",
       "577      578        Villevault         577     VIV_B\n",
       "578      579           Vautour         578     VTR_B\n",
       "579      580           Vautour         579     VTR_C\n",
       "580      581            Zéphir         580     ZEP_C\n",
       "\n",
       "[581 rows x 4 columns]"
      ]
     },
     "execution_count": 6,
     "metadata": {},
     "output_type": "execute_result"
    }
   ],
   "source": [
    "df_s"
   ]
  },
  {
   "cell_type": "code",
   "execution_count": 5,
   "id": "c68cf214",
   "metadata": {},
   "outputs": [
    {
     "name": "stderr",
     "output_type": "stream",
     "text": [
      "  1%|▏         | 2952/218572 [00:00<00:07, 29506.66it/s]"
     ]
    },
    {
     "name": "stdout",
     "output_type": "stream",
     "text": [
      "3\n",
      "1275\n",
      "1276\n",
      "1412\n",
      "207\n",
      "877\n",
      "315\n"
     ]
    },
    {
     "name": "stderr",
     "output_type": "stream",
     "text": [
      " 17%|█▋        | 37317/218572 [00:09<01:29, 2019.44it/s]"
     ]
    },
    {
     "name": "stdout",
     "output_type": "stream",
     "text": [
      "2358\n"
     ]
    },
    {
     "name": "stderr",
     "output_type": "stream",
     "text": [
      " 33%|███▎      | 71148/218572 [00:35<02:09, 1136.30it/s]"
     ]
    },
    {
     "name": "stdout",
     "output_type": "stream",
     "text": [
      "4\n",
      "1413\n",
      "2816\n",
      "1134\n",
      "2411\n",
      "316\n"
     ]
    },
    {
     "name": "stderr",
     "output_type": "stream",
     "text": [
      " 33%|███▎      | 71374/218572 [00:35<02:33, 958.95it/s] "
     ]
    },
    {
     "name": "stdout",
     "output_type": "stream",
     "text": [
      "6\n",
      "2401\n"
     ]
    },
    {
     "name": "stderr",
     "output_type": "stream",
     "text": [
      " 33%|███▎      | 72221/218572 [00:36<02:20, 1042.76it/s]"
     ]
    },
    {
     "name": "stdout",
     "output_type": "stream",
     "text": [
      "7\n",
      "1298\n",
      "1670\n",
      "2749\n"
     ]
    },
    {
     "name": "stderr",
     "output_type": "stream",
     "text": [
      " 33%|███▎      | 73077/218572 [00:37<02:19, 1045.88it/s]"
     ]
    },
    {
     "name": "stdout",
     "output_type": "stream",
     "text": [
      "8\n",
      "895\n"
     ]
    },
    {
     "name": "stderr",
     "output_type": "stream",
     "text": [
      " 34%|███▎      | 73402/218572 [00:37<02:25, 996.18it/s] "
     ]
    },
    {
     "name": "stdout",
     "output_type": "stream",
     "text": [
      "9\n",
      "10\n",
      "11\n",
      "2140\n",
      "1975\n",
      "2139\n",
      "2141\n",
      "92\n",
      "91\n",
      "93\n",
      "94\n",
      "95\n",
      "1317\n",
      "906\n",
      "907\n",
      "908\n",
      "909\n",
      "910\n",
      "1137\n",
      "2448\n",
      "2449\n",
      "231\n",
      "234\n",
      "470\n",
      "476\n",
      "477\n",
      "478\n",
      "480\n",
      "479\n",
      "1683\n",
      "1682\n",
      "1685\n",
      "781\n"
     ]
    },
    {
     "name": "stderr",
     "output_type": "stream",
     "text": [
      " 34%|███▍      | 73809/218572 [00:37<02:34, 935.70it/s] "
     ]
    },
    {
     "name": "stdout",
     "output_type": "stream",
     "text": [
      "2444\n"
     ]
    },
    {
     "name": "stderr",
     "output_type": "stream",
     "text": [
      " 34%|███▍      | 74615/218572 [00:38<01:56, 1232.05it/s]"
     ]
    },
    {
     "name": "stdout",
     "output_type": "stream",
     "text": [
      "13\n",
      "15\n",
      "16\n",
      "17\n",
      "18\n",
      "2112\n",
      "2113\n",
      "2114\n",
      "2117\n",
      "2116\n",
      "2118\n",
      "2119\n",
      "2120\n",
      "2121\n",
      "2122\n",
      "2124\n",
      "2123\n",
      "2159\n",
      "2161\n",
      "2162\n",
      "2143\n",
      "2144\n",
      "2146\n",
      "2148\n",
      "2149\n",
      "2160\n",
      "2174\n",
      "2206\n",
      "2209\n",
      "2210\n",
      "2004\n",
      "2006\n",
      "1987\n",
      "1988\n",
      "1989\n",
      "1993\n",
      "1997\n",
      "2000\n",
      "2007\n",
      "2008\n",
      "2013\n",
      "2016\n",
      "2025\n",
      "2026\n",
      "2029\n",
      "2030\n",
      "2031\n",
      "2033\n",
      "2034\n",
      "2038\n",
      "2115\n",
      "1999\n",
      "2014\n",
      "2020\n",
      "2028\n",
      "2032\n",
      "2039\n",
      "1235\n",
      "1228\n",
      "1229\n",
      "1231\n",
      "1233\n",
      "1234\n",
      "1236\n",
      "1237\n",
      "1238\n",
      "1239\n",
      "1240\n",
      "1241\n",
      "1243\n",
      "1244\n",
      "1246\n",
      "1245\n",
      "1247\n",
      "1249\n",
      "1251\n",
      "1252\n",
      "1253\n",
      "1255\n",
      "1256\n",
      "1257\n",
      "1258\n",
      "1259\n",
      "1260\n",
      "1261\n",
      "1263\n",
      "1262\n",
      "1265\n",
      "1230\n",
      "1248\n",
      "1250\n",
      "1254\n",
      "1990\n",
      "2208\n",
      "2156\n",
      "2207\n",
      "2163\n",
      "1991\n",
      "19\n",
      "109\n",
      "111\n",
      "113\n",
      "114\n",
      "116\n",
      "141\n",
      "152\n",
      "138\n",
      "139\n",
      "140\n",
      "142\n",
      "143\n",
      "145\n",
      "146\n",
      "147\n",
      "148\n",
      "150\n",
      "151\n",
      "153\n",
      "161\n",
      "96\n",
      "97\n",
      "144\n",
      "171\n",
      "1446\n",
      "1463\n",
      "1494\n",
      "1495\n",
      "1464\n",
      "1470\n",
      "1492\n",
      "1320\n",
      "1322\n",
      "1323\n",
      "1326\n",
      "1327\n",
      "1332\n",
      "1336\n",
      "1337\n",
      "1338\n",
      "1339\n",
      "1341\n",
      "1343\n",
      "1346\n",
      "1347\n",
      "1348\n",
      "1349\n",
      "1351\n",
      "1352\n",
      "1353\n",
      "1354\n",
      "1356\n",
      "1357\n",
      "1358\n",
      "1360\n",
      "1361\n",
      "1362\n",
      "1363\n",
      "1364\n",
      "1367\n",
      "1366\n",
      "1369\n",
      "1371\n",
      "1405\n",
      "1406\n",
      "1407\n",
      "1408\n",
      "1618\n",
      "1624\n",
      "1626"
     ]
    },
    {
     "name": "stderr",
     "output_type": "stream",
     "text": [
      " 34%|███▍      | 74909/218572 [00:38<01:58, 1207.51it/s]"
     ]
    },
    {
     "name": "stdout",
     "output_type": "stream",
     "text": [
      "\n",
      "1629\n",
      "1631\n",
      "1321\n",
      "1342\n",
      "1350\n",
      "1368\n",
      "1370\n",
      "1609\n",
      "1340\n",
      "1318\n",
      "1625\n",
      "1627\n",
      "1628\n",
      "1319\n",
      "1555\n",
      "1556\n",
      "1630\n",
      "1608\n",
      "1554\n",
      "2830\n",
      "922\n",
      "923\n",
      "924\n",
      "930\n",
      "931\n",
      "936\n",
      "939\n",
      "937\n",
      "941\n",
      "945\n",
      "946\n",
      "948\n",
      "959\n",
      "961\n",
      "960\n",
      "962\n",
      "963\n",
      "964\n",
      "1131\n",
      "1132\n",
      "1138\n",
      "1139\n",
      "914\n",
      "2456\n",
      "2469\n",
      "2479\n",
      "2480\n",
      "2481\n",
      "2550\n",
      "2551\n",
      "2552\n",
      "2553\n",
      "2554\n",
      "2555\n",
      "2556\n",
      "2557\n",
      "2558\n",
      "2559\n",
      "2561\n",
      "454\n",
      "2450\n",
      "2451\n",
      "2452\n",
      "2453\n",
      "2454\n",
      "2455\n",
      "2482\n",
      "2483\n",
      "2478\n",
      "260\n",
      "384\n",
      "240\n",
      "243\n",
      "254\n",
      "237\n",
      "239\n",
      "238\n",
      "236\n",
      "363\n",
      "364\n",
      "365\n",
      "366\n",
      "367\n",
      "368\n",
      "370\n",
      "386\n",
      "377\n",
      "390\n",
      "374\n",
      "376\n",
      "371\n",
      "372\n",
      "373\n",
      "378\n",
      "388\n",
      "375\n",
      "117\n",
      "509\n",
      "511\n",
      "512\n",
      "483\n",
      "496\n",
      "514\n",
      "523"
     ]
    },
    {
     "name": "stderr",
     "output_type": "stream",
     "text": [
      " 34%|███▍      | 75187/218572 [00:38<01:50, 1293.16it/s]"
     ]
    },
    {
     "name": "stdout",
     "output_type": "stream",
     "text": [
      "\n",
      "524\n",
      "526\n",
      "527\n",
      "528\n",
      "529\n",
      "530\n",
      "532\n",
      "533\n",
      "534\n",
      "536\n",
      "537\n",
      "538\n",
      "539\n",
      "540\n",
      "549\n",
      "551\n",
      "552\n",
      "553\n",
      "543\n",
      "482\n",
      "1221\n",
      "1358\n",
      "1723\n",
      "1724\n",
      "1725\n",
      "1727\n",
      "1728\n",
      "1824\n",
      "1825\n",
      "1858\n",
      "1860\n",
      "1861\n",
      "1862\n",
      "1884\n",
      "1885\n",
      "1887\n",
      "1888\n",
      "1890\n",
      "1891\n",
      "1892\n",
      "1894\n",
      "1906\n",
      "1907\n",
      "1908\n",
      "1909\n",
      "1910\n",
      "1918\n",
      "1691\n",
      "1692\n",
      "1693\n",
      "1694\n",
      "1698\n",
      "1706\n",
      "1707\n",
      "1708\n",
      "1709\n",
      "1555\n",
      "1934\n",
      "1690\n",
      "1695\n",
      "1829\n",
      "1831\n",
      "1832\n",
      "1833\n",
      "1835\n",
      "1917\n",
      "1837\n",
      "1842\n",
      "1843\n",
      "1844\n",
      "1845\n",
      "1847\n",
      "1928\n",
      "1915\n",
      "1916\n",
      "1926\n",
      "1937\n",
      "1936\n",
      "1838\n",
      "1839\n",
      "1840\n",
      "1841\n",
      "1930\n",
      "1197\n",
      "1833\n",
      "2760\n",
      "2761\n",
      "2762\n",
      "2763\n",
      "2770\n",
      "2776\n",
      "2777\n",
      "2778\n",
      "2780\n",
      "2769\n",
      "2771\n",
      "2772\n",
      "2773\n",
      "2781\n",
      "2782\n",
      "2795\n",
      "2788\n",
      "2792\n",
      "2793\n",
      "2796\n",
      "2797\n",
      "2799\n",
      "2805\n",
      "2810\n",
      "2811\n",
      "2812\n",
      "2764\n",
      "2794\n",
      "2803\n",
      "2804\n",
      "861\n",
      "776\n",
      "782\n",
      "783\n",
      "788\n",
      "785\n",
      "791\n",
      "786\n",
      "787\n",
      "789\n",
      "790\n",
      "794\n",
      "792\n",
      "796\n",
      "795\n",
      "798\n",
      "797\n",
      "799\n",
      "800\n",
      "801\n",
      "802\n",
      "804\n",
      "862\n",
      "843\n",
      "844\n",
      "845\n",
      "853\n",
      "854\n",
      "856\n",
      "857\n",
      "864\n",
      "865\n",
      "866\n",
      "867\n",
      "868\n",
      "872\n",
      "873\n",
      "784\n",
      "793\n",
      "863\n",
      "874\n"
     ]
    },
    {
     "name": "stderr",
     "output_type": "stream",
     "text": [
      " 35%|███▍      | 75468/218572 [00:39<01:53, 1264.35it/s]"
     ]
    },
    {
     "name": "stdout",
     "output_type": "stream",
     "text": [
      "2377\n",
      "2378\n",
      "2392\n",
      "2396\n",
      "2397\n",
      "2398\n",
      "2367\n",
      "2329\n",
      "2334\n",
      "2337\n",
      "2339\n",
      "2340\n",
      "2341\n",
      "2342\n",
      "2344\n",
      "2370\n",
      "2402\n",
      "2338\n",
      "2346\n",
      "2376\n",
      "2408\n",
      "2668\n",
      "2669\n",
      "2720\n",
      "2723\n",
      "2722\n",
      "2667\n",
      "2721\n",
      "389\n",
      "1267\n",
      "2275\n",
      "2285\n",
      "2284\n",
      "2279\n",
      "2280\n",
      "2286\n",
      "2264\n",
      "2283\n",
      "2259\n",
      "2260\n",
      "2273\n",
      "2274\n",
      "2277\n",
      "2278\n",
      "2281\n",
      "2282\n",
      "2287\n",
      "2289\n",
      "2261\n",
      "2288\n",
      "2671"
     ]
    },
    {
     "name": "stderr",
     "output_type": "stream",
     "text": [
      " 35%|███▍      | 75717/218572 [00:39<02:06, 1130.49it/s]"
     ]
    },
    {
     "name": "stdout",
     "output_type": "stream",
     "text": [
      "\n"
     ]
    },
    {
     "name": "stderr",
     "output_type": "stream",
     "text": [
      " 35%|███▍      | 76406/218572 [00:40<02:04, 1145.18it/s]"
     ]
    },
    {
     "name": "stdout",
     "output_type": "stream",
     "text": [
      "2083\n",
      "2084\n",
      "2086\n",
      "20\n",
      "190\n",
      "1497\n",
      "1496\n",
      "1282\n",
      "1394\n",
      "1398\n",
      "1399\n",
      "1400\n",
      "1401\n",
      "1393\n",
      "1395\n",
      "1485\n",
      "1396\n",
      "1402\n",
      "1397\n",
      "1553\n",
      "1552\n",
      "2854\n",
      "2855\n",
      "2856\n",
      "2857\n",
      "989\n",
      "1002\n",
      "988\n",
      "990\n",
      "999\n",
      "1000\n",
      "1001\n",
      "1140\n",
      "362\n",
      "2518\n",
      "2519\n",
      "2520\n",
      "2523\n",
      "2521\n",
      "2522\n",
      "2524\n",
      "2525\n",
      "280\n",
      "282\n",
      "283\n",
      "398\n",
      "122\n",
      "628\n",
      "627\n",
      "632\n",
      "633\n",
      "637\n",
      "638\n",
      "629\n",
      "630\n",
      "631\n",
      "643\n",
      "1816\n",
      "1830\n",
      "1893\n",
      "1899\n",
      "1782\n",
      "1781\n",
      "1612\n",
      "1218\n",
      "1226\n",
      "2784\n",
      "2798\n",
      "287\n",
      "832\n",
      "869\n",
      "870\n",
      "2399\n",
      "2157\n",
      "2087\n",
      "1783\n",
      "2713\n",
      "2705\n",
      "2706\n",
      "2707\n",
      "2709\n",
      "2710\n",
      "2711\n",
      "2712\n",
      "2715\n",
      "2714\n",
      "2708\n",
      "2265"
     ]
    },
    {
     "name": "stderr",
     "output_type": "stream",
     "text": [
      " 35%|███▌      | 76639/218572 [00:40<02:10, 1087.53it/s]"
     ]
    },
    {
     "name": "stdout",
     "output_type": "stream",
     "text": [
      "\n",
      "2293\n",
      "2291\n",
      "2292\n",
      "2471\n",
      "2677\n"
     ]
    },
    {
     "name": "stderr",
     "output_type": "stream",
     "text": [
      " 36%|███▌      | 78074/218572 [00:41<02:21, 993.48it/s] "
     ]
    },
    {
     "name": "stdout",
     "output_type": "stream",
     "text": [
      "21\n",
      "22\n",
      "949\n",
      "349\n",
      "119\n",
      "1867\n",
      "2542\n",
      "2673\n"
     ]
    },
    {
     "name": "stderr",
     "output_type": "stream",
     "text": [
      " 36%|███▌      | 78579/218572 [00:42<02:21, 990.81it/s] "
     ]
    },
    {
     "name": "stdout",
     "output_type": "stream",
     "text": [
      "23\n",
      "951\n",
      "348\n",
      "118\n",
      "1984\n",
      "471\n",
      "1217\n",
      "1191\n",
      "1223\n",
      "1224\n",
      "1225\n",
      "286\n",
      "2088\n",
      "173\n",
      "1619\n",
      "1863\n",
      "2541\n"
     ]
    },
    {
     "name": "stderr",
     "output_type": "stream",
     "text": [
      " 36%|███▌      | 78878/218572 [00:42<02:22, 981.21it/s]"
     ]
    },
    {
     "name": "stdout",
     "output_type": "stream",
     "text": [
      "2807\n",
      "2808\n",
      "1551\n"
     ]
    },
    {
     "name": "stderr",
     "output_type": "stream",
     "text": [
      " 36%|███▋      | 79380/218572 [00:43<02:20, 993.58it/s]"
     ]
    },
    {
     "name": "stdout",
     "output_type": "stream",
     "text": [
      "1610\n"
     ]
    },
    {
     "name": "stderr",
     "output_type": "stream",
     "text": [
      " 37%|███▋      | 80180/218572 [00:43<02:19, 990.46it/s]"
     ]
    },
    {
     "name": "stdout",
     "output_type": "stream",
     "text": [
      "28\n",
      "24\n",
      "347\n",
      "2312\n"
     ]
    },
    {
     "name": "stderr",
     "output_type": "stream",
     "text": [
      " 37%|███▋      | 80877/218572 [00:44<02:21, 973.06it/s]"
     ]
    },
    {
     "name": "stdout",
     "output_type": "stream",
     "text": [
      "29\n",
      "25\n",
      "127\n",
      "1222\n",
      "2475\n",
      "2446\n"
     ]
    },
    {
     "name": "stderr",
     "output_type": "stream",
     "text": [
      " 37%|███▋      | 81172/218572 [00:44<02:22, 961.34it/s]"
     ]
    },
    {
     "name": "stdout",
     "output_type": "stream",
     "text": [
      "30\n",
      "26\n",
      "1686\n",
      "1687\n",
      "950\n",
      "996\n",
      "350\n",
      "120\n",
      "519\n",
      "1203\n",
      "2158\n",
      "2268\n",
      "899\n",
      "1737\n",
      "181\n",
      "2675\n",
      "2371\n",
      "2379\n"
     ]
    },
    {
     "name": "stderr",
     "output_type": "stream",
     "text": [
      " 37%|███▋      | 81893/218572 [00:45<02:09, 1057.05it/s]"
     ]
    },
    {
     "name": "stdout",
     "output_type": "stream",
     "text": [
      "31\n",
      "32\n",
      "40\n",
      "41\n",
      "43\n",
      "27\n",
      "304\n",
      "305\n",
      "306\n",
      "308\n",
      "309\n",
      "311\n",
      "1817\n",
      "1818\n",
      "1819\n",
      "1820\n",
      "1822\n",
      "33\n",
      "34\n",
      "37\n",
      "44\n",
      "45\n",
      "46\n",
      "47\n",
      "51\n",
      "35\n",
      "2109\n",
      "2104\n",
      "2092\n",
      "2128\n",
      "2127\n",
      "2129\n",
      "2130\n",
      "2187\n",
      "2212\n",
      "2218\n",
      "2221\n",
      "2234\n",
      "2133\n",
      "1126\n",
      "1142\n",
      "1143\n",
      "1144\n",
      "1145\n",
      "1170\n",
      "307\n",
      "310\n",
      "312\n",
      "322\n",
      "1821\n",
      "1823\n",
      "636\n",
      "187\n",
      "2774\n",
      "2015\n"
     ]
    },
    {
     "name": "stderr",
     "output_type": "stream",
     "text": [
      " 38%|███▊      | 82689/218572 [00:46<02:22, 951.32it/s] "
     ]
    },
    {
     "name": "stdout",
     "output_type": "stream",
     "text": [
      "2\n",
      "1651\n",
      "2134\n",
      "1271\n",
      "876\n",
      "2410\n",
      "314\n",
      "1925\n",
      "38\n",
      "2214\n",
      "53\n",
      "836\n",
      "103\n",
      "255\n",
      "2308\n",
      "1477\n",
      "2076\n",
      "2572\n"
     ]
    },
    {
     "name": "stderr",
     "output_type": "stream",
     "text": [
      " 38%|███▊      | 83754/218572 [00:47<02:21, 951.86it/s]"
     ]
    },
    {
     "name": "stdout",
     "output_type": "stream",
     "text": [
      "39\n",
      "42\n",
      "36\n",
      "2307\n",
      "2077\n",
      "2380\n"
     ]
    },
    {
     "name": "stderr",
     "output_type": "stream",
     "text": [
      " 39%|███▊      | 84612/218572 [00:48<02:23, 936.60it/s]"
     ]
    },
    {
     "name": "stdout",
     "output_type": "stream",
     "text": [
      "48\n",
      "54\n",
      "104\n",
      "2356\n",
      "49\n",
      "57\n",
      "58\n",
      "277\n",
      "278\n",
      "1701\n",
      "1702\n",
      "1604\n",
      "807\n",
      "847\n",
      "805\n",
      "806\n",
      "991\n",
      "992\n",
      "993\n",
      "994\n",
      "380\n",
      "381\n",
      "382\n",
      "105\n",
      "106\n",
      "107\n"
     ]
    },
    {
     "name": "stderr",
     "output_type": "stream",
     "text": [
      " 39%|███▉      | 84799/218572 [00:48<02:25, 917.10it/s]"
     ]
    },
    {
     "name": "stdout",
     "output_type": "stream",
     "text": [
      "162\n",
      "164\n",
      "165\n",
      "163\n",
      "1850\n",
      "1853\n",
      "1854\n",
      "1855\n",
      "1856\n",
      "505\n",
      "506\n",
      "544\n",
      "545\n",
      "546\n"
     ]
    },
    {
     "name": "stderr",
     "output_type": "stream",
     "text": [
      " 39%|███▉      | 85172/218572 [00:49<02:24, 925.80it/s]"
     ]
    },
    {
     "name": "stdout",
     "output_type": "stream",
     "text": [
      "335\n",
      "336\n",
      "2154\n",
      "2309\n",
      "2311\n"
     ]
    },
    {
     "name": "stderr",
     "output_type": "stream",
     "text": [
      " 39%|███▉      | 85451/218572 [00:49<02:24, 919.24it/s]"
     ]
    },
    {
     "name": "stdout",
     "output_type": "stream",
     "text": [
      "647\n",
      "917\n",
      "918\n",
      "919\n",
      "1157\n",
      "1156\n",
      "1478\n",
      "1480\n"
     ]
    },
    {
     "name": "stderr",
     "output_type": "stream",
     "text": [
      " 39%|███▉      | 85729/218572 [00:49<02:24, 917.59it/s]"
     ]
    },
    {
     "name": "stdout",
     "output_type": "stream",
     "text": [
      "180\n",
      "1632\n",
      "1729\n",
      "1921\n",
      "1922\n",
      "1923\n",
      "1919\n",
      "1563\n",
      "1564\n",
      "2310\n"
     ]
    },
    {
     "name": "stderr",
     "output_type": "stream",
     "text": [
      " 39%|███▉      | 86006/218572 [00:50<02:26, 906.68it/s]"
     ]
    },
    {
     "name": "stdout",
     "output_type": "stream",
     "text": [
      "2566\n",
      "2567\n",
      "2568\n",
      "2570\n",
      "2628\n",
      "2625\n",
      "2626\n",
      "2627\n",
      "2629\n",
      "2630\n",
      "2631\n"
     ]
    },
    {
     "name": "stderr",
     "output_type": "stream",
     "text": [
      " 40%|███▉      | 86469/218572 [00:50<02:24, 914.14it/s]"
     ]
    },
    {
     "name": "stdout",
     "output_type": "stream",
     "text": [
      "2486\n",
      "2800\n",
      "2725\n",
      "2726\n",
      "2360\n",
      "2357\n",
      "2359\n"
     ]
    },
    {
     "name": "stderr",
     "output_type": "stream",
     "text": [
      " 40%|███▉      | 86931/218572 [00:51<02:24, 912.38it/s]"
     ]
    },
    {
     "name": "stdout",
     "output_type": "stream",
     "text": [
      "644\n"
     ]
    },
    {
     "name": "stderr",
     "output_type": "stream",
     "text": [
      " 40%|████      | 88308/218572 [00:52<02:24, 903.10it/s]"
     ]
    },
    {
     "name": "stdout",
     "output_type": "stream",
     "text": [
      "2447\n",
      "2462\n",
      "2463\n"
     ]
    },
    {
     "name": "stderr",
     "output_type": "stream",
     "text": [
      " 42%|████▏     | 91610/218572 [00:56<02:26, 865.28it/s]"
     ]
    },
    {
     "name": "stdout",
     "output_type": "stream",
     "text": [
      "2009\n"
     ]
    },
    {
     "name": "stderr",
     "output_type": "stream",
     "text": [
      " 42%|████▏     | 92483/218572 [00:57<02:25, 864.45it/s]"
     ]
    },
    {
     "name": "stdout",
     "output_type": "stream",
     "text": [
      "2526\n"
     ]
    },
    {
     "name": "stderr",
     "output_type": "stream",
     "text": [
      " 45%|████▍     | 97393/218572 [01:03<02:27, 820.55it/s]"
     ]
    },
    {
     "name": "stdout",
     "output_type": "stream",
     "text": [
      "52\n",
      "2107\n",
      "2108\n",
      "2213\n",
      "2217\n",
      "1710\n",
      "1712\n",
      "1717\n",
      "1718\n",
      "1719\n",
      "1711\n",
      "851\n",
      "850\n",
      "2571\n"
     ]
    },
    {
     "name": "stderr",
     "output_type": "stream",
     "text": [
      " 45%|████▍     | 97639/218572 [01:03<02:30, 803.99it/s]"
     ]
    },
    {
     "name": "stdout",
     "output_type": "stream",
     "text": [
      "245\n",
      "247\n",
      "248\n",
      "246\n",
      "2164\n",
      "2166\n",
      "2321\n",
      "2317"
     ]
    },
    {
     "name": "stderr",
     "output_type": "stream",
     "text": [
      " 45%|████▍     | 97800/218572 [01:03<02:31, 795.99it/s]"
     ]
    },
    {
     "name": "stdout",
     "output_type": "stream",
     "text": [
      "\n",
      "554\n",
      "556\n",
      "555\n",
      "921\n",
      "1482\n",
      "1774\n",
      "1773\n"
     ]
    },
    {
     "name": "stderr",
     "output_type": "stream",
     "text": [
      " 45%|████▍     | 97963/218572 [01:03<02:32, 792.08it/s]"
     ]
    },
    {
     "name": "stdout",
     "output_type": "stream",
     "text": [
      "1644\n",
      "1645\n",
      "1651\n",
      "2575\n"
     ]
    },
    {
     "name": "stderr",
     "output_type": "stream",
     "text": [
      " 45%|████▍     | 98205/218572 [01:04<02:32, 788.10it/s]"
     ]
    },
    {
     "name": "stdout",
     "output_type": "stream",
     "text": [
      "2639\n",
      "2643\n",
      "2632\n",
      "2633\n",
      "2634\n",
      "2635\n",
      "2637\n",
      "2638\n",
      "2644\n",
      "2645\n",
      "2647\n",
      "2648\n",
      "2649\n",
      "2650\n",
      "2651\n",
      "2653\n",
      "2656\n",
      "2661\n",
      "2636\n",
      "2316\n"
     ]
    },
    {
     "name": "stderr",
     "output_type": "stream",
     "text": [
      " 45%|████▌     | 98445/218572 [01:04<02:32, 786.99it/s]"
     ]
    },
    {
     "name": "stdout",
     "output_type": "stream",
     "text": [
      "2374\n"
     ]
    },
    {
     "name": "stderr",
     "output_type": "stream",
     "text": [
      " 48%|████▊     | 104938/218572 [01:12<02:28, 764.09it/s]"
     ]
    },
    {
     "name": "stdout",
     "output_type": "stream",
     "text": [
      "50\n",
      "55\n",
      "59\n",
      "849\n"
     ]
    },
    {
     "name": "stderr",
     "output_type": "stream",
     "text": [
      " 48%|████▊     | 105250/218572 [01:13<02:27, 767.49it/s]"
     ]
    },
    {
     "name": "stdout",
     "output_type": "stream",
     "text": [
      "1\n",
      "12\n",
      "56\n",
      "1680\n",
      "1270\n",
      "940\n",
      "2815\n",
      "875\n",
      "2409\n",
      "313\n",
      "110\n",
      "515\n",
      "852\n",
      "2727\n",
      "279\n",
      "2297\n",
      "2078\n",
      "2167\n",
      "2255\n",
      "383\n",
      "2249\n",
      "1614\n",
      "1722\n",
      "1857\n",
      "1924\n",
      "1777\n",
      "2528"
     ]
    },
    {
     "name": "stderr",
     "output_type": "stream",
     "text": [
      " 48%|████▊     | 105404/218572 [01:13<02:30, 754.44it/s]"
     ]
    },
    {
     "name": "stdout",
     "output_type": "stream",
     "text": [
      "\n",
      "2576\n",
      "2465\n",
      "2806\n",
      "1942\n"
     ]
    },
    {
     "name": "stderr",
     "output_type": "stream",
     "text": [
      " 48%|████▊     | 105861/218572 [01:14<02:30, 748.69it/s]"
     ]
    },
    {
     "name": "stdout",
     "output_type": "stream",
     "text": [
      "1730\n",
      "1939\n"
     ]
    },
    {
     "name": "stderr",
     "output_type": "stream",
     "text": [
      " 49%|████▉     | 106555/218572 [01:14<02:25, 767.61it/s]"
     ]
    },
    {
     "name": "stdout",
     "output_type": "stream",
     "text": [
      "5\n",
      "1948\n",
      "14\n",
      "1279\n",
      "2818\n",
      "2416\n",
      "321\n",
      "212\n",
      "419\n",
      "1905\n",
      "2733\n",
      "750\n",
      "2081\n",
      "2171\n",
      "2254\n",
      "2584\n",
      "1443\n",
      "2578\n",
      "2665\n"
     ]
    },
    {
     "name": "stderr",
     "output_type": "stream",
     "text": [
      " 49%|████▉     | 107391/218572 [01:16<02:28, 750.38it/s]"
     ]
    },
    {
     "name": "stdout",
     "output_type": "stream",
     "text": [
      "53\n",
      "86\n",
      "1501\n",
      "1304\n",
      "947\n",
      "2828\n",
      "346\n",
      "2435\n",
      "224\n",
      "341\n",
      "121\n",
      "447\n",
      "1674\n",
      "178\n",
      "288\n",
      "770\n",
      "2605\n",
      "390\n",
      "1866\n"
     ]
    },
    {
     "name": "stderr",
     "output_type": "stream",
     "text": [
      " 49%|████▉     | 107542/218572 [01:16<02:30, 735.50it/s]"
     ]
    },
    {
     "name": "stdout",
     "output_type": "stream",
     "text": [
      "2672\n"
     ]
    },
    {
     "name": "stderr",
     "output_type": "stream",
     "text": [
      " 50%|████▉     | 108409/218572 [01:17<02:17, 799.74it/s]"
     ]
    },
    {
     "name": "stdout",
     "output_type": "stream",
     "text": [
      "2110\n",
      "2093\n",
      "2247\n",
      "2111\n",
      "1155\n",
      "2090\n",
      "1431\n",
      "1432\n",
      "1311\n",
      "1312\n",
      "1314\n",
      "1315\n",
      "1316\n",
      "1403\n",
      "1430\n",
      "1433\n",
      "1434\n",
      "1435\n",
      "1617\n",
      "1313\n",
      "461\n",
      "462\n",
      "463\n",
      "464\n",
      "465\n",
      "466\n",
      "467\n",
      "468\n",
      "458\n",
      "459\n",
      "460\n",
      "1927\n",
      "752\n",
      "753\n",
      "2611\n",
      "2613\n",
      "2616\n",
      "2617\n",
      "2619\n",
      "2624\n",
      "2623\n",
      "2622\n",
      "2612\n",
      "2614\n",
      "2618\n",
      "2621\n",
      "2615\n",
      "2718\n",
      "2717\n",
      "2319\n"
     ]
    },
    {
     "name": "stderr",
     "output_type": "stream",
     "text": [
      " 50%|████▉     | 108568/218572 [01:17<02:26, 750.07it/s]"
     ]
    },
    {
     "name": "stdout",
     "output_type": "stream",
     "text": [
      "1772\n"
     ]
    },
    {
     "name": "stderr",
     "output_type": "stream",
     "text": [
      " 50%|████▉     | 108941/218572 [01:18<02:28, 737.14it/s]"
     ]
    },
    {
     "name": "stdout",
     "output_type": "stream",
     "text": [
      "2105\n",
      "1780\n",
      "2106\n",
      "1122\n",
      "2569\n",
      "871\n",
      "2126\n",
      "2091\n",
      "2125\n",
      "848\n",
      "1106\n",
      "1108\n",
      "1133\n",
      "2662\n",
      "2318\n"
     ]
    },
    {
     "name": "stderr",
     "output_type": "stream",
     "text": [
      " 50%|████▉     | 109101/218572 [01:18<02:22, 770.79it/s]"
     ]
    },
    {
     "name": "stdout",
     "output_type": "stream",
     "text": [
      "2132\n",
      "2196\n",
      "1967\n",
      "2131\n",
      "64\n",
      "1278\n",
      "1537\n",
      "64\n",
      "2415\n",
      "320\n",
      "211\n",
      "749\n",
      "2583\n",
      "2137\n",
      "1955\n",
      "72\n",
      "1418\n",
      "1288\n",
      "1493\n",
      "887\n",
      "1135\n",
      "2423\n",
      "327\n",
      "328\n",
      "430\n",
      "1864\n",
      "1827\n",
      "1938\n",
      "858\n",
      "2263\n",
      "1549\n",
      "2332\n"
     ]
    },
    {
     "name": "stderr",
     "output_type": "stream",
     "text": [
      " 50%|█████     | 109665/218572 [01:19<02:16, 796.18it/s]"
     ]
    },
    {
     "name": "stdout",
     "output_type": "stream",
     "text": [
      "2136\n",
      "2138\n",
      "1505\n",
      "1506\n",
      "1507\n",
      "1508\n",
      "1509\n",
      "1511\n",
      "1520\n",
      "1382\n",
      "1383\n",
      "1384\n",
      "1385\n",
      "1386\n",
      "1387\n",
      "1390\n",
      "1391\n",
      "1392\n",
      "1510\n",
      "1515\n",
      "1526\n",
      "1534\n",
      "1517\n",
      "1516\n",
      "1518\n",
      "1519\n",
      "1521\n",
      "1522\n",
      "1523\n",
      "1524\n",
      "1388\n",
      "1389\n",
      "1579\n",
      "1580\n",
      "1581\n",
      "1586\n",
      "1587\n",
      "1588\n",
      "1589\n",
      "1590\n",
      "1592\n",
      "1593\n",
      "1578\n",
      "1591\n",
      "1789\n",
      "1791\n",
      "1792\n",
      "1794\n",
      "1795\n",
      "1788\n",
      "1787\n",
      "1900\n",
      "2334\n",
      "2334\n",
      "1484\n"
     ]
    },
    {
     "name": "stderr",
     "output_type": "stream",
     "text": [
      " 50%|█████     | 109908/218572 [01:19<02:21, 770.34it/s]"
     ]
    },
    {
     "name": "stdout",
     "output_type": "stream",
     "text": [
      "2150\n",
      "2151\n",
      "2003\n",
      "1998\n",
      "2002\n",
      "2024\n",
      "2152\n",
      "2153\n",
      "149\n",
      "160\n",
      "1334\n",
      "942\n",
      "256\n",
      "128\n",
      "508\n",
      "486\n",
      "497\n",
      "498\n",
      "501\n",
      "525\n",
      "547\n",
      "1726\n",
      "522\n",
      "2652\n",
      "399\n",
      "1487\n",
      "1875\n"
     ]
    },
    {
     "name": "stderr",
     "output_type": "stream",
     "text": [
      " 50%|█████     | 110294/218572 [01:19<02:26, 739.45it/s]"
     ]
    },
    {
     "name": "stdout",
     "output_type": "stream",
     "text": [
      "2178\n",
      "2224\n",
      "2227\n",
      "2226\n",
      "1003\n",
      "649\n",
      "650\n",
      "2179\n",
      "2180\n",
      "2181\n",
      "2182\n",
      "2235\n",
      "709\n",
      "1163\n",
      "1166\n",
      "1168\n",
      "1169\n",
      "1165\n",
      "1167\n",
      "241\n",
      "2361\n"
     ]
    },
    {
     "name": "stderr",
     "output_type": "stream",
     "text": [
      " 51%|█████     | 111168/218572 [01:21<02:29, 717.94it/s]"
     ]
    },
    {
     "name": "stdout",
     "output_type": "stream",
     "text": [
      "2203\n",
      "1882\n",
      "2189\n",
      "2543\n"
     ]
    },
    {
     "name": "stderr",
     "output_type": "stream",
     "text": [
      " 51%|█████     | 111607/218572 [01:21<02:28, 719.60it/s]"
     ]
    },
    {
     "name": "stdout",
     "output_type": "stream",
     "text": [
      "1953\n",
      "1284\n",
      "1416\n",
      "1603\n",
      "1602\n",
      "2821\n",
      "425\n",
      "2421\n",
      "326\n",
      "426\n",
      "1849\n",
      "757\n",
      "835\n",
      "2079\n",
      "2169\n",
      "2529\n",
      "2577\n",
      "2663\n"
     ]
    },
    {
     "name": "stderr",
     "output_type": "stream",
     "text": [
      " 51%|█████▏    | 112466/218572 [01:23<02:30, 705.21it/s]"
     ]
    },
    {
     "name": "stdout",
     "output_type": "stream",
     "text": [
      "1162\n",
      "448\n",
      "1489\n",
      "2589\n",
      "2474\n",
      "2738\n"
     ]
    },
    {
     "name": "stderr",
     "output_type": "stream",
     "text": [
      " 52%|█████▏    | 112751/218572 [01:23<02:30, 702.01it/s]"
     ]
    },
    {
     "name": "stdout",
     "output_type": "stream",
     "text": [
      "1605\n"
     ]
    },
    {
     "name": "stderr",
     "output_type": "stream",
     "text": [
      " 52%|█████▏    | 113121/218572 [01:23<02:25, 722.36it/s]"
     ]
    },
    {
     "name": "stdout",
     "output_type": "stream",
     "text": [
      "2193\n",
      "82\n",
      "1295\n",
      "2430\n",
      "102\n",
      "1669\n",
      "1929\n",
      "1920\n",
      "2599\n",
      "2211\n",
      "2035\n",
      "159\n",
      "2840\n",
      "2842\n",
      "2841\n",
      "358\n",
      "2484\n",
      "359\n",
      "133\n",
      "500\n",
      "1732\n",
      "2100\n",
      "2655\n",
      "2215\n",
      "2188\n",
      "1962\n",
      "2674\n"
     ]
    },
    {
     "name": "stderr",
     "output_type": "stream",
     "text": [
      " 52%|█████▏    | 113415/218572 [01:24<02:01, 867.39it/s]"
     ]
    },
    {
     "name": "stdout",
     "output_type": "stream",
     "text": [
      "2216\n",
      "2220\n",
      "1111\n",
      "1113\n",
      "2219\n",
      "2243\n",
      "2244\n",
      "2245\n",
      "2248\n",
      "2231\n",
      "2232\n",
      "2233\n",
      "2237\n",
      "2238\n",
      "2240\n",
      "2246\n",
      "2241\n",
      "2242\n",
      "192\n",
      "191\n",
      "193\n",
      "194\n",
      "195\n",
      "196\n",
      "197\n",
      "198\n",
      "199\n",
      "201\n",
      "202\n",
      "203\n",
      "1008\n",
      "1009\n",
      "1010\n",
      "1011\n",
      "1012\n",
      "1013\n",
      "1014\n",
      "1015\n",
      "1021\n",
      "1018\n",
      "1019\n",
      "1020\n",
      "1022\n",
      "1026\n",
      "1028\n",
      "1029\n",
      "1031\n",
      "1033\n",
      "1038\n",
      "1039\n",
      "1041\n",
      "1042\n",
      "1043\n",
      "1044\n",
      "1045\n",
      "1047\n",
      "1046\n",
      "1048\n",
      "1049\n",
      "1051\n",
      "1052\n",
      "1053\n",
      "1054\n",
      "1055\n",
      "1056\n",
      "1057\n",
      "1058\n",
      "1060\n",
      "1087\n",
      "1088\n",
      "1089\n",
      "1090\n",
      "1064\n",
      "1065\n",
      "1066\n",
      "1067\n",
      "1071\n",
      "1077\n",
      "1072\n",
      "1073\n",
      "1074\n",
      "1075\n",
      "1076\n",
      "1079\n",
      "1080\n",
      "1082\n",
      "1083\n",
      "1084\n",
      "1092\n",
      "1093\n",
      "1094\n",
      "1095\n",
      "1096\n",
      "1091\n",
      "1097\n",
      "1098\n",
      "1102\n",
      "1103\n",
      "1105\n",
      "1030\n",
      "1099\n",
      "1037\n",
      "686\n",
      "687\n",
      "690\n",
      "691\n",
      "692\n",
      "694\n",
      "697\n",
      "705\n",
      "706\n",
      "707\n",
      "708\n",
      "714\n",
      "715\n",
      "717\n",
      "722\n",
      "721\n",
      "724\n",
      "725\n",
      "726\n",
      "729\n",
      "733\n",
      "665\n",
      "670\n",
      "674\n",
      "675\n",
      "676\n",
      "677\n",
      "678\n",
      "709\n"
     ]
    },
    {
     "name": "stderr",
     "output_type": "stream",
     "text": [
      " 52%|█████▏    | 113585/218572 [01:24<02:17, 764.97it/s]"
     ]
    },
    {
     "name": "stdout",
     "output_type": "stream",
     "text": [
      "1798\n",
      "1799\n",
      "1800\n",
      "1801\n",
      "1804\n",
      "695\n",
      "1266\n",
      "1490\n",
      "1620\n",
      "2472\n"
     ]
    },
    {
     "name": "stderr",
     "output_type": "stream",
     "text": [
      " 52%|█████▏    | 114172/218572 [01:25<02:28, 704.79it/s]"
     ]
    },
    {
     "name": "stdout",
     "output_type": "stream",
     "text": [
      "2222\n",
      "2223\n",
      "2225\n",
      "2229\n",
      "2230\n",
      "1004\n",
      "651\n",
      "1796\n",
      "730\n",
      "2236\n",
      "1981\n",
      "1982\n",
      "1983\n"
     ]
    },
    {
     "name": "stderr",
     "output_type": "stream",
     "text": [
      " 52%|█████▏    | 114391/218572 [01:25<02:28, 699.76it/s]"
     ]
    },
    {
     "name": "stdout",
     "output_type": "stream",
     "text": [
      "1949\n",
      "1280\n",
      "1538\n",
      "1411\n",
      "231\n",
      "323\n",
      "420\n",
      "1657\n",
      "1852\n",
      "780\n",
      "2301\n",
      "2585\n",
      "2251\n",
      "659\n"
     ]
    },
    {
     "name": "stderr",
     "output_type": "stream",
     "text": [
      " 52%|█████▏    | 114741/218572 [01:26<02:33, 676.80it/s]"
     ]
    },
    {
     "name": "stdout",
     "output_type": "stream",
     "text": [
      "2001\n",
      "1985\n",
      "2147\n",
      "154\n",
      "155\n",
      "345\n",
      "1447\n",
      "1633\n",
      "927\n",
      "928\n",
      "176\n",
      "352\n",
      "129\n",
      "1806\n",
      "183\n",
      "2095\n",
      "2239\n",
      "2646\n",
      "2270\n"
     ]
    },
    {
     "name": "stderr",
     "output_type": "stream",
     "text": [
      " 53%|█████▎    | 115166/218572 [01:26<02:25, 709.21it/s]"
     ]
    },
    {
     "name": "stdout",
     "output_type": "stream",
     "text": [
      "1427\n",
      "1307\n",
      "953\n",
      "903\n",
      "351\n",
      "2438\n",
      "228\n",
      "125\n",
      "454\n",
      "1805\n",
      "1677\n",
      "1897\n",
      "2745\n",
      "839\n",
      "2393\n",
      "2608\n"
     ]
    },
    {
     "name": "stderr",
     "output_type": "stream",
     "text": [
      " 53%|█████▎    | 115849/218572 [01:27<02:05, 819.98it/s]"
     ]
    },
    {
     "name": "stdout",
     "output_type": "stream",
     "text": [
      "2046\n",
      "2044\n",
      "2054\n",
      "2053\n",
      "2048\n",
      "2055\n",
      "2057\n",
      "2061\n",
      "2049\n",
      "2062\n",
      "2051\n",
      "2173\n",
      "2059\n",
      "1450\n",
      "1451\n",
      "1453\n",
      "773\n",
      "2843\n",
      "2844\n",
      "2845\n",
      "2846\n",
      "2848\n",
      "2849\n",
      "2850\n",
      "2851\n",
      "427\n",
      "965\n",
      "973\n",
      "974\n",
      "976\n",
      "977\n",
      "978\n",
      "980\n",
      "979\n",
      "353\n",
      "1347\n",
      "2488\n",
      "2489\n",
      "2490\n",
      "2491\n",
      "2492\n",
      "2498\n",
      "2499\n",
      "2500\n",
      "2501\n",
      "2503\n",
      "2507\n",
      "263\n",
      "265\n",
      "266\n",
      "269\n",
      "267\n",
      "268\n",
      "595\n",
      "601\n",
      "603\n",
      "604\n",
      "605\n",
      "606\n",
      "607\n",
      "608\n",
      "609\n",
      "610\n",
      "594\n",
      "598\n",
      "612\n",
      "1740\n",
      "1742\n",
      "1747\n",
      "1757\n",
      "1758\n",
      "1759\n",
      "1760\n",
      "1761\n",
      "1844\n",
      "1848\n",
      "1898\n",
      "1911\n",
      "1912\n",
      "1913\n",
      "1914\n",
      "1739\n",
      "1741\n",
      "1935\n",
      "327\n",
      "2686\n",
      "2688\n",
      "2690\n",
      "2691\n",
      "2693\n",
      "2695\n",
      "2696\n",
      "2685\n",
      "2692\n"
     ]
    },
    {
     "name": "stderr",
     "output_type": "stream",
     "text": [
      " 53%|█████▎    | 116010/218572 [01:27<02:19, 734.76it/s]"
     ]
    },
    {
     "name": "stdout",
     "output_type": "stream",
     "text": [
      "2060\n",
      "2694\n",
      "663\n",
      "2022\n",
      "1994\n",
      "2005\n",
      "2037\n",
      "2041\n",
      "1995\n",
      "1331\n",
      "1634\n",
      "2459\n",
      "242\n",
      "333"
     ]
    },
    {
     "name": "stderr",
     "output_type": "stream",
     "text": [
      " 53%|█████▎    | 116183/218572 [01:28<02:18, 740.80it/s]"
     ]
    },
    {
     "name": "stdout",
     "output_type": "stream",
     "text": [
      "\n",
      "481\n",
      "510\n",
      "487\n",
      "488\n",
      "491\n",
      "490\n",
      "492\n",
      "493\n",
      "495\n",
      "494\n",
      "531\n",
      "548\n",
      "513\n",
      "1889\n",
      "2383\n",
      "2135\n",
      "1714\n",
      "1415\n",
      "338\n",
      "1282\n",
      "1539\n",
      "1601\n",
      "1540\n",
      "2819\n",
      "2419\n",
      "325\n",
      "422\n",
      "1659\n",
      "1828\n",
      "754\n",
      "755\n",
      "2400\n",
      "2587\n",
      "652\n"
     ]
    },
    {
     "name": "stderr",
     "output_type": "stream",
     "text": [
      " 53%|█████▎    | 116403/218572 [01:28<02:26, 697.57it/s]"
     ]
    },
    {
     "name": "stdout",
     "output_type": "stream",
     "text": [
      "1961\n",
      "81\n",
      "1696\n",
      "1697\n",
      "1699\n",
      "1595\n",
      "1596\n",
      "1597\n",
      "1598\n",
      "1600\n",
      "2825\n",
      "2429\n",
      "99\n",
      "100\n",
      "101\n",
      "98\n"
     ]
    },
    {
     "name": "stderr",
     "output_type": "stream",
     "text": [
      " 53%|█████▎    | 116613/218572 [01:28<02:29, 683.06it/s]"
     ]
    },
    {
     "name": "stdout",
     "output_type": "stream",
     "text": [
      "1668\n",
      "1512"
     ]
    },
    {
     "name": "stderr",
     "output_type": "stream",
     "text": [
      " 53%|█████▎    | 116750/218572 [01:29<02:31, 672.88it/s]"
     ]
    },
    {
     "name": "stdout",
     "output_type": "stream",
     "text": [
      "\n",
      "878\n",
      "881\n",
      "882\n",
      "718\n",
      "719\n",
      "720\n",
      "768\n",
      "769\n",
      "648\n"
     ]
    },
    {
     "name": "stderr",
     "output_type": "stream",
     "text": [
      " 54%|█████▎    | 116954/218572 [01:29<02:32, 666.81it/s]"
     ]
    },
    {
     "name": "stdout",
     "output_type": "stream",
     "text": [
      "640\n",
      "641\n",
      "911\n",
      "912\n",
      "913\n",
      "914\n",
      "915\n",
      "938\n",
      "1040\n",
      "1081\n",
      "1471\n",
      "1472\n",
      "1474\n",
      "1475\n",
      "1755\n",
      "1752\n",
      "1753\n",
      "1748\n",
      "1749\n",
      "1750\n",
      "1751\n",
      "1528\n",
      "1529\n",
      "1530\n",
      "1531\n",
      "1532\n",
      "1533\n",
      "1513\n",
      "1171\n",
      "1172\n",
      "1174\n",
      "1175\n",
      "1663\n",
      "1661\n",
      "1173\n"
     ]
    },
    {
     "name": "stderr",
     "output_type": "stream",
     "text": [
      " 54%|█████▎    | 117225/218572 [01:29<02:31, 670.68it/s]"
     ]
    },
    {
     "name": "stdout",
     "output_type": "stream",
     "text": [
      "1559\n",
      "1558\n",
      "2562\n",
      "2563\n",
      "2564\n",
      "2565\n"
     ]
    },
    {
     "name": "stderr",
     "output_type": "stream",
     "text": [
      " 54%|█████▎    | 117360/218572 [01:29<02:35, 650.12it/s]"
     ]
    },
    {
     "name": "stdout",
     "output_type": "stream",
     "text": [
      "2497\n",
      "2493\n",
      "2494\n",
      "2348\n"
     ]
    },
    {
     "name": "stderr",
     "output_type": "stream",
     "text": [
      " 54%|█████▍    | 117564/218572 [01:30<02:31, 667.06it/s]"
     ]
    },
    {
     "name": "stdout",
     "output_type": "stream",
     "text": [
      "642\n",
      "2018\n",
      "249\n"
     ]
    },
    {
     "name": "stderr",
     "output_type": "stream",
     "text": [
      " 54%|█████▍    | 118582/218572 [01:31<02:29, 666.60it/s]"
     ]
    },
    {
     "name": "stdout",
     "output_type": "stream",
     "text": [
      "2458\n",
      "2460\n",
      "2461\n"
     ]
    },
    {
     "name": "stderr",
     "output_type": "stream",
     "text": [
      " 54%|█████▍    | 118851/218572 [01:32<02:29, 665.20it/s]"
     ]
    },
    {
     "name": "stdout",
     "output_type": "stream",
     "text": [
      "624\n"
     ]
    },
    {
     "name": "stderr",
     "output_type": "stream",
     "text": [
      " 55%|█████▍    | 119323/218572 [01:32<02:29, 663.78it/s]"
     ]
    },
    {
     "name": "stdout",
     "output_type": "stream",
     "text": [
      "667\n"
     ]
    },
    {
     "name": "stderr",
     "output_type": "stream",
     "text": [
      " 55%|█████▌    | 120989/218572 [01:35<02:34, 631.59it/s]"
     ]
    },
    {
     "name": "stdout",
     "output_type": "stream",
     "text": [
      "1689\n"
     ]
    },
    {
     "name": "stderr",
     "output_type": "stream",
     "text": [
      " 56%|█████▌    | 121771/218572 [01:36<02:31, 640.50it/s]"
     ]
    },
    {
     "name": "stdout",
     "output_type": "stream",
     "text": [
      "2527\n"
     ]
    },
    {
     "name": "stderr",
     "output_type": "stream",
     "text": [
      " 57%|█████▋    | 125175/218572 [01:42<02:41, 578.14it/s]"
     ]
    },
    {
     "name": "stdout",
     "output_type": "stream",
     "text": [
      "63\n",
      "68\n",
      "70\n",
      "74\n",
      "60\n",
      "1606\n",
      "61\n",
      "1414\n",
      "1272\n",
      "1274\n",
      "879\n",
      "880\n",
      "2412\n",
      "317\n",
      "208\n"
     ]
    },
    {
     "name": "stderr",
     "output_type": "stream",
     "text": [
      " 57%|█████▋    | 125365/218572 [01:42<02:32, 610.29it/s]"
     ]
    },
    {
     "name": "stdout",
     "output_type": "stream",
     "text": [
      "2406\n",
      "2580\n",
      "2581\n",
      "2323\n",
      "1769\n",
      "1770\n"
     ]
    },
    {
     "name": "stderr",
     "output_type": "stream",
     "text": [
      " 58%|█████▊    | 126522/218572 [01:44<02:23, 640.54it/s]"
     ]
    },
    {
     "name": "stdout",
     "output_type": "stream",
     "text": [
      "1945\n",
      "1277\n",
      "958\n",
      "237\n",
      "2414\n",
      "237\n",
      "1810\n",
      "2729\n",
      "837\n",
      "2205\n",
      "2582\n",
      "406\n",
      "1880\n",
      "1950\n",
      "67\n",
      "421\n",
      "661\n"
     ]
    },
    {
     "name": "stderr",
     "output_type": "stream",
     "text": [
      " 58%|█████▊    | 126719/218572 [01:44<02:24, 634.01it/s]"
     ]
    },
    {
     "name": "stdout",
     "output_type": "stream",
     "text": [
      "69\n",
      "1681\n",
      "1283\n",
      "2820\n",
      "885\n",
      "2420\n",
      "423\n",
      "1660\n",
      "1816\n",
      "2168\n",
      "2256\n",
      "1068\n",
      "2328\n"
     ]
    },
    {
     "name": "stderr",
     "output_type": "stream",
     "text": [
      " 58%|█████▊    | 126911/218572 [01:44<02:25, 629.52it/s]"
     ]
    },
    {
     "name": "stdout",
     "output_type": "stream",
     "text": [
      "1954\n",
      "71\n",
      "261\n",
      "1684\n",
      "1417\n",
      "1285\n",
      "886\n",
      "2422\n",
      "429\n",
      "1662\n",
      "2403\n",
      "593\n",
      "2262\n",
      "1069\n",
      "1735\n",
      "1548\n",
      "1779\n",
      "2789\n",
      "634\n"
     ]
    },
    {
     "name": "stderr",
     "output_type": "stream",
     "text": [
      " 58%|█████▊    | 127290/218572 [01:45<02:26, 625.19it/s]"
     ]
    },
    {
     "name": "stdout",
     "output_type": "stream",
     "text": [
      "75\n",
      "263\n",
      "1421\n",
      "1291\n",
      "771\n",
      "955\n",
      "889\n",
      "357\n",
      "2425\n",
      "135\n",
      "1813\n",
      "1665\n",
      "1207\n",
      "701\n",
      "2098\n",
      "2099\n",
      "626\n",
      "1974\n",
      "2593\n"
     ]
    },
    {
     "name": "stderr",
     "output_type": "stream",
     "text": [
      " 59%|█████▊    | 128107/218572 [01:46<02:26, 618.60it/s]"
     ]
    },
    {
     "name": "stdout",
     "output_type": "stream",
     "text": [
      "76\n",
      "264\n",
      "1292\n",
      "1422\n",
      "2824\n",
      "890\n",
      "2426\n",
      "433\n",
      "1666\n",
      "2594\n",
      "2290\n",
      "639\n",
      "1059\n",
      "1461\n",
      "1462\n"
     ]
    },
    {
     "name": "stderr",
     "output_type": "stream",
     "text": [
      " 59%|█████▊    | 128293/218572 [01:47<02:27, 611.78it/s]"
     ]
    },
    {
     "name": "stdout",
     "output_type": "stream",
     "text": [
      "2547\n",
      "2343\n",
      "2833\n",
      "2835\n"
     ]
    },
    {
     "name": "stderr",
     "output_type": "stream",
     "text": [
      " 59%|█████▉    | 128979/218572 [01:48<02:24, 620.48it/s]"
     ]
    },
    {
     "name": "stdout",
     "output_type": "stream",
     "text": [
      "2021\n"
     ]
    },
    {
     "name": "stderr",
     "output_type": "stream",
     "text": [
      " 59%|█████▉    | 129730/218572 [01:49<02:23, 620.08it/s]"
     ]
    },
    {
     "name": "stdout",
     "output_type": "stream",
     "text": [
      "1959\n",
      "77\n",
      "1293\n",
      "1423\n",
      "997\n",
      "891\n",
      "2427\n",
      "89\n",
      "1667\n",
      "712\n",
      "713\n",
      "2595\n",
      "925\n",
      "933\n",
      "934\n",
      "1036\n",
      "1078\n",
      "2548\n"
     ]
    },
    {
     "name": "stderr",
     "output_type": "stream",
     "text": [
      " 59%|█████▉    | 129855/218572 [01:49<02:26, 607.01it/s]"
     ]
    },
    {
     "name": "stdout",
     "output_type": "stream",
     "text": [
      "182\n",
      "2347\n"
     ]
    },
    {
     "name": "stderr",
     "output_type": "stream",
     "text": [
      " 59%|█████▉    | 130040/218572 [01:49<02:25, 608.67it/s]"
     ]
    },
    {
     "name": "stdout",
     "output_type": "stream",
     "text": [
      "2457\n",
      "623\n"
     ]
    },
    {
     "name": "stderr",
     "output_type": "stream",
     "text": [
      " 60%|█████▉    | 131026/218572 [01:51<02:20, 622.43it/s]"
     ]
    },
    {
     "name": "stdout",
     "output_type": "stream",
     "text": [
      "1960\n",
      "78\n",
      "79\n",
      "80\n",
      "1585\n",
      "892\n",
      "1136\n",
      "596\n",
      "2428\n",
      "332\n",
      "435\n",
      "436\n",
      "200\n",
      "2395\n",
      "2596\n",
      "2597\n",
      "1035\n",
      "1460\n",
      "2019\n",
      "2546\n"
     ]
    },
    {
     "name": "stderr",
     "output_type": "stream",
     "text": [
      " 60%|██████    | 131211/218572 [01:51<02:25, 601.33it/s]"
     ]
    },
    {
     "name": "stdout",
     "output_type": "stream",
     "text": [
      "2058\n"
     ]
    },
    {
     "name": "stderr",
     "output_type": "stream",
     "text": [
      " 60%|██████    | 131701/218572 [01:52<02:23, 603.71it/s]"
     ]
    },
    {
     "name": "stdout",
     "output_type": "stream",
     "text": [
      "84\n",
      "1577\n",
      "1299\n",
      "1498\n",
      "2432\n",
      "337\n",
      "338\n",
      "112\n",
      "442\n",
      "1790\n",
      "281\n",
      "2253\n",
      "2602\n",
      "1101\n"
     ]
    },
    {
     "name": "stderr",
     "output_type": "stream",
     "text": [
      " 60%|██████    | 132069/218572 [01:53<02:23, 603.51it/s]"
     ]
    },
    {
     "name": "stdout",
     "output_type": "stream",
     "text": [
      "1970\n",
      "88\n",
      "124\n",
      "452\n",
      "1797\n",
      "179\n",
      "2748\n",
      "2183\n",
      "432\n",
      "1109\n",
      "1868\n",
      "1957\n"
     ]
    },
    {
     "name": "stderr",
     "output_type": "stream",
     "text": [
      " 61%|██████    | 132432/218572 [01:53<02:23, 599.01it/s]"
     ]
    },
    {
     "name": "stdout",
     "output_type": "stream",
     "text": [
      "1958\n"
     ]
    },
    {
     "name": "stderr",
     "output_type": "stream",
     "text": [
      " 61%|██████    | 132686/218572 [01:54<02:15, 633.36it/s]"
     ]
    },
    {
     "name": "stdout",
     "output_type": "stream",
     "text": [
      "1968\n",
      "1969\n",
      "87\n",
      "1491\n",
      "2436\n",
      "342\n",
      "225\n",
      "226\n",
      "225\n",
      "123\n",
      "449\n",
      "450\n",
      "1803\n",
      "1675\n",
      "1932\n",
      "1895\n",
      "2606\n",
      "1308\n",
      "904\n",
      "2439\n",
      "230\n",
      "455\n",
      "1678\n",
      "2094\n",
      "2609\n",
      "90\n",
      "2829\n",
      "905\n",
      "2440\n",
      "229\n",
      "345\n",
      "126\n",
      "456\n",
      "1679\n",
      "1198\n",
      "1200\n",
      "1202\n",
      "1199\n",
      "2746\n",
      "777\n",
      "2610\n"
     ]
    },
    {
     "name": "stderr",
     "output_type": "stream",
     "text": [
      " 61%|██████    | 132815/218572 [01:54<02:18, 617.19it/s]"
     ]
    },
    {
     "name": "stdout",
     "output_type": "stream",
     "text": [
      "1112\n",
      "232\n"
     ]
    },
    {
     "name": "stderr",
     "output_type": "stream",
     "text": [
      " 61%|██████    | 133375/218572 [01:55<02:19, 611.72it/s]"
     ]
    },
    {
     "name": "stdout",
     "output_type": "stream",
     "text": [
      "2010\n",
      "2012\n",
      "2011\n",
      "1328\n",
      "1329\n",
      "1483\n",
      "2838\n",
      "233\n",
      "517\n",
      "518\n",
      "535\n",
      "542\n",
      "541\n",
      "1811\n",
      "1034\n",
      "1973\n"
     ]
    },
    {
     "name": "stderr",
     "output_type": "stream",
     "text": [
      " 61%|██████    | 133870/218572 [01:56<02:20, 601.09it/s]"
     ]
    },
    {
     "name": "stdout",
     "output_type": "stream",
     "text": [
      "2040\n",
      "2145\n",
      "156\n",
      "1441\n",
      "1330\n",
      "981\n",
      "926\n",
      "929\n",
      "2487\n",
      "130\n",
      "489\n",
      "1688\n",
      "550\n",
      "1441\n",
      "1902\n",
      "184\n",
      "699\n",
      "2096\n",
      "2654\n",
      "1123\n",
      "1455\n",
      "1971\n"
     ]
    },
    {
     "name": "stderr",
     "output_type": "stream",
     "text": [
      " 61%|██████▏   | 134111/218572 [01:56<02:24, 584.36it/s]"
     ]
    },
    {
     "name": "stdout",
     "output_type": "stream",
     "text": [
      "625\n"
     ]
    },
    {
     "name": "stderr",
     "output_type": "stream",
     "text": [
      " 62%|██████▏   | 134772/218572 [01:57<02:18, 603.91it/s]"
     ]
    },
    {
     "name": "stdout",
     "output_type": "stream",
     "text": [
      "2052\n",
      "2502\n",
      "597\n",
      "599\n",
      "600\n",
      "2047\n",
      "344\n",
      "602\n",
      "2068\n",
      "174\n",
      "1372\n",
      "2852\n",
      "983\n",
      "271\n",
      "391\n",
      "136\n",
      "615\n",
      "1851\n",
      "2102\n",
      "2698\n"
     ]
    },
    {
     "name": "stderr",
     "output_type": "stream",
     "text": [
      " 62%|██████▏   | 134962/218572 [01:58<02:14, 621.10it/s]"
     ]
    },
    {
     "name": "stdout",
     "output_type": "stream",
     "text": [
      "175\n",
      "1373\n",
      "1557\n",
      "2853\n",
      "2514\n",
      "272\n",
      "392\n",
      "137\n",
      "617\n",
      "801\n",
      "2699\n",
      "176\n",
      "1374\n",
      "985\n",
      "2515\n",
      "273\n",
      "393\n",
      "618\n",
      "1766\n",
      "169\n",
      "2700\n",
      "1376\n",
      "1377\n",
      "1561\n",
      "987\n",
      "354\n",
      "275\n",
      "395\n",
      "621\n",
      "620\n",
      "1904\n",
      "1933\n",
      "2355\n",
      "2382\n",
      "2191\n",
      "2702\n",
      "2295\n",
      "2294\n",
      "1947\n",
      "2142\n",
      "1876\n"
     ]
    },
    {
     "name": "stderr",
     "output_type": "stream",
     "text": [
      " 62%|██████▏   | 135101/218572 [01:58<02:13, 627.24it/s]"
     ]
    },
    {
     "name": "stdout",
     "output_type": "stream",
     "text": [
      "2228\n",
      "815\n",
      "975\n",
      "969\n",
      "970\n",
      "972\n",
      "971\n",
      "2496\n",
      "1744\n",
      "1745\n",
      "2678\n",
      "2680\n",
      "2697\n",
      "1944\n",
      "1754\n",
      "1963\n",
      "83"
     ]
    },
    {
     "name": "stderr",
     "output_type": "stream",
     "text": [
      " 62%|██████▏   | 135227/218572 [01:58<02:18, 602.95it/s]"
     ]
    },
    {
     "name": "stdout",
     "output_type": "stream",
     "text": [
      "\n",
      "2826\n",
      "2431\n",
      "108\n",
      "441\n",
      "1879\n",
      "1896\n",
      "2601\n",
      "666\n",
      "668\n",
      "671\n",
      "1183\n",
      "2513\n",
      "2512\n"
     ]
    },
    {
     "name": "stderr",
     "output_type": "stream",
     "text": [
      " 62%|██████▏   | 135591/218572 [01:59<02:38, 522.63it/s]"
     ]
    },
    {
     "name": "stdout",
     "output_type": "stream",
     "text": [
      "1965\n",
      "998\n",
      "2827\n",
      "2433\n",
      "444\n",
      "1192\n",
      "1193\n",
      "1196\n",
      "1219\n",
      "1194\n",
      "1195\n",
      "1227\n",
      "693\n",
      "779\n",
      "840\n",
      "2192\n",
      "2603\n",
      "2266\n",
      "1996\n",
      "1448\n",
      "1486\n",
      "1536\n"
     ]
    },
    {
     "name": "stderr",
     "output_type": "stream",
     "text": [
      " 62%|██████▏   | 135708/218572 [01:59<02:37, 527.77it/s]"
     ]
    },
    {
     "name": "stdout",
     "output_type": "stream",
     "text": [
      "2809\n"
     ]
    },
    {
     "name": "stderr",
     "output_type": "stream",
     "text": [
      " 62%|██████▏   | 136591/218572 [02:01<02:21, 579.75it/s]"
     ]
    },
    {
     "name": "stdout",
     "output_type": "stream",
     "text": [
      "1966\n",
      "1303\n",
      "2434\n",
      "340\n",
      "445\n",
      "473\n",
      "520\n",
      "2604\n",
      "2036\n",
      "158\n",
      "1324\n",
      "1325\n",
      "1479\n",
      "1640\n",
      "765\n",
      "2839\n",
      "935\n",
      "2485\n",
      "2560\n",
      "360\n",
      "132\n",
      "499\n",
      "1815\n",
      "186\n",
      "700\n",
      "2103\n"
     ]
    },
    {
     "name": "stderr",
     "output_type": "stream",
     "text": [
      " 63%|██████▎   | 136766/218572 [02:01<02:34, 529.94it/s]"
     ]
    },
    {
     "name": "stdout",
     "output_type": "stream",
     "text": [
      "1972\n"
     ]
    },
    {
     "name": "stderr",
     "output_type": "stream",
     "text": [
      " 63%|██████▎   | 137499/218572 [02:02<02:36, 519.63it/s]"
     ]
    },
    {
     "name": "stdout",
     "output_type": "stream",
     "text": [
      "2056\n",
      "2847\n",
      "2407\n",
      "2682\n",
      "658\n",
      "177\n",
      "1375\n",
      "986\n",
      "2516\n",
      "274\n",
      "394\n",
      "619\n",
      "1767\n",
      "170\n",
      "855\n",
      "2783\n",
      "2701\n",
      "1943\n"
     ]
    },
    {
     "name": "stderr",
     "output_type": "stream",
     "text": [
      " 63%|██████▎   | 137673/218572 [02:03<02:28, 543.02it/s]"
     ]
    },
    {
     "name": "stdout",
     "output_type": "stream",
     "text": [
      "2443\n"
     ]
    },
    {
     "name": "stderr",
     "output_type": "stream",
     "text": [
      " 63%|██████▎   | 138021/218572 [02:03<02:20, 575.08it/s]"
     ]
    },
    {
     "name": "stdout",
     "output_type": "stream",
     "text": [
      "2689\n",
      "2050\n",
      "1652\n"
     ]
    },
    {
     "name": "stderr",
     "output_type": "stream",
     "text": [
      " 63%|██████▎   | 138321/218572 [02:04<02:17, 582.48it/s]"
     ]
    },
    {
     "name": "stdout",
     "output_type": "stream",
     "text": [
      "1242\n",
      "1186\n",
      "1762\n",
      "1956\n",
      "1419\n",
      "1289\n",
      "888\n",
      "2424\n",
      "431\n",
      "1664\n",
      "1886\n",
      "592\n",
      "2592\n"
     ]
    },
    {
     "name": "stderr",
     "output_type": "stream",
     "text": [
      " 63%|██████▎   | 138475/218572 [02:06<10:12, 130.73it/s]"
     ]
    },
    {
     "name": "stdout",
     "output_type": "stream",
     "text": [
      "758\n",
      "841\n",
      "2080\n",
      "2170\n",
      "1100\n",
      "1733\n",
      "1941\n",
      "2530\n",
      "2574\n",
      "2664"
     ]
    },
    {
     "name": "stderr",
     "output_type": "stream",
     "text": [
      " 63%|██████▎   | 138592/218572 [02:06<06:01, 221.31it/s]"
     ]
    },
    {
     "name": "stdout",
     "output_type": "stream",
     "text": [
      "\n"
     ]
    },
    {
     "name": "stderr",
     "output_type": "stream",
     "text": [
      " 64%|██████▎   | 138825/218572 [02:07<03:09, 420.91it/s]"
     ]
    },
    {
     "name": "stdout",
     "output_type": "stream",
     "text": [
      "1977\n"
     ]
    },
    {
     "name": "stderr",
     "output_type": "stream",
     "text": [
      " 64%|██████▍   | 139448/218572 [02:08<03:25, 385.63it/s]"
     ]
    },
    {
     "name": "stdout",
     "output_type": "stream",
     "text": [
      "2823\n",
      "763\n",
      "762\n",
      "842\n",
      "2394\n",
      "2354\n"
     ]
    },
    {
     "name": "stderr",
     "output_type": "stream",
     "text": [
      " 64%|██████▍   | 139635/218572 [02:09<04:22, 300.82it/s]"
     ]
    },
    {
     "name": "stdout",
     "output_type": "stream",
     "text": [
      "85\n",
      "751\n",
      "944\n",
      "343\n",
      "115\n",
      "1793\n",
      "235\n",
      "689\n",
      "284\n",
      "2085\n",
      "2175\n"
     ]
    },
    {
     "name": "stderr",
     "output_type": "stream",
     "text": [
      " 64%|██████▍   | 139699/218572 [02:09<04:32, 289.71it/s]"
     ]
    },
    {
     "name": "stdout",
     "output_type": "stream",
     "text": [
      "387\n",
      "1104\n",
      "1025\n",
      "1734\n",
      "1716\n",
      "2534\n"
     ]
    },
    {
     "name": "stderr",
     "output_type": "stream",
     "text": [
      " 64%|██████▍   | 139781/218572 [02:10<06:45, 194.12it/s]"
     ]
    },
    {
     "name": "stdout",
     "output_type": "stream",
     "text": [
      "2468\n",
      "2331\n"
     ]
    },
    {
     "name": "stderr",
     "output_type": "stream",
     "text": [
      " 65%|██████▍   | 141081/218572 [02:13<03:17, 392.36it/s]"
     ]
    },
    {
     "name": "stdout",
     "output_type": "stream",
     "text": [
      "298\n",
      "698\n",
      "401\n",
      "1454\n",
      "1873\n",
      "2590\n"
     ]
    },
    {
     "name": "stderr",
     "output_type": "stream",
     "text": [
      " 65%|██████▍   | 141687/218572 [02:14<02:17, 558.31it/s]"
     ]
    },
    {
     "name": "stdout",
     "output_type": "stream",
     "text": [
      "293\n",
      "294\n",
      "295\n",
      "296\n",
      "2197\n",
      "400\n",
      "437\n",
      "1883\n",
      "1179\n",
      "2097\n",
      "2681\n"
     ]
    },
    {
     "name": "stderr",
     "output_type": "stream",
     "text": [
      " 65%|██████▍   | 141869/218572 [02:15<02:11, 584.80it/s]"
     ]
    },
    {
     "name": "stdout",
     "output_type": "stream",
     "text": [
      "1306\n",
      "902\n",
      "2437\n",
      "227\n",
      "451\n",
      "1802\n",
      "1676\n",
      "1836\n",
      "1903\n",
      "2089\n",
      "2190\n",
      "2607\n",
      "398\n",
      "1874\n"
     ]
    },
    {
     "name": "stderr",
     "output_type": "stream",
     "text": [
      " 65%|██████▍   | 142046/218572 [02:15<02:11, 580.61it/s]"
     ]
    },
    {
     "name": "stdout",
     "output_type": "stream",
     "text": [
      "167\n",
      "134\n",
      "1438\n",
      "2101\n",
      "1623\n",
      "2684\n"
     ]
    },
    {
     "name": "stderr",
     "output_type": "stream",
     "text": [
      " 65%|██████▌   | 142223/218572 [02:15<02:11, 579.70it/s]"
     ]
    },
    {
     "name": "stdout",
     "output_type": "stream",
     "text": [
      "361\n",
      "210\n",
      "1834\n",
      "1436\n",
      "1439\n",
      "188\n",
      "189\n",
      "702\n",
      "703\n",
      "704\n"
     ]
    },
    {
     "name": "stderr",
     "output_type": "stream",
     "text": [
      " 65%|██████▌   | 142398/218572 [02:16<02:11, 577.11it/s]"
     ]
    },
    {
     "name": "stdout",
     "output_type": "stream",
     "text": [
      "1110\n",
      "1763\n",
      "1764\n",
      "1756\n",
      "1976\n",
      "1978\n",
      "1979\n",
      "2537\n",
      "2535\n",
      "2536\n"
     ]
    },
    {
     "name": "stderr",
     "output_type": "stream",
     "text": [
      " 65%|██████▌   | 142574/218572 [02:16<02:10, 581.24it/s]"
     ]
    },
    {
     "name": "stdout",
     "output_type": "stream",
     "text": [
      "2477\n",
      "2765\n",
      "2766\n",
      "2767\n",
      "2313\n"
     ]
    },
    {
     "name": "stderr",
     "output_type": "stream",
     "text": [
      " 66%|██████▌   | 143272/218572 [02:17<02:11, 573.31it/s]"
     ]
    },
    {
     "name": "stdout",
     "output_type": "stream",
     "text": [
      "1946\n"
     ]
    },
    {
     "name": "stderr",
     "output_type": "stream",
     "text": [
      " 66%|██████▌   | 143562/218572 [02:18<02:10, 575.42it/s]"
     ]
    },
    {
     "name": "stdout",
     "output_type": "stream",
     "text": [
      "1980\n"
     ]
    },
    {
     "name": "stderr",
     "output_type": "stream",
     "text": [
      " 67%|██████▋   | 145930/218572 [02:22<02:07, 569.00it/s]"
     ]
    },
    {
     "name": "stdout",
     "output_type": "stream",
     "text": [
      "355\n",
      "276\n",
      "1808\n",
      "2198\n",
      "2703\n",
      "1612\n",
      "217\n",
      "252\n",
      "253\n"
     ]
    },
    {
     "name": "stderr",
     "output_type": "stream",
     "text": [
      " 67%|██████▋   | 146217/218572 [02:22<02:07, 567.74it/s]"
     ]
    },
    {
     "name": "stdout",
     "output_type": "stream",
     "text": [
      "2027\n",
      "1541\n",
      "1650\n",
      "1177\n",
      "1178\n",
      "1182\n",
      "1184\n",
      "1185\n",
      "1187\n",
      "1188\n",
      "1189\n",
      "1190\n",
      "1176\n",
      "1181\n",
      "1180\n"
     ]
    },
    {
     "name": "stderr",
     "output_type": "stream",
     "text": [
      " 67%|██████▋   | 146673/218572 [02:23<02:07, 562.92it/s]"
     ]
    },
    {
     "name": "stdout",
     "output_type": "stream",
     "text": [
      "250\n",
      "2043"
     ]
    },
    {
     "name": "stderr",
     "output_type": "stream",
     "text": [
      " 67%|██████▋   | 146787/218572 [02:23<02:07, 561.98it/s]"
     ]
    },
    {
     "name": "stdout",
     "output_type": "stream",
     "text": [
      "\n"
     ]
    },
    {
     "name": "stderr",
     "output_type": "stream",
     "text": [
      " 68%|██████▊   | 148803/218572 [02:27<02:15, 514.97it/s]"
     ]
    },
    {
     "name": "stdout",
     "output_type": "stream",
     "text": [
      "616\n",
      "716\n"
     ]
    },
    {
     "name": "stderr",
     "output_type": "stream",
     "text": [
      " 68%|██████▊   | 149095/218572 [07:32<7:28:07,  2.58it/s] "
     ]
    },
    {
     "name": "stdout",
     "output_type": "stream",
     "text": [
      "2464\n"
     ]
    },
    {
     "name": "stderr",
     "output_type": "stream",
     "text": [
      " 69%|██████▊   | 150058/218572 [07:34<02:35, 439.89it/s] "
     ]
    },
    {
     "name": "stdout",
     "output_type": "stream",
     "text": [
      "1297\n",
      "1437\n",
      "1335\n",
      "1456\n",
      "2591\n"
     ]
    },
    {
     "name": "stderr",
     "output_type": "stream",
     "text": [
      " 69%|██████▉   | 150404/218572 [07:35<02:19, 487.56it/s]"
     ]
    },
    {
     "name": "stdout",
     "output_type": "stream",
     "text": [
      "443\n",
      "688\n",
      "727\n",
      "2172\n",
      "613\n",
      "1023\n",
      "1444\n"
     ]
    },
    {
     "name": "stderr",
     "output_type": "stream",
     "text": [
      " 69%|██████▉   | 150504/218572 [07:35<02:18, 490.73it/s]"
     ]
    },
    {
     "name": "stdout",
     "output_type": "stream",
     "text": [
      "2666\n",
      "2441\n"
     ]
    },
    {
     "name": "stderr",
     "output_type": "stream",
     "text": [
      " 69%|██████▉   | 150864/218572 [07:36<02:21, 477.76it/s]"
     ]
    },
    {
     "name": "stdout",
     "output_type": "stream",
     "text": [
      "1576\n",
      "1575\n"
     ]
    },
    {
     "name": "stderr",
     "output_type": "stream",
     "text": [
      " 69%|██████▉   | 151521/218572 [07:37<02:13, 501.28it/s]"
     ]
    },
    {
     "name": "stdout",
     "output_type": "stream",
     "text": [
      "1201\n",
      "1209\n",
      "1210\n",
      "1211\n",
      "1212\n",
      "1213\n",
      "1214\n",
      "1215\n",
      "1216\n",
      "1268\n",
      "1264\n"
     ]
    },
    {
     "name": "stderr",
     "output_type": "stream",
     "text": [
      " 70%|██████▉   | 152343/218572 [07:39<02:10, 506.82it/s]"
     ]
    },
    {
     "name": "stdout",
     "output_type": "stream",
     "text": [
      "216\n",
      "723\n",
      "646\n",
      "1062\n"
     ]
    },
    {
     "name": "stderr",
     "output_type": "stream",
     "text": [
      " 71%|███████   | 154564/218572 [07:43<02:14, 475.33it/s]"
     ]
    },
    {
     "name": "stdout",
     "output_type": "stream",
     "text": [
      "2074\n"
     ]
    },
    {
     "name": "stderr",
     "output_type": "stream",
     "text": [
      " 71%|███████   | 155564/218572 [07:46<02:27, 428.02it/s]"
     ]
    },
    {
     "name": "stdout",
     "output_type": "stream",
     "text": [
      "2325\n"
     ]
    },
    {
     "name": "stderr",
     "output_type": "stream",
     "text": [
      " 72%|███████▏  | 156545/218572 [07:48<02:12, 466.38it/s]"
     ]
    },
    {
     "name": "stdout",
     "output_type": "stream",
     "text": [
      "2075\n"
     ]
    },
    {
     "name": "stderr",
     "output_type": "stream",
     "text": [
      " 73%|███████▎  | 159105/218572 [07:54<02:17, 433.03it/s]"
     ]
    },
    {
     "name": "stdout",
     "output_type": "stream",
     "text": [
      "2730\n",
      "745\n",
      "746\n",
      "747\n",
      "748\n",
      "2314\n",
      "2250\n",
      "2506\n"
     ]
    },
    {
     "name": "stderr",
     "output_type": "stream",
     "text": [
      " 73%|███████▎  | 159328/218572 [07:55<02:16, 434.86it/s]"
     ]
    },
    {
     "name": "stdout",
     "output_type": "stream",
     "text": [
      "662\n"
     ]
    },
    {
     "name": "stderr",
     "output_type": "stream",
     "text": [
      " 73%|███████▎  | 159751/218572 [07:56<02:06, 464.93it/s]"
     ]
    },
    {
     "name": "stdout",
     "output_type": "stream",
     "text": [
      "1607\n",
      "1017\n",
      "1161\n"
     ]
    },
    {
     "name": "stderr",
     "output_type": "stream",
     "text": [
      " 74%|███████▍  | 161934/218572 [08:01<01:55, 491.96it/s]"
     ]
    },
    {
     "name": "stdout",
     "output_type": "stream",
     "text": [
      "65\n",
      "73\n",
      "1713\n",
      "816\n",
      "817\n",
      "818\n",
      "820\n",
      "821\n",
      "822\n",
      "823\n",
      "825\n",
      "826\n",
      "827\n",
      "828\n",
      "830\n",
      "831\n",
      "832\n",
      "833\n",
      "819\n",
      "824\n",
      "829\n",
      "834\n",
      "1016\n"
     ]
    },
    {
     "name": "stderr",
     "output_type": "stream",
     "text": [
      " 74%|███████▍  | 162560/218572 [08:02<02:22, 391.76it/s]"
     ]
    },
    {
     "name": "stdout",
     "output_type": "stream",
     "text": [
      "251\n"
     ]
    },
    {
     "name": "stderr",
     "output_type": "stream",
     "text": [
      " 75%|███████▍  | 163070/218572 [08:03<01:57, 473.75it/s]"
     ]
    },
    {
     "name": "stdout",
     "output_type": "stream",
     "text": [
      "735\n",
      "736\n",
      "738\n",
      "739\n",
      "740\n",
      "741\n",
      "737\n"
     ]
    },
    {
     "name": "stderr",
     "output_type": "stream",
     "text": [
      " 75%|███████▍  | 163505/218572 [08:04<01:54, 481.57it/s]"
     ]
    },
    {
     "name": "stdout",
     "output_type": "stream",
     "text": [
      "2327\n",
      "557\n",
      "558\n",
      "559\n",
      "560\n",
      "561\n",
      "562\n",
      "563\n",
      "564\n",
      "565\n",
      "567\n",
      "568\n",
      "569\n",
      "570\n",
      "572\n",
      "566\n",
      "571\n"
     ]
    },
    {
     "name": "stderr",
     "output_type": "stream",
     "text": [
      " 75%|███████▌  | 163938/218572 [08:05<01:56, 468.69it/s]"
     ]
    },
    {
     "name": "stdout",
     "output_type": "stream",
     "text": [
      "1636\n",
      "1637\n",
      "1639\n",
      "1647\n",
      "1648\n",
      "1649\n",
      "1638\n",
      "1646\n"
     ]
    },
    {
     "name": "stderr",
     "output_type": "stream",
     "text": [
      " 75%|███████▌  | 164034/218572 [08:05<01:56, 467.34it/s]"
     ]
    },
    {
     "name": "stdout",
     "output_type": "stream",
     "text": [
      "2072\n",
      "2071\n",
      "2073\n",
      "2657\n",
      "2658\n",
      "2659\n"
     ]
    },
    {
     "name": "stderr",
     "output_type": "stream",
     "text": [
      " 75%|███████▌  | 164747/218572 [08:07<01:53, 473.65it/s]"
     ]
    },
    {
     "name": "stdout",
     "output_type": "stream",
     "text": [
      "2511\n"
     ]
    },
    {
     "name": "stderr",
     "output_type": "stream",
     "text": [
      " 78%|███████▊  | 169934/218572 [10:08<01:41, 481.53it/s]  "
     ]
    },
    {
     "name": "stdout",
     "output_type": "stream",
     "text": [
      "672\n",
      "673\n"
     ]
    },
    {
     "name": "stderr",
     "output_type": "stream",
     "text": [
      " 82%|████████▏ | 180267/218572 [10:44<01:27, 439.30it/s]"
     ]
    },
    {
     "name": "stdout",
     "output_type": "stream",
     "text": [
      "2750\n",
      "2326\n",
      "810\n",
      "811\n",
      "812\n",
      "814\n",
      "808\n",
      "809\n",
      "813\n",
      "898\n",
      "1673\n"
     ]
    },
    {
     "name": "stderr",
     "output_type": "stream",
     "text": [
      " 83%|████████▎ | 180735/218572 [10:45<03:20, 188.61it/s]"
     ]
    },
    {
     "name": "stdout",
     "output_type": "stream",
     "text": [
      "2758\n"
     ]
    },
    {
     "name": "stderr",
     "output_type": "stream",
     "text": [
      " 83%|████████▎ | 180794/218572 [10:46<03:53, 161.75it/s]"
     ]
    },
    {
     "name": "stdout",
     "output_type": "stream",
     "text": [
      "2510\n"
     ]
    },
    {
     "name": "stderr",
     "output_type": "stream",
     "text": [
      " 83%|████████▎ | 181880/218572 [10:49<01:18, 466.67it/s]"
     ]
    },
    {
     "name": "stdout",
     "output_type": "stream",
     "text": [
      "424\n",
      "521\n",
      "61\n",
      "62\n",
      "66\n",
      "2413\n",
      "319\n",
      "318\n",
      "1654\n",
      "1653\n",
      "157\n",
      "767\n",
      "932\n",
      "369\n",
      "131\n",
      "502\n",
      "297\n",
      "838\n",
      "2345\n"
     ]
    },
    {
     "name": "stderr",
     "output_type": "stream",
     "text": [
      " 83%|████████▎ | 181972/218572 [10:49<01:24, 432.24it/s]"
     ]
    },
    {
     "name": "stdout",
     "output_type": "stream",
     "text": [
      "257\n",
      "218\n",
      "1731\n"
     ]
    },
    {
     "name": "stderr",
     "output_type": "stream",
     "text": [
      " 83%|████████▎ | 182101/218572 [10:49<01:29, 405.99it/s]"
     ]
    },
    {
     "name": "stdout",
     "output_type": "stream",
     "text": [
      "258\n",
      "219\n",
      "259\n",
      "220\n",
      "262\n",
      "221\n",
      "859\n",
      "1027\n",
      "1736\n",
      "2470\n"
     ]
    },
    {
     "name": "stderr",
     "output_type": "stream",
     "text": [
      " 83%|████████▎ | 182265/218572 [10:49<01:30, 399.46it/s]"
     ]
    },
    {
     "name": "stdout",
     "output_type": "stream",
     "text": [
      "2445\n"
     ]
    },
    {
     "name": "stderr",
     "output_type": "stream",
     "text": [
      " 84%|████████▎ | 182590/218572 [10:50<01:30, 398.56it/s]"
     ]
    },
    {
     "name": "stdout",
     "output_type": "stream",
     "text": [
      "270\n",
      "222\n",
      "2042\n",
      "2752\n"
     ]
    },
    {
     "name": "stderr",
     "output_type": "stream",
     "text": [
      " 84%|████████▎ | 182757/218572 [10:51<01:37, 368.91it/s]"
     ]
    },
    {
     "name": "stdout",
     "output_type": "stream",
     "text": [
      "446\n",
      "696\n",
      "622\n",
      "1032\n",
      "1070\n",
      "1452\n",
      "1488\n",
      "1635\n",
      "1656\n",
      "1872\n",
      "1550\n",
      "2588\n"
     ]
    },
    {
     "name": "stderr",
     "output_type": "stream",
     "text": [
      " 84%|████████▎ | 182893/218572 [10:51<01:25, 418.49it/s]"
     ]
    },
    {
     "name": "stdout",
     "output_type": "stream",
     "text": [
      "2473\n"
     ]
    },
    {
     "name": "stderr",
     "output_type": "stream",
     "text": [
      " 84%|████████▍ | 183067/218572 [10:52<01:23, 427.08it/s]"
     ]
    },
    {
     "name": "stdout",
     "output_type": "stream",
     "text": [
      "1584\n"
     ]
    },
    {
     "name": "stderr",
     "output_type": "stream",
     "text": [
      " 84%|████████▍ | 183470/218572 [10:52<01:21, 431.10it/s]"
     ]
    },
    {
     "name": "stdout",
     "output_type": "stream",
     "text": [
      "1986\n",
      "1583\n",
      "299\n",
      "2199\n",
      "402\n",
      "1878\n",
      "2791\n",
      "2335\n"
     ]
    },
    {
     "name": "stderr",
     "output_type": "stream",
     "text": [
      " 84%|████████▍ | 183602/218572 [10:53<01:22, 424.09it/s]"
     ]
    },
    {
     "name": "stdout",
     "output_type": "stream",
     "text": [
      "1672\n",
      "2505\n"
     ]
    },
    {
     "name": "stderr",
     "output_type": "stream",
     "text": [
      " 84%|████████▍ | 183731/218572 [10:53<01:22, 423.07it/s]"
     ]
    },
    {
     "name": "stdout",
     "output_type": "stream",
     "text": [
      "2754\n",
      "2353\n",
      "2066\n"
     ]
    },
    {
     "name": "stderr",
     "output_type": "stream",
     "text": [
      " 84%|████████▍ | 183992/218572 [10:54<01:20, 430.83it/s]"
     ]
    },
    {
     "name": "stdout",
     "output_type": "stream",
     "text": [
      "764\n",
      "2757\n",
      "1621\n"
     ]
    },
    {
     "name": "stderr",
     "output_type": "stream",
     "text": [
      " 84%|████████▍ | 184212/218572 [10:54<01:19, 433.39it/s]"
     ]
    },
    {
     "name": "stdout",
     "output_type": "stream",
     "text": [
      "244\n",
      "329\n",
      "330\n",
      "331\n"
     ]
    },
    {
     "name": "stderr",
     "output_type": "stream",
     "text": [
      " 84%|████████▍ | 184301/218572 [10:54<01:35, 359.55it/s]"
     ]
    },
    {
     "name": "stdout",
     "output_type": "stream",
     "text": [
      "1459\n",
      "1765\n"
     ]
    },
    {
     "name": "stderr",
     "output_type": "stream",
     "text": [
      " 84%|████████▍ | 184576/218572 [10:55<01:30, 375.43it/s]"
     ]
    },
    {
     "name": "stdout",
     "output_type": "stream",
     "text": [
      "2442\n"
     ]
    },
    {
     "name": "stderr",
     "output_type": "stream",
     "text": [
      " 85%|████████▍ | 185250/218572 [10:57<01:17, 427.54it/s]"
     ]
    },
    {
     "name": "stdout",
     "output_type": "stream",
     "text": [
      "2372\n"
     ]
    },
    {
     "name": "stderr",
     "output_type": "stream",
     "text": [
      " 85%|████████▌ | 186342/218572 [11:01<01:59, 269.81it/s]"
     ]
    },
    {
     "name": "stdout",
     "output_type": "stream",
     "text": [
      "1715\n",
      "1814\n",
      "1901\n"
     ]
    },
    {
     "name": "stderr",
     "output_type": "stream",
     "text": [
      " 85%|████████▌ | 186686/218572 [11:02<01:26, 369.55it/s]"
     ]
    },
    {
     "name": "stdout",
     "output_type": "stream",
     "text": [
      "1721\n",
      "1846\n",
      "1700\n",
      "1124\n",
      "1125\n",
      "884\n",
      "2306\n",
      "1061\n",
      "1063\n"
     ]
    },
    {
     "name": "stderr",
     "output_type": "stream",
     "text": [
      " 85%|████████▌ | 186819/218572 [11:02<01:16, 415.48it/s]"
     ]
    },
    {
     "name": "stdout",
     "output_type": "stream",
     "text": [
      "1562\n"
     ]
    },
    {
     "name": "stderr",
     "output_type": "stream",
     "text": [
      " 86%|████████▌ | 187033/218572 [11:02<01:16, 414.78it/s]"
     ]
    },
    {
     "name": "stdout",
     "output_type": "stream",
     "text": [
      "2375\n"
     ]
    },
    {
     "name": "stderr",
     "output_type": "stream",
     "text": [
      " 86%|████████▌ | 187614/218572 [11:04<01:09, 448.32it/s]"
     ]
    },
    {
     "name": "stdout",
     "output_type": "stream",
     "text": [
      "1705\n",
      "484\n",
      "679\n",
      "680\n",
      "681\n",
      "682\n",
      "683\n",
      "684\n",
      "685\n",
      "1481\n",
      "2064\n",
      "2065\n"
     ]
    },
    {
     "name": "stderr",
     "output_type": "stream",
     "text": [
      " 86%|████████▋ | 188713/218572 [11:07<01:10, 421.16it/s]"
     ]
    },
    {
     "name": "stdout",
     "output_type": "stream",
     "text": [
      "1826\n",
      "1582\n",
      "1613\n",
      "1565\n",
      "2660\n"
     ]
    },
    {
     "name": "stderr",
     "output_type": "stream",
     "text": [
      " 86%|████████▋ | 188978/218572 [11:07<01:08, 433.75it/s]"
     ]
    },
    {
     "name": "stdout",
     "output_type": "stream",
     "text": [
      "1594\n",
      "1117\n",
      "1120\n",
      "1121\n",
      "860\n",
      "1611\n",
      "1560\n"
     ]
    },
    {
     "name": "stderr",
     "output_type": "stream",
     "text": [
      " 87%|████████▋ | 189322/218572 [11:08<01:13, 398.15it/s]"
     ]
    },
    {
     "name": "stdout",
     "output_type": "stream",
     "text": [
      "1871\n",
      "1738\n",
      "2195\n",
      "2544\n"
     ]
    },
    {
     "name": "stderr",
     "output_type": "stream",
     "text": [
      " 87%|████████▋ | 189675/218572 [11:09<01:06, 435.51it/s]"
     ]
    },
    {
     "name": "stdout",
     "output_type": "stream",
     "text": [
      "2676\n",
      "379\n",
      "474\n",
      "2333\n",
      "1425\n",
      "1426\n",
      "1296\n",
      "611\n",
      "439\n",
      "1421\n",
      "1428\n",
      "1309\n",
      "1310\n",
      "1870\n",
      "1445\n",
      "1429\n"
     ]
    },
    {
     "name": "stderr",
     "output_type": "stream",
     "text": [
      " 87%|████████▋ | 189772/218572 [11:09<01:04, 446.46it/s]"
     ]
    },
    {
     "name": "stdout",
     "output_type": "stream",
     "text": [
      "1535\n"
     ]
    },
    {
     "name": "stderr",
     "output_type": "stream",
     "text": [
      " 87%|████████▋ | 190116/218572 [11:10<01:10, 405.86it/s]"
     ]
    },
    {
     "name": "stdout",
     "output_type": "stream",
     "text": [
      "1424\n",
      "1294\n",
      "1544\n",
      "893\n",
      "333\n",
      "2740\n",
      "2302\n",
      "2598\n",
      "438\n",
      "1286\n",
      "1208\n",
      "1287\n",
      "1220\n",
      "1221\n",
      "1952\n"
     ]
    },
    {
     "name": "stderr",
     "output_type": "stream",
     "text": [
      " 87%|████████▋ | 190318/218572 [11:10<01:12, 391.73it/s]"
     ]
    },
    {
     "name": "stdout",
     "output_type": "stream",
     "text": [
      "1290\n",
      "1542\n",
      "1543\n",
      "1420\n",
      "428\n",
      "2739\n",
      "761\n",
      "591\n",
      "2267\n",
      "653\n",
      "1449\n",
      "1634\n",
      "1655\n",
      "1865\n",
      "168\n",
      "2756\n",
      "2775\n",
      "2779\n"
     ]
    },
    {
     "name": "stderr",
     "output_type": "stream",
     "text": [
      " 87%|████████▋ | 190685/218572 [11:11<01:07, 414.52it/s]"
     ]
    },
    {
     "name": "stdout",
     "output_type": "stream",
     "text": [
      "1300\n",
      "1546\n",
      "1440\n",
      "1301\n",
      "339\n",
      "472\n",
      "516\n",
      "1333\n",
      "2476\n",
      "503\n",
      "504\n",
      "1345\n",
      "1355\n",
      "1344\n",
      "1457\n",
      "1359\n",
      "1458\n",
      "1378\n",
      "1379\n",
      "1502\n",
      "1569\n",
      "1570\n",
      "1568\n",
      "1785\n",
      "1467\n",
      "1468\n",
      "1469\n"
     ]
    },
    {
     "name": "stderr",
     "output_type": "stream",
     "text": [
      " 87%|████████▋ | 190777/218572 [11:12<01:04, 430.15it/s]"
     ]
    },
    {
     "name": "stdout",
     "output_type": "stream",
     "text": [
      "1381\n",
      "1504\n",
      "1574\n",
      "1573\n",
      "1786\n",
      "1476\n",
      "1404\n",
      "1499\n",
      "2736\n",
      "2719\n",
      "2296\n",
      "1409\n",
      "291\n",
      "2194\n",
      "396\n",
      "1964\n"
     ]
    },
    {
     "name": "stderr",
     "output_type": "stream",
     "text": [
      " 87%|████████▋ | 190864/218572 [11:12<01:06, 415.57it/s]"
     ]
    },
    {
     "name": "stdout",
     "output_type": "stream",
     "text": [
      "1410\n",
      "1525\n",
      "1484\n",
      "1641\n",
      "1642\n",
      "1365\n",
      "1643\n",
      "1466\n",
      "1503\n",
      "1514\n",
      "1380\n",
      "1572\n",
      "1571\n",
      "1473\n",
      "1500\n",
      "1547\n",
      "1535\n",
      "1566\n",
      "1567\n",
      "1931\n",
      "1784\n",
      "1615\n",
      "2786\n",
      "1616\n",
      "457\n",
      "645\n"
     ]
    },
    {
     "name": "stderr",
     "output_type": "stream",
     "text": [
      " 87%|████████▋ | 190947/218572 [11:12<01:12, 379.25it/s]"
     ]
    },
    {
     "name": "stdout",
     "output_type": "stream",
     "text": [
      "1302\n",
      "1442\n",
      "1545\n",
      "894\n"
     ]
    },
    {
     "name": "stderr",
     "output_type": "stream",
     "text": [
      " 87%|████████▋ | 191067/218572 [11:12<01:14, 366.95it/s]"
     ]
    },
    {
     "name": "stdout",
     "output_type": "stream",
     "text": [
      "1281\n",
      "1599\n",
      "883\n",
      "2418\n",
      "324\n",
      "1658\n",
      "2755\n",
      "2801\n",
      "2586\n",
      "407\n",
      "408\n",
      "409\n",
      "410\n",
      "411\n",
      "412\n",
      "413\n",
      "414\n",
      "417\n",
      "418\n",
      "1164\n",
      "2728\n",
      "743\n",
      "744\n",
      "2299\n"
     ]
    },
    {
     "name": "stderr",
     "output_type": "stream",
     "text": [
      " 88%|████████▊ | 191580/218572 [11:14<01:02, 429.92it/s]"
     ]
    },
    {
     "name": "stdout",
     "output_type": "stream",
     "text": [
      "995\n",
      "214\n",
      "1232\n",
      "1305\n",
      "710\n",
      "1050\n",
      "1465\n",
      "2620\n"
     ]
    },
    {
     "name": "stderr",
     "output_type": "stream",
     "text": [
      " 88%|████████▊ | 191667/218572 [11:14<01:07, 397.32it/s]"
     ]
    },
    {
     "name": "stdout",
     "output_type": "stream",
     "text": [
      "205\n",
      "2687\n"
     ]
    },
    {
     "name": "stderr",
     "output_type": "stream",
     "text": [
      " 88%|████████▊ | 192480/218572 [11:16<01:01, 426.57it/s]"
     ]
    },
    {
     "name": "stdout",
     "output_type": "stream",
     "text": [
      "224\n",
      "728\n",
      "285\n",
      "2388\n",
      "2389\n",
      "2390\n",
      "2391\n",
      "2276\n",
      "2387\n"
     ]
    },
    {
     "name": "stderr",
     "output_type": "stream",
     "text": [
      " 88%|████████▊ | 192700/218572 [11:16<00:59, 433.74it/s]"
     ]
    },
    {
     "name": "stdout",
     "output_type": "stream",
     "text": [
      "846\n",
      "1114\n",
      "1115\n",
      "1118\n",
      "1119\n",
      "896\n",
      "1671\n",
      "2269\n",
      "775\n",
      "982\n",
      "213\n",
      "204\n"
     ]
    },
    {
     "name": "stderr",
     "output_type": "stream",
     "text": [
      " 88%|████████▊ | 192788/218572 [11:16<01:00, 423.21it/s]"
     ]
    },
    {
     "name": "stdout",
     "output_type": "stream",
     "text": [
      "1527\n"
     ]
    },
    {
     "name": "stderr",
     "output_type": "stream",
     "text": [
      " 88%|████████▊ | 193173/218572 [11:17<00:59, 424.56it/s]"
     ]
    },
    {
     "name": "stdout",
     "output_type": "stream",
     "text": [
      "756\n",
      "2759\n",
      "772\n",
      "2184\n",
      "2185\n",
      "2186\n",
      "1869\n",
      "759\n",
      "1204\n",
      "1205\n",
      "2751\n",
      "774\n",
      "1086\n"
     ]
    },
    {
     "name": "stderr",
     "output_type": "stream",
     "text": [
      " 88%|████████▊ | 193323/218572 [11:18<00:54, 460.51it/s]"
     ]
    },
    {
     "name": "stdout",
     "output_type": "stream",
     "text": [
      "766\n",
      "2737\n",
      "778\n",
      "172\n",
      "803\n",
      "897\n",
      "943\n",
      "1130\n",
      "1150\n",
      "1151\n",
      "952\n",
      "1141\n",
      "956\n",
      "1148\n",
      "1149\n",
      "957\n",
      "1152\n",
      "1153\n",
      "1154\n",
      "1158\n",
      "1159\n",
      "984\n",
      "1160\n",
      "954\n",
      "1146\n",
      "2817\n",
      "2404\n",
      "2405\n",
      "2768\n",
      "2831\n",
      "2822\n",
      "427\n",
      "2741\n",
      "760\n",
      "590\n"
     ]
    },
    {
     "name": "stderr",
     "output_type": "stream",
     "text": [
      " 88%|████████▊ | 193415/218572 [11:18<01:02, 405.37it/s]"
     ]
    },
    {
     "name": "stdout",
     "output_type": "stream",
     "text": [
      "967\n",
      "966\n",
      "968\n",
      "2495\n",
      "596\n",
      "1743\n",
      "1746\n",
      "2683\n",
      "660\n",
      "1005\n",
      "1006\n",
      "655\n",
      "731\n",
      "1007\n",
      "657\n",
      "732\n",
      "1127\n",
      "900\n"
     ]
    },
    {
     "name": "stderr",
     "output_type": "stream",
     "text": [
      " 89%|████████▊ | 193501/218572 [11:18<01:01, 408.62it/s]"
     ]
    },
    {
     "name": "stdout",
     "output_type": "stream",
     "text": [
      "2063\n",
      "1129\n",
      "920\n",
      "1768\n",
      "1771\n",
      "1776\n",
      "1775\n"
     ]
    },
    {
     "name": "stderr",
     "output_type": "stream",
     "text": [
      " 89%|████████▊ | 193629/218572 [11:18<00:59, 417.87it/s]"
     ]
    },
    {
     "name": "stdout",
     "output_type": "stream",
     "text": [
      "1147\n",
      "1128\n",
      "901\n",
      "1174\n",
      "1107\n",
      "1085\n",
      "1179\n",
      "1116\n",
      "356\n",
      "289\n",
      "1807\n",
      "2204\n",
      "2538\n",
      "2540\n",
      "2539\n",
      "2258\n",
      "2531\n",
      "2176\n",
      "2532\n",
      "2533\n",
      "2201\n",
      "2517\n",
      "2165\n"
     ]
    },
    {
     "name": "stderr",
     "output_type": "stream",
     "text": [
      " 89%|████████▊ | 193754/218572 [11:19<01:00, 407.92it/s]"
     ]
    },
    {
     "name": "stdout",
     "output_type": "stream",
     "text": [
      "2573\n",
      "2271\n"
     ]
    },
    {
     "name": "stderr",
     "output_type": "stream",
     "text": [
      " 89%|████████▊ | 193923/218572 [11:19<00:59, 412.63it/s]"
     ]
    },
    {
     "name": "stdout",
     "output_type": "stream",
     "text": [
      "209\n",
      "185\n"
     ]
    },
    {
     "name": "stderr",
     "output_type": "stream",
     "text": [
      " 89%|████████▉ | 194393/218572 [11:20<00:57, 420.50it/s]"
     ]
    },
    {
     "name": "stdout",
     "output_type": "stream",
     "text": [
      "290\n",
      "1703\n",
      "434\n",
      "385\n",
      "1024\n",
      "166\n",
      "2579\n",
      "2381\n",
      "2330\n"
     ]
    },
    {
     "name": "stderr",
     "output_type": "stream",
     "text": [
      " 89%|████████▉ | 194523/218572 [11:21<00:56, 424.83it/s]"
     ]
    },
    {
     "name": "stdout",
     "output_type": "stream",
     "text": [
      "292\n",
      "397\n",
      "300\n",
      "403\n",
      "302\n",
      "303\n",
      "1809\n",
      "2200\n",
      "405\n",
      "1879\n",
      "335\n",
      "334\n",
      "440\n",
      "469\n",
      "2600\n",
      "215\n",
      "1273\n",
      "206\n",
      "711\n"
     ]
    },
    {
     "name": "stderr",
     "output_type": "stream",
     "text": [
      " 89%|████████▉ | 194608/218572 [11:21<00:57, 417.08it/s]"
     ]
    },
    {
     "name": "stdout",
     "output_type": "stream",
     "text": [
      "635\n",
      "2017\n"
     ]
    },
    {
     "name": "stderr",
     "output_type": "stream",
     "text": [
      " 89%|████████▉ | 195246/218572 [11:22<00:58, 397.85it/s]"
     ]
    },
    {
     "name": "stdout",
     "output_type": "stream",
     "text": [
      "223\n",
      "282\n",
      "1778\n",
      "2384\n",
      "2385\n",
      "2386\n",
      "301\n",
      "1812\n",
      "2202\n",
      "404\n",
      "1881\n"
     ]
    },
    {
     "name": "stderr",
     "output_type": "stream",
     "text": [
      " 89%|████████▉ | 195417/218572 [11:23<00:56, 408.74it/s]"
     ]
    },
    {
     "name": "stdout",
     "output_type": "stream",
     "text": [
      "2704\n",
      "2724\n"
     ]
    },
    {
     "name": "stderr",
     "output_type": "stream",
     "text": [
      " 90%|████████▉ | 195670/218572 [11:23<00:57, 401.07it/s]"
     ]
    },
    {
     "name": "stdout",
     "output_type": "stream",
     "text": [
      "453\n",
      "1877\n",
      "2742\n",
      "2743\n",
      "820\n",
      "916\n"
     ]
    },
    {
     "name": "stderr",
     "output_type": "stream",
     "text": [
      " 90%|████████▉ | 196337/218572 [11:25<00:53, 417.32it/s]"
     ]
    },
    {
     "name": "stdout",
     "output_type": "stream",
     "text": [
      "1992\n"
     ]
    },
    {
     "name": "stderr",
     "output_type": "stream",
     "text": [
      " 90%|█████████ | 197399/218572 [11:28<00:50, 419.95it/s]"
     ]
    },
    {
     "name": "stdout",
     "output_type": "stream",
     "text": [
      "669\n",
      "734\n",
      "742\n"
     ]
    },
    {
     "name": "stderr",
     "output_type": "stream",
     "text": [
      " 90%|█████████ | 197610/218572 [11:28<00:50, 417.84it/s]"
     ]
    },
    {
     "name": "stdout",
     "output_type": "stream",
     "text": [
      "2366\n"
     ]
    },
    {
     "name": "stderr",
     "output_type": "stream",
     "text": [
      " 91%|█████████ | 198033/218572 [11:29<00:49, 417.88it/s]"
     ]
    },
    {
     "name": "stdout",
     "output_type": "stream",
     "text": [
      "2045\n"
     ]
    },
    {
     "name": "stderr",
     "output_type": "stream",
     "text": [
      " 91%|█████████ | 198244/218572 [11:30<00:50, 403.09it/s]"
     ]
    },
    {
     "name": "stdout",
     "output_type": "stream",
     "text": [
      "412\n",
      "475\n",
      "415\n",
      "416\n",
      "507\n"
     ]
    },
    {
     "name": "stderr",
     "output_type": "stream",
     "text": [
      " 91%|█████████ | 198415/218572 [11:30<00:48, 412.66it/s]"
     ]
    },
    {
     "name": "stdout",
     "output_type": "stream",
     "text": [
      "425\n",
      "574\n",
      "575\n",
      "576\n",
      "577\n",
      "578\n",
      "579\n",
      "580\n",
      "581\n",
      "582\n",
      "583\n",
      "585\n",
      "586\n",
      "587\n",
      "588\n",
      "589\n",
      "573\n",
      "584\n",
      "614\n",
      "664\n",
      "2641\n",
      "2642\n"
     ]
    },
    {
     "name": "stderr",
     "output_type": "stream",
     "text": [
      " 91%|█████████ | 198625/218572 [11:31<00:47, 416.31it/s]"
     ]
    },
    {
     "name": "stdout",
     "output_type": "stream",
     "text": [
      "485\n",
      "656\n",
      "2368"
     ]
    },
    {
     "name": "stderr",
     "output_type": "stream",
     "text": [
      " 91%|█████████ | 198709/218572 [11:31<00:48, 411.26it/s]"
     ]
    },
    {
     "name": "stdout",
     "output_type": "stream",
     "text": [
      "\n"
     ]
    },
    {
     "name": "stderr",
     "output_type": "stream",
     "text": [
      " 91%|█████████ | 199170/218572 [11:32<00:47, 412.74it/s]"
     ]
    },
    {
     "name": "stdout",
     "output_type": "stream",
     "text": [
      "2785\n"
     ]
    },
    {
     "name": "stderr",
     "output_type": "stream",
     "text": [
      " 91%|█████████ | 199297/218572 [11:32<00:46, 416.51it/s]"
     ]
    },
    {
     "name": "stdout",
     "output_type": "stream",
     "text": [
      "2363\n",
      "2364\n",
      "2362\n",
      "2365\n"
     ]
    },
    {
     "name": "stderr",
     "output_type": "stream",
     "text": [
      " 93%|█████████▎| 202969/218572 [11:41<00:38, 407.65it/s]"
     ]
    },
    {
     "name": "stdout",
     "output_type": "stream",
     "text": [
      "2549\n"
     ]
    },
    {
     "name": "stderr",
     "output_type": "stream",
     "text": [
      " 94%|█████████▎| 204735/218572 [11:46<00:33, 407.10it/s]"
     ]
    },
    {
     "name": "stdout",
     "output_type": "stream",
     "text": [
      "2814\n",
      "2508\n"
     ]
    },
    {
     "name": "stderr",
     "output_type": "stream",
     "text": [
      " 94%|█████████▎| 204858/218572 [11:46<00:33, 405.14it/s]"
     ]
    },
    {
     "name": "stdout",
     "output_type": "stream",
     "text": [
      "2734\n",
      "2320\n",
      "2315\n"
     ]
    },
    {
     "name": "stderr",
     "output_type": "stream",
     "text": [
      " 94%|█████████▍| 205145/218572 [11:47<00:33, 401.57it/s]"
     ]
    },
    {
     "name": "stdout",
     "output_type": "stream",
     "text": [
      "2813\n",
      "2373\n"
     ]
    },
    {
     "name": "stderr",
     "output_type": "stream",
     "text": [
      " 94%|█████████▍| 205593/218572 [11:48<00:32, 396.05it/s]"
     ]
    },
    {
     "name": "stdout",
     "output_type": "stream",
     "text": [
      "2369\n"
     ]
    },
    {
     "name": "stderr",
     "output_type": "stream",
     "text": [
      " 94%|█████████▍| 205880/218572 [11:48<00:31, 402.31it/s]"
     ]
    },
    {
     "name": "stdout",
     "output_type": "stream",
     "text": [
      "2300\n",
      "2069\n"
     ]
    },
    {
     "name": "stderr",
     "output_type": "stream",
     "text": [
      " 94%|█████████▍| 206004/218572 [11:49<00:31, 403.85it/s]"
     ]
    },
    {
     "name": "stdout",
     "output_type": "stream",
     "text": [
      "2336\n",
      "2298\n"
     ]
    },
    {
     "name": "stderr",
     "output_type": "stream",
     "text": [
      " 94%|█████████▍| 206455/218572 [11:50<00:30, 400.17it/s]"
     ]
    },
    {
     "name": "stdout",
     "output_type": "stream",
     "text": [
      "1859\n",
      "1921\n",
      "1704\n",
      "1622\n"
     ]
    },
    {
     "name": "stderr",
     "output_type": "stream",
     "text": [
      " 95%|█████████▍| 206579/218572 [11:50<00:29, 403.82it/s]"
     ]
    },
    {
     "name": "stdout",
     "output_type": "stream",
     "text": [
      "2744\n",
      "2322\n"
     ]
    },
    {
     "name": "stderr",
     "output_type": "stream",
     "text": [
      " 95%|█████████▍| 206743/218572 [11:51<00:29, 399.66it/s]"
     ]
    },
    {
     "name": "stdout",
     "output_type": "stream",
     "text": [
      "2417\n",
      "1720\n"
     ]
    },
    {
     "name": "stderr",
     "output_type": "stream",
     "text": [
      " 95%|█████████▍| 206866/218572 [11:51<00:29, 401.52it/s]"
     ]
    },
    {
     "name": "stdout",
     "output_type": "stream",
     "text": [
      "2509\n"
     ]
    },
    {
     "name": "stderr",
     "output_type": "stream",
     "text": [
      " 95%|█████████▍| 207193/218572 [11:52<00:28, 402.06it/s]"
     ]
    },
    {
     "name": "stdout",
     "output_type": "stream",
     "text": [
      "1206\n",
      "1269\n"
     ]
    },
    {
     "name": "stderr",
     "output_type": "stream",
     "text": [
      " 95%|█████████▌| 207644/218572 [11:53<00:27, 400.80it/s]"
     ]
    },
    {
     "name": "stdout",
     "output_type": "stream",
     "text": [
      "2388\n",
      "2155\n",
      "2305\n"
     ]
    },
    {
     "name": "stderr",
     "output_type": "stream",
     "text": [
      " 96%|█████████▌| 209053/218572 [11:56<00:24, 394.29it/s]"
     ]
    },
    {
     "name": "stdout",
     "output_type": "stream",
     "text": [
      "2349\n",
      "654\n"
     ]
    },
    {
     "name": "stderr",
     "output_type": "stream",
     "text": [
      " 96%|█████████▌| 209335/218572 [11:57<00:23, 392.58it/s]"
     ]
    },
    {
     "name": "stdout",
     "output_type": "stream",
     "text": [
      "2731\n",
      "2303\n",
      "2732\n",
      "2304\n",
      "2747\n",
      "2324\n",
      "2753\n",
      "2334\n",
      "2790\n",
      "2350\n",
      "2351\n",
      "2352\n",
      "2082\n",
      "2177\n"
     ]
    },
    {
     "name": "stderr",
     "output_type": "stream",
     "text": [
      " 96%|█████████▌| 210056/218572 [11:59<00:21, 396.50it/s]"
     ]
    },
    {
     "name": "stdout",
     "output_type": "stream",
     "text": [
      "2716\n",
      "2272\n",
      "2252\n"
     ]
    },
    {
     "name": "stderr",
     "output_type": "stream",
     "text": [
      " 96%|█████████▋| 210737/218572 [12:01<00:19, 397.12it/s]"
     ]
    },
    {
     "name": "stdout",
     "output_type": "stream",
     "text": [
      "2504\n",
      "2787\n",
      "2735\n"
     ]
    },
    {
     "name": "stderr",
     "output_type": "stream",
     "text": [
      " 96%|█████████▋| 210857/218572 [12:01<00:19, 395.37it/s]"
     ]
    },
    {
     "name": "stdout",
     "output_type": "stream",
     "text": [
      "2640\n"
     ]
    },
    {
     "name": "stderr",
     "output_type": "stream",
     "text": [
      " 97%|█████████▋| 211095/218572 [12:02<00:19, 390.81it/s]"
     ]
    },
    {
     "name": "stdout",
     "output_type": "stream",
     "text": [
      "2070\n"
     ]
    },
    {
     "name": "stderr",
     "output_type": "stream",
     "text": [
      " 97%|█████████▋| 211652/218572 [12:03<00:17, 391.52it/s]"
     ]
    },
    {
     "name": "stdout",
     "output_type": "stream",
     "text": [
      "2802\n"
     ]
    },
    {
     "name": "stderr",
     "output_type": "stream",
     "text": [
      " 97%|█████████▋| 212530/218572 [12:05<00:15, 389.70it/s]"
     ]
    },
    {
     "name": "stdout",
     "output_type": "stream",
     "text": [
      "2545\n"
     ]
    },
    {
     "name": "stderr",
     "output_type": "stream",
     "text": [
      " 97%|█████████▋| 212767/218572 [12:06<00:15, 382.55it/s]"
     ]
    },
    {
     "name": "stdout",
     "output_type": "stream",
     "text": [
      "2834\n"
     ]
    },
    {
     "name": "stderr",
     "output_type": "stream",
     "text": [
      " 97%|█████████▋| 212845/218572 [12:06<00:14, 382.00it/s]"
     ]
    },
    {
     "name": "stdout",
     "output_type": "stream",
     "text": [
      "2670\n"
     ]
    },
    {
     "name": "stderr",
     "output_type": "stream",
     "text": [
      " 98%|█████████▊| 213158/218572 [12:07<00:14, 385.40it/s]"
     ]
    },
    {
     "name": "stdout",
     "output_type": "stream",
     "text": [
      "2679\n",
      "1940\n",
      "2466\n",
      "2467\n"
     ]
    },
    {
     "name": "stderr",
     "output_type": "stream",
     "text": [
      " 98%|█████████▊| 213355/218572 [12:07<00:13, 390.92it/s]"
     ]
    },
    {
     "name": "stdout",
     "output_type": "stream",
     "text": [
      "2832\n",
      "2836\n",
      "2837\n"
     ]
    },
    {
     "name": "stderr",
     "output_type": "stream",
     "text": [
      " 98%|█████████▊| 214609/218572 [12:11<00:10, 385.57it/s]"
     ]
    },
    {
     "name": "stdout",
     "output_type": "stream",
     "text": [
      "2067\n"
     ]
    },
    {
     "name": "stderr",
     "output_type": "stream",
     "text": [
      " 99%|█████████▉| 216013/218572 [12:14<00:06, 381.96it/s]"
     ]
    },
    {
     "name": "stdout",
     "output_type": "stream",
     "text": [
      "2257\n"
     ]
    },
    {
     "name": "stderr",
     "output_type": "stream",
     "text": [
      " 99%|█████████▉| 216247/218572 [12:15<00:06, 385.85it/s]"
     ]
    },
    {
     "name": "stdout",
     "output_type": "stream",
     "text": [
      "1951\n"
     ]
    },
    {
     "name": "stderr",
     "output_type": "stream",
     "text": [
      " 99%|█████████▉| 217063/218572 [12:17<00:03, 378.78it/s]"
     ]
    },
    {
     "name": "stdout",
     "output_type": "stream",
     "text": [
      "2023\n"
     ]
    },
    {
     "name": "stderr",
     "output_type": "stream",
     "text": [
      "100%|██████████| 218572/218572 [12:21<00:00, 294.73it/s]\n"
     ]
    }
   ],
   "source": [
    "temp = []\n",
    "dups_p = []\n",
    "for i in tqdm(list(df['person_id'])):\n",
    "    if i not in temp:\n",
    "        temp.append(i)\n",
    "    else:\n",
    "        print(i)\n",
    "        dups_p.append(i)"
   ]
  },
  {
   "cell_type": "code",
   "execution_count": 7,
   "id": "68edf469",
   "metadata": {},
   "outputs": [
    {
     "name": "stderr",
     "output_type": "stream",
     "text": [
      " 99%|█████████▊| 215706/218571 [05:26<00:04, 693.37it/s] "
     ]
    },
    {
     "name": "stdout",
     "output_type": "stream",
     "text": [
      "215665\n",
      "215666\n",
      "215667\n",
      "215668\n",
      "215669\n",
      "215670\n",
      "215671\n",
      "215672\n",
      "215673\n",
      "215674\n",
      "215675\n",
      "215676\n",
      "215677\n",
      "215678\n",
      "215679\n",
      "215680\n",
      "215681\n",
      "215682\n",
      "215683\n",
      "215684\n",
      "215685\n",
      "215686\n",
      "215687\n",
      "215688\n",
      "215689\n",
      "215690\n",
      "215691\n",
      "215692\n",
      "215693\n",
      "215694\n",
      "215695\n",
      "215696\n",
      "215697\n",
      "215698\n",
      "215699\n",
      "215700\n",
      "215701\n",
      "215702\n",
      "215703\n",
      "215704\n",
      "215705\n",
      "215706\n",
      "215707\n",
      "215708\n",
      "215709\n",
      "215710\n",
      "215711\n",
      "215712\n",
      "215713\n",
      "215714\n",
      "215715\n",
      "215716\n",
      "215717\n",
      "215718\n",
      "215719\n",
      "215720\n",
      "215721\n",
      "215722\n",
      "215723\n",
      "215724\n",
      "215725\n",
      "215726\n",
      "215727\n",
      "215728\n",
      "215729\n",
      "215730"
     ]
    },
    {
     "name": "stderr",
     "output_type": "stream",
     "text": [
      "\r",
      " 99%|█████████▊| 215787/218571 [05:26<00:05, 526.03it/s]"
     ]
    },
    {
     "name": "stdout",
     "output_type": "stream",
     "text": [
      "\n",
      "215731\n",
      "215732\n",
      "215733\n",
      "215734\n",
      "215735\n",
      "215736\n",
      "215737\n",
      "215738\n",
      "215739\n",
      "215740\n",
      "215741\n",
      "215742\n",
      "215743\n",
      "215744\n",
      "215745\n",
      "215746\n",
      "215747\n",
      "215748\n",
      "215749\n",
      "215750\n",
      "215751\n",
      "215752\n",
      "215753\n",
      "215754\n",
      "215755\n",
      "215756\n",
      "215757\n",
      "215758\n",
      "215759\n",
      "215760\n",
      "215761\n",
      "215762\n",
      "215763\n",
      "215764\n",
      "215765\n",
      "215766\n",
      "215767\n",
      "215768\n",
      "215769\n",
      "215770\n",
      "215771\n",
      "215772\n",
      "215773\n",
      "215774\n",
      "215775\n",
      "215776\n",
      "215777\n",
      "215778\n",
      "215779\n",
      "215780\n",
      "215781\n",
      "215782\n",
      "215783\n",
      "215784\n",
      "215785\n",
      "215786\n",
      "215787\n",
      "215788\n",
      "215789\n",
      "215790\n",
      "215791\n",
      "215792\n",
      "215793\n",
      "215794\n",
      "215795\n",
      "215796\n",
      "215797\n",
      "215798\n",
      "215799"
     ]
    },
    {
     "name": "stderr",
     "output_type": "stream",
     "text": [
      "\r",
      " 99%|█████████▉| 215853/218571 [05:26<00:05, 458.38it/s]"
     ]
    },
    {
     "name": "stdout",
     "output_type": "stream",
     "text": [
      "\n",
      "215800\n",
      "215801\n",
      "215802\n",
      "215803\n",
      "215804\n",
      "215805\n",
      "215806\n",
      "215807\n",
      "215808\n",
      "215809\n",
      "215810\n",
      "215811\n",
      "215812\n",
      "215813\n",
      "215814\n",
      "215815\n",
      "215816\n",
      "215817\n",
      "215818\n",
      "215819\n",
      "215820\n",
      "215821\n",
      "215822\n",
      "215823\n",
      "215824\n",
      "215825\n",
      "215826\n",
      "215827\n",
      "215828\n",
      "215829\n",
      "215830\n",
      "215831\n",
      "215832\n",
      "215833\n",
      "215834\n",
      "215835\n",
      "215836\n",
      "215837\n",
      "215838\n",
      "215839\n",
      "215840\n",
      "215841\n",
      "215842\n",
      "215843\n",
      "215844\n",
      "215845\n",
      "215846\n",
      "215847\n",
      "215848\n",
      "215849\n",
      "215850\n",
      "215851\n",
      "215852\n",
      "215853\n",
      "215854\n",
      "215855\n",
      "215856\n",
      "215857\n",
      "215858\n",
      "215859\n",
      "215860\n",
      "215861\n",
      "215862\n",
      "215863\n",
      "215864\n",
      "215865\n",
      "215866\n",
      "215867\n",
      "215868\n",
      "215869\n",
      "215870"
     ]
    },
    {
     "name": "stderr",
     "output_type": "stream",
     "text": [
      "\r",
      " 99%|█████████▉| 215909/218571 [05:26<00:06, 415.60it/s]"
     ]
    },
    {
     "name": "stdout",
     "output_type": "stream",
     "text": [
      "\n",
      "215871\n",
      "215872\n",
      "215873\n",
      "215874\n",
      "215875\n",
      "215876\n",
      "215877\n",
      "215878\n",
      "215879\n",
      "215880\n",
      "215881\n",
      "215882\n",
      "215883\n",
      "215884\n",
      "215885\n",
      "215886\n",
      "215887\n",
      "215888\n",
      "215889\n",
      "215890\n",
      "215891\n",
      "215892\n",
      "215893\n",
      "215894\n",
      "215895\n",
      "215896\n",
      "215897\n",
      "215898\n",
      "215899\n",
      "215900\n",
      "215901\n",
      "215902\n",
      "215903\n",
      "215904\n",
      "215905\n",
      "215906\n",
      "215907\n",
      "215908\n",
      "215909\n",
      "215910\n",
      "215911\n",
      "215912\n",
      "215913\n",
      "215914\n",
      "215915\n",
      "215916\n",
      "215917\n",
      "215918\n",
      "215919\n",
      "215920\n",
      "215921\n",
      "215922\n",
      "215923\n",
      "215924\n",
      "215925\n",
      "215926\n",
      "215927\n",
      "215928\n",
      "215929\n",
      "215930\n",
      "215931\n",
      "215932\n",
      "215933\n",
      "215934\n",
      "215935\n",
      "215936\n",
      "215937\n",
      "215938\n",
      "215939\n",
      "215940\n",
      "215941\n",
      "215942"
     ]
    },
    {
     "name": "stderr",
     "output_type": "stream",
     "text": [
      " 99%|█████████▉| 216001/218571 [05:27<00:06, 376.65it/s]"
     ]
    },
    {
     "name": "stdout",
     "output_type": "stream",
     "text": [
      "\n",
      "215943\n",
      "215944\n",
      "215945\n",
      "215946\n",
      "215947\n",
      "215948\n",
      "215949\n",
      "215950\n",
      "215951\n",
      "215952\n",
      "215953\n",
      "215954\n",
      "215955\n",
      "215956\n",
      "215957\n",
      "215958\n",
      "215959\n",
      "215960\n",
      "215961\n",
      "215962\n",
      "215963\n",
      "215964\n",
      "215965\n",
      "215966\n",
      "215967\n",
      "215968\n",
      "215969\n",
      "215970\n",
      "215971\n",
      "215972\n",
      "215973\n",
      "215974\n",
      "215975\n",
      "215976\n",
      "215977\n",
      "215978\n",
      "215979\n",
      "215980\n",
      "215981\n",
      "215982\n",
      "215983\n",
      "215984\n",
      "215985\n",
      "215986\n",
      "215987\n",
      "215988\n",
      "215989\n",
      "215990\n",
      "215991\n",
      "215992\n",
      "215993\n",
      "215994\n",
      "215995\n",
      "215996\n",
      "215997\n",
      "215998\n",
      "215999\n",
      "216000\n",
      "216001\n",
      "216002\n",
      "216003\n",
      "216004\n",
      "216005\n",
      "216006\n",
      "216007\n",
      "216008\n",
      "216009\n",
      "216010\n",
      "216011\n",
      "216012\n",
      "216013\n",
      "216014\n",
      "216015\n",
      "216016\n",
      "216017"
     ]
    },
    {
     "name": "stderr",
     "output_type": "stream",
     "text": [
      " 99%|█████████▉| 216081/218571 [05:27<00:07, 349.86it/s]"
     ]
    },
    {
     "name": "stdout",
     "output_type": "stream",
     "text": [
      "\n",
      "216018\n",
      "216019\n",
      "216020\n",
      "216021\n",
      "216022\n",
      "216023\n",
      "216024\n",
      "216025\n",
      "216026\n",
      "216027\n",
      "216028\n",
      "216029\n",
      "216030\n",
      "216031\n",
      "216032\n",
      "216033\n",
      "216034\n",
      "216035\n",
      "216036\n",
      "216037\n",
      "216038\n",
      "216039\n",
      "216040\n",
      "216041\n",
      "216042\n",
      "216043\n",
      "216044\n",
      "216045\n",
      "216046\n",
      "216047\n",
      "216048\n",
      "216049\n",
      "216050\n",
      "216051\n",
      "216052\n",
      "216053\n",
      "216054\n",
      "216055\n",
      "216056\n",
      "216057\n",
      "216058\n",
      "216059\n",
      "216060\n",
      "216061\n",
      "216062\n",
      "216063\n",
      "216064\n",
      "216065\n",
      "216066\n",
      "216067\n",
      "216068\n",
      "216069\n",
      "216070\n",
      "216071\n",
      "216072\n",
      "216073\n",
      "216074\n",
      "216075\n",
      "216076\n",
      "216077\n",
      "216078\n",
      "216079\n",
      "216080\n",
      "216081\n",
      "216082\n",
      "216083\n",
      "216084\n",
      "216085\n",
      "216086\n",
      "216087\n",
      "216088\n",
      "216089\n",
      "216090"
     ]
    },
    {
     "name": "stderr",
     "output_type": "stream",
     "text": [
      " 99%|█████████▉| 216152/218571 [05:27<00:07, 336.40it/s]"
     ]
    },
    {
     "name": "stdout",
     "output_type": "stream",
     "text": [
      "\n",
      "216091\n",
      "216092\n",
      "216093\n",
      "216094\n",
      "216095\n",
      "216096\n",
      "216097\n",
      "216098\n",
      "216099\n",
      "216100\n",
      "216101\n",
      "216102\n",
      "216103\n",
      "216104\n",
      "216105\n",
      "216106\n",
      "216107\n",
      "216108\n",
      "216109\n",
      "216110\n",
      "216111\n",
      "216112\n",
      "216113\n",
      "216114\n",
      "216115\n",
      "216116\n",
      "216117\n",
      "216118\n",
      "216119\n",
      "216120\n",
      "216121\n",
      "216122\n",
      "216123\n",
      "216124\n",
      "216125\n",
      "216126\n",
      "216127\n",
      "216128\n",
      "216129\n",
      "216130\n",
      "216131\n",
      "216132\n",
      "216133\n",
      "216134\n",
      "216135\n",
      "216136\n",
      "216137\n",
      "216138\n",
      "216139\n",
      "216140\n",
      "216141\n",
      "216142\n",
      "216143\n",
      "216144\n",
      "216145\n",
      "216146\n",
      "216147\n",
      "216148\n",
      "216149\n",
      "216150\n",
      "216151\n",
      "216152\n",
      "216153\n",
      "216154\n",
      "216155\n",
      "216156\n",
      "216157\n",
      "216158\n",
      "216159\n",
      "216160\n",
      "216161\n",
      "216162"
     ]
    },
    {
     "name": "stderr",
     "output_type": "stream",
     "text": [
      " 99%|█████████▉| 216219/218571 [05:27<00:07, 322.58it/s]"
     ]
    },
    {
     "name": "stdout",
     "output_type": "stream",
     "text": [
      "\n",
      "216163\n",
      "216164\n",
      "216165\n",
      "216166\n",
      "216167\n",
      "216168\n",
      "216169\n",
      "216170\n",
      "216171\n",
      "216172\n",
      "216173\n",
      "216174\n",
      "216175\n",
      "216176\n",
      "216177\n",
      "216178\n",
      "216179\n",
      "216180\n",
      "216181\n",
      "216182\n",
      "216183\n",
      "216184\n",
      "216185\n",
      "216186\n",
      "216187\n",
      "216188\n",
      "216189\n",
      "216190\n",
      "216191\n",
      "216192\n",
      "216193\n",
      "216194\n",
      "216195\n",
      "216196\n",
      "216197\n",
      "216198\n",
      "216199\n",
      "216200\n",
      "216201\n",
      "216202\n",
      "216203\n",
      "216204\n",
      "216205\n",
      "216206\n",
      "216207\n",
      "216208\n",
      "216209\n",
      "216210\n",
      "216211\n",
      "216212\n",
      "216213\n",
      "216214\n",
      "216215\n",
      "216216\n",
      "216217\n",
      "216218\n",
      "216219\n",
      "216220\n",
      "216221\n",
      "216222\n",
      "216223\n",
      "216224\n",
      "216225\n",
      "216226\n",
      "216227\n",
      "216228\n",
      "216229\n",
      "216230\n",
      "216231\n",
      "216232"
     ]
    },
    {
     "name": "stderr",
     "output_type": "stream",
     "text": [
      " 99%|█████████▉| 216284/218571 [05:28<00:07, 316.59it/s]"
     ]
    },
    {
     "name": "stdout",
     "output_type": "stream",
     "text": [
      "\n",
      "216233\n",
      "216234\n",
      "216235\n",
      "216236\n",
      "216237\n",
      "216238\n",
      "216239\n",
      "216240\n",
      "216241\n",
      "216242\n",
      "216243\n",
      "216244\n",
      "216245\n",
      "216246\n",
      "216247\n",
      "216248\n",
      "216249\n",
      "216250\n",
      "216251\n",
      "216252\n",
      "216253\n",
      "216254\n",
      "216255\n",
      "216256\n",
      "216257\n",
      "216258\n",
      "216259\n",
      "216260\n",
      "216261\n",
      "216262\n",
      "216263\n",
      "216264\n",
      "216265\n",
      "216266\n",
      "216267\n",
      "216268\n",
      "216269\n",
      "216270\n",
      "216271\n",
      "216272\n",
      "216273\n",
      "216274\n",
      "216275\n",
      "216276\n",
      "216277\n",
      "216278\n",
      "216279\n",
      "216280\n",
      "216281\n",
      "216282\n",
      "216283\n",
      "216284\n",
      "216285\n",
      "216286\n",
      "216287\n",
      "216288\n",
      "216289\n",
      "216290\n",
      "216291\n",
      "216292\n",
      "216293\n",
      "216294\n",
      "216295\n",
      "216296\n",
      "216297\n",
      "216298\n",
      "216299\n",
      "216300\n",
      "216301\n",
      "216302\n",
      "216303"
     ]
    },
    {
     "name": "stderr",
     "output_type": "stream",
     "text": [
      " 99%|█████████▉| 216350/218571 [05:28<00:06, 319.81it/s]"
     ]
    },
    {
     "name": "stdout",
     "output_type": "stream",
     "text": [
      "\n",
      "216304\n",
      "216305\n",
      "216306\n",
      "216307\n",
      "216308\n",
      "216309\n",
      "216310\n",
      "216311\n",
      "216312\n",
      "216313\n",
      "216314\n",
      "216315\n",
      "216316\n",
      "216317\n",
      "216318\n",
      "216319\n",
      "216320\n",
      "216321\n",
      "216322\n",
      "216323\n",
      "216324\n",
      "216325\n",
      "216326\n",
      "216327\n",
      "216328\n",
      "216329\n",
      "216330\n",
      "216331\n",
      "216332\n",
      "216333\n",
      "216334\n",
      "216335\n",
      "216336\n",
      "216337\n",
      "216338\n",
      "216339\n",
      "216340\n",
      "216341\n",
      "216342\n",
      "216343\n",
      "216344\n",
      "216345\n",
      "216346\n",
      "216347\n",
      "216348\n",
      "216349\n",
      "216350\n",
      "216351\n",
      "216352\n",
      "216353\n",
      "216354\n",
      "216355\n",
      "216356\n",
      "216357\n",
      "216358\n",
      "216359\n",
      "216360\n",
      "216361\n",
      "216362\n",
      "216363\n",
      "216364\n",
      "216365\n",
      "216366\n",
      "216367\n",
      "216368\n",
      "216369\n",
      "216370\n",
      "216371\n",
      "216372\n",
      "216373\n",
      "216374\n",
      "216375\n",
      "216376"
     ]
    },
    {
     "name": "stderr",
     "output_type": "stream",
     "text": [
      " 99%|█████████▉| 216416/218571 [05:28<00:06, 319.77it/s]"
     ]
    },
    {
     "name": "stdout",
     "output_type": "stream",
     "text": [
      "\n",
      "216377\n",
      "216378\n",
      "216379\n",
      "216380\n",
      "216381\n",
      "216382\n",
      "216383\n",
      "216384\n",
      "216385\n",
      "216386\n",
      "216387\n",
      "216388\n",
      "216389\n",
      "216390\n",
      "216391\n",
      "216392\n",
      "216393\n",
      "216394\n",
      "216395\n",
      "216396\n",
      "216397\n",
      "216398\n",
      "216399\n",
      "216400\n",
      "216401\n",
      "216402\n",
      "216403\n",
      "216404\n",
      "216405\n",
      "216406\n",
      "216407\n",
      "216408\n",
      "216409\n",
      "216410\n",
      "216411\n",
      "216412\n",
      "216413\n",
      "216414\n",
      "216415\n",
      "216416\n",
      "216417\n",
      "216418\n",
      "216419\n",
      "216420\n",
      "216421\n",
      "216422\n",
      "216423\n",
      "216424\n",
      "216425\n",
      "216426\n",
      "216427\n",
      "216428\n",
      "216429\n",
      "216430\n",
      "216431\n",
      "216432\n",
      "216433\n",
      "216434\n",
      "216435\n",
      "216436\n",
      "216437\n",
      "216438\n",
      "216439\n",
      "216440\n",
      "216441\n",
      "216442\n",
      "216443\n",
      "216444\n",
      "216445\n",
      "216446\n",
      "216447"
     ]
    },
    {
     "name": "stderr",
     "output_type": "stream",
     "text": [
      " 99%|█████████▉| 216482/218571 [05:28<00:06, 315.71it/s]"
     ]
    },
    {
     "name": "stdout",
     "output_type": "stream",
     "text": [
      "\n",
      "216448\n",
      "216449\n",
      "216450\n",
      "216451\n",
      "216452\n",
      "216453\n",
      "216454\n",
      "216455\n",
      "216456\n",
      "216457\n",
      "216458\n",
      "216459\n",
      "216460\n",
      "216461\n",
      "216462\n",
      "216463\n",
      "216464\n",
      "216465\n",
      "216466\n",
      "216467\n",
      "216468\n",
      "216469\n",
      "216470\n",
      "216471\n",
      "216472\n",
      "216473\n",
      "216474\n",
      "216475\n",
      "216476\n",
      "216477\n",
      "216478\n",
      "216479\n",
      "216480\n",
      "216481\n",
      "216482\n",
      "216483\n",
      "216484\n",
      "216485\n",
      "216486\n",
      "216487\n",
      "216488\n",
      "216489\n",
      "216490\n",
      "216491\n",
      "216492\n",
      "216493\n",
      "216494\n",
      "216495\n",
      "216496\n",
      "216497\n",
      "216498\n",
      "216499\n",
      "216500\n",
      "216501\n",
      "216502\n",
      "216503\n",
      "216504\n",
      "216505\n",
      "216506\n",
      "216507\n",
      "216508\n",
      "216509\n",
      "216510\n",
      "216511"
     ]
    },
    {
     "name": "stderr",
     "output_type": "stream",
     "text": [
      " 99%|█████████▉| 216547/218571 [05:28<00:06, 317.68it/s]"
     ]
    },
    {
     "name": "stdout",
     "output_type": "stream",
     "text": [
      "\n",
      "216512\n",
      "216513\n",
      "216514\n",
      "216515\n",
      "216516\n",
      "216517\n",
      "216518\n",
      "216519\n",
      "216520\n",
      "216521\n",
      "216522\n",
      "216523\n",
      "216524\n",
      "216525\n",
      "216526\n",
      "216527\n",
      "216528\n",
      "216529\n",
      "216530\n",
      "216531\n",
      "216532\n",
      "216533\n",
      "216534\n",
      "216535\n",
      "216536\n",
      "216537\n",
      "216538\n",
      "216539\n",
      "216540\n",
      "216541\n",
      "216542\n",
      "216543\n",
      "216544\n",
      "216545\n",
      "216546\n",
      "216547\n",
      "216548\n",
      "216549\n",
      "216550\n",
      "216551\n",
      "216552\n",
      "216553\n",
      "216554\n",
      "216555\n",
      "216556\n",
      "216557\n",
      "216558\n",
      "216559\n",
      "216560\n",
      "216561\n",
      "216562\n",
      "216563\n",
      "216564\n",
      "216565\n",
      "216566\n",
      "216567\n",
      "216568\n",
      "216569\n",
      "216570\n",
      "216571\n",
      "216572\n",
      "216573\n",
      "216574\n",
      "216575\n",
      "216576\n",
      "216577\n",
      "216578\n",
      "216579\n",
      "216580\n",
      "216581"
     ]
    },
    {
     "name": "stderr",
     "output_type": "stream",
     "text": [
      " 99%|█████████▉| 216614/218571 [05:29<00:06, 320.87it/s]"
     ]
    },
    {
     "name": "stdout",
     "output_type": "stream",
     "text": [
      "\n",
      "216582\n",
      "216583\n",
      "216584\n",
      "216585\n",
      "216586\n",
      "216587\n",
      "216588\n",
      "216589\n",
      "216590\n",
      "216591\n",
      "216592\n",
      "216593\n",
      "216594\n",
      "216595\n",
      "216596\n",
      "216597\n",
      "216598\n",
      "216599\n",
      "216600\n",
      "216601\n",
      "216602\n",
      "216603\n",
      "216604\n",
      "216605\n",
      "216606\n",
      "216607\n",
      "216608\n",
      "216609\n",
      "216610\n",
      "216611\n",
      "216612\n",
      "216613\n",
      "216614\n",
      "216615\n",
      "216616\n",
      "216617\n",
      "216618\n",
      "216619\n",
      "216620\n",
      "216621\n",
      "216622\n",
      "216623\n",
      "216624\n",
      "216625\n",
      "216626\n",
      "216627\n",
      "216628\n",
      "216629\n",
      "216630\n",
      "216631\n",
      "216632\n",
      "216633\n",
      "216634\n",
      "216635\n",
      "216636\n",
      "216637\n",
      "216638\n",
      "216639\n",
      "216640\n",
      "216641\n",
      "216642\n",
      "216643\n",
      "216644\n",
      "216645"
     ]
    },
    {
     "name": "stderr",
     "output_type": "stream",
     "text": [
      " 99%|█████████▉| 216679/218571 [05:29<00:05, 317.71it/s]"
     ]
    },
    {
     "name": "stdout",
     "output_type": "stream",
     "text": [
      "\n",
      "216646\n",
      "216647\n",
      "216648\n",
      "216649\n",
      "216650\n",
      "216651\n",
      "216652\n",
      "216653\n",
      "216654\n",
      "216655\n",
      "216656\n",
      "216657\n",
      "216658\n",
      "216659\n",
      "216660\n",
      "216661\n",
      "216662\n",
      "216663\n",
      "216664\n",
      "216665\n",
      "216666\n",
      "216667\n",
      "216668\n",
      "216669\n",
      "216670\n",
      "216671\n",
      "216672\n",
      "216673\n",
      "216674\n",
      "216675\n",
      "216676\n",
      "216677\n",
      "216678\n",
      "216679\n",
      "216680\n",
      "216681\n",
      "216682\n",
      "216683\n",
      "216684\n",
      "216685\n",
      "216686\n",
      "216687\n",
      "216688\n",
      "216689\n",
      "216690\n",
      "216691\n",
      "216692\n",
      "216693\n",
      "216694\n",
      "216695\n",
      "216696\n",
      "216697\n",
      "216698\n",
      "216699\n",
      "216700\n",
      "216701\n",
      "216702\n",
      "216703\n",
      "216704\n",
      "216705\n",
      "216706\n",
      "216707\n",
      "216708\n",
      "216709\n",
      "216710\n",
      "216711"
     ]
    },
    {
     "name": "stderr",
     "output_type": "stream",
     "text": [
      " 99%|█████████▉| 216743/218571 [05:29<00:05, 313.54it/s]"
     ]
    },
    {
     "name": "stdout",
     "output_type": "stream",
     "text": [
      "\n",
      "216712\n",
      "216713\n",
      "216714\n",
      "216715\n",
      "216716\n",
      "216717\n",
      "216718\n",
      "216719\n",
      "216720\n",
      "216721\n",
      "216722\n",
      "216723\n",
      "216724\n",
      "216725\n",
      "216726\n",
      "216727\n",
      "216728\n",
      "216729\n",
      "216730\n",
      "216731\n",
      "216732\n",
      "216733\n",
      "216734\n",
      "216735\n",
      "216736\n",
      "216737\n",
      "216738\n",
      "216739\n",
      "216740\n",
      "216741\n",
      "216742\n",
      "216743\n",
      "216744\n",
      "216745\n",
      "216746\n",
      "216747\n",
      "216748\n",
      "216749\n",
      "216750\n",
      "216751\n",
      "216752\n",
      "216753\n",
      "216754\n",
      "216755\n",
      "216756\n",
      "216757\n",
      "216758\n",
      "216759\n",
      "216760\n",
      "216761\n",
      "216762\n",
      "216763\n",
      "216764\n",
      "216765\n",
      "216766\n",
      "216767\n",
      "216768\n",
      "216769\n",
      "216770\n",
      "216771\n",
      "216772\n",
      "216773\n",
      "216774"
     ]
    },
    {
     "name": "stderr",
     "output_type": "stream",
     "text": [
      " 99%|█████████▉| 216808/218571 [05:29<00:05, 317.86it/s]"
     ]
    },
    {
     "name": "stdout",
     "output_type": "stream",
     "text": [
      "\n",
      "216775\n",
      "216776\n",
      "216777\n",
      "216778\n",
      "216779\n",
      "216780\n",
      "216781\n",
      "216782\n",
      "216783\n",
      "216784\n",
      "216785\n",
      "216786\n",
      "216787\n",
      "216788\n",
      "216789\n",
      "216790\n",
      "216791\n",
      "216792\n",
      "216793\n",
      "216794\n",
      "216795\n",
      "216796\n",
      "216797\n",
      "216798\n",
      "216799\n",
      "216800\n",
      "216801\n",
      "216802\n",
      "216803\n",
      "216804\n",
      "216805\n",
      "216806\n",
      "216807\n",
      "216808\n",
      "216809\n",
      "216810\n",
      "216811\n",
      "216812\n",
      "216813\n",
      "216814\n",
      "216815\n",
      "216816\n",
      "216817\n",
      "216818\n",
      "216819\n",
      "216820\n",
      "216821\n",
      "216822\n",
      "216823\n",
      "216824\n",
      "216825\n",
      "216826\n",
      "216827\n",
      "216828\n",
      "216829\n",
      "216830\n",
      "216831\n",
      "216832\n",
      "216833\n",
      "216834\n",
      "216835\n",
      "216836\n",
      "216837\n",
      "216838\n",
      "216839\n",
      "216840\n",
      "216841"
     ]
    },
    {
     "name": "stderr",
     "output_type": "stream",
     "text": [
      " 99%|█████████▉| 216874/218571 [05:30<00:05, 316.68it/s]"
     ]
    },
    {
     "name": "stdout",
     "output_type": "stream",
     "text": [
      "\n",
      "216842\n",
      "216843\n",
      "216844\n",
      "216845\n",
      "216846\n",
      "216847\n",
      "216848\n",
      "216849\n",
      "216850\n",
      "216851\n",
      "216852\n",
      "216853\n",
      "216854\n",
      "216855\n",
      "216856\n",
      "216857\n",
      "216858\n",
      "216859\n",
      "216860\n",
      "216861\n",
      "216862\n",
      "216863\n",
      "216864\n",
      "216865\n",
      "216866\n",
      "216867\n",
      "216868\n",
      "216869\n",
      "216870\n",
      "216871\n",
      "216872\n",
      "216873\n",
      "216874\n",
      "216875\n",
      "216876\n",
      "216877\n",
      "216878\n",
      "216879\n",
      "216880\n",
      "216881\n",
      "216882\n",
      "216883\n",
      "216884\n",
      "216885\n",
      "216886\n",
      "216887\n",
      "216888\n",
      "216889\n",
      "216890\n",
      "216891\n",
      "216892\n",
      "216893\n",
      "216894\n",
      "216895\n",
      "216896\n",
      "216897\n",
      "216898\n",
      "216899\n",
      "216900\n",
      "216901\n",
      "216902\n",
      "216903\n",
      "216904"
     ]
    },
    {
     "name": "stderr",
     "output_type": "stream",
     "text": [
      " 99%|█████████▉| 216938/218571 [05:30<00:05, 315.59it/s]"
     ]
    },
    {
     "name": "stdout",
     "output_type": "stream",
     "text": [
      "\n",
      "216905\n",
      "216906\n",
      "216907\n",
      "216908\n",
      "216909\n",
      "216910\n",
      "216911\n",
      "216912\n",
      "216913\n",
      "216914\n",
      "216915\n",
      "216916\n",
      "216917\n",
      "216918\n",
      "216919\n",
      "216920\n",
      "216921\n",
      "216922\n",
      "216923\n",
      "216924\n",
      "216925\n",
      "216926\n",
      "216927\n",
      "216928\n",
      "216929\n",
      "216930\n",
      "216931\n",
      "216932\n",
      "216933\n",
      "216934\n",
      "216935\n",
      "216936\n",
      "216937\n",
      "216938\n",
      "216939\n",
      "216940\n",
      "216941\n",
      "216942\n",
      "216943\n",
      "216944\n",
      "216945\n",
      "216946\n",
      "216947\n",
      "216948\n",
      "216949\n",
      "216950\n",
      "216951\n",
      "216952\n",
      "216953\n",
      "216954\n",
      "216955\n",
      "216956\n",
      "216957\n",
      "216958\n",
      "216959\n",
      "216960\n",
      "216961\n",
      "216962\n",
      "216963\n",
      "216964\n",
      "216965\n",
      "216966\n",
      "216967\n",
      "216968\n",
      "216969\n",
      "216970\n",
      "216971\n",
      "216972"
     ]
    },
    {
     "name": "stderr",
     "output_type": "stream",
     "text": [
      " 99%|█████████▉| 217005/218571 [05:30<00:04, 320.12it/s]"
     ]
    },
    {
     "name": "stdout",
     "output_type": "stream",
     "text": [
      "\n",
      "216973\n",
      "216974\n",
      "216975\n",
      "216976\n",
      "216977\n",
      "216978\n",
      "216979\n",
      "216980\n",
      "216981\n",
      "216982\n",
      "216983\n",
      "216984\n",
      "216985\n",
      "216986\n",
      "216987\n",
      "216988\n",
      "216989\n",
      "216990\n",
      "216991\n",
      "216992\n",
      "216993\n",
      "216994\n",
      "216995\n",
      "216996\n",
      "216997\n",
      "216998\n",
      "216999\n",
      "217000\n",
      "217001\n",
      "217002\n",
      "217003\n",
      "217004\n",
      "217005\n",
      "217006\n",
      "217007\n",
      "217008\n",
      "217009\n",
      "217010\n",
      "217011\n",
      "217012\n",
      "217013\n",
      "217014\n",
      "217015\n",
      "217016\n",
      "217017\n",
      "217018\n",
      "217019\n",
      "217020\n",
      "217021\n",
      "217022\n",
      "217023\n",
      "217024\n",
      "217025\n",
      "217026\n",
      "217027\n",
      "217028\n",
      "217029\n",
      "217030\n",
      "217031\n",
      "217032\n",
      "217033\n",
      "217034\n",
      "217035\n",
      "217036\n",
      "217037"
     ]
    },
    {
     "name": "stderr",
     "output_type": "stream",
     "text": [
      " 99%|█████████▉| 217071/218571 [05:30<00:04, 317.91it/s]"
     ]
    },
    {
     "name": "stdout",
     "output_type": "stream",
     "text": [
      "\n",
      "217038\n",
      "217039\n",
      "217040\n",
      "217041\n",
      "217042\n",
      "217043\n",
      "217044\n",
      "217045\n",
      "217046\n",
      "217047\n",
      "217048\n",
      "217049\n",
      "217050\n",
      "217051\n",
      "217052\n",
      "217053\n",
      "217054\n",
      "217055\n",
      "217056\n",
      "217057\n",
      "217058\n",
      "217059\n",
      "217060\n",
      "217061\n",
      "217062\n",
      "217063\n",
      "217064\n",
      "217065\n",
      "217066\n",
      "217067\n",
      "217068\n",
      "217069\n",
      "217070\n",
      "217071\n",
      "217072\n",
      "217073\n",
      "217074\n",
      "217075\n",
      "217076\n",
      "217077\n",
      "217078\n",
      "217079\n",
      "217080\n",
      "217081\n",
      "217082\n",
      "217083\n",
      "217084\n",
      "217085\n",
      "217086\n",
      "217087\n",
      "217088\n",
      "217089\n",
      "217090\n",
      "217091\n",
      "217092\n",
      "217093\n",
      "217094\n",
      "217095\n",
      "217096\n",
      "217097\n",
      "217098\n",
      "217099\n",
      "217100\n",
      "217101"
     ]
    },
    {
     "name": "stderr",
     "output_type": "stream",
     "text": [
      " 99%|█████████▉| 217135/218571 [05:30<00:04, 313.39it/s]"
     ]
    },
    {
     "name": "stdout",
     "output_type": "stream",
     "text": [
      "\n",
      "217102\n",
      "217103\n",
      "217104\n",
      "217105\n",
      "217106\n",
      "217107\n",
      "217108\n",
      "217109\n",
      "217110\n",
      "217111\n",
      "217112\n",
      "217113\n",
      "217114\n",
      "217115\n",
      "217116\n",
      "217117\n",
      "217118\n",
      "217119\n",
      "217120\n",
      "217121\n",
      "217122\n",
      "217123\n",
      "217124\n",
      "217125\n",
      "217126\n",
      "217127\n",
      "217128\n",
      "217129\n",
      "217130\n",
      "217131\n",
      "217132\n",
      "217133\n",
      "217134\n",
      "217135\n",
      "217136\n",
      "217137\n",
      "217138\n",
      "217139\n",
      "217140\n",
      "217141\n",
      "217142\n",
      "217143\n",
      "217144\n",
      "217145\n",
      "217146\n",
      "217147\n",
      "217148\n",
      "217149\n",
      "217150\n",
      "217151\n",
      "217152\n",
      "217153\n",
      "217154\n",
      "217155\n",
      "217156\n",
      "217157\n",
      "217158\n",
      "217159\n",
      "217160\n",
      "217161\n",
      "217162\n",
      "217163\n",
      "217164\n",
      "217165"
     ]
    },
    {
     "name": "stderr",
     "output_type": "stream",
     "text": [
      " 99%|█████████▉| 217200/218571 [05:31<00:04, 318.03it/s]"
     ]
    },
    {
     "name": "stdout",
     "output_type": "stream",
     "text": [
      "\n",
      "217166\n",
      "217167\n",
      "217168\n",
      "217169\n",
      "217170\n",
      "217171\n",
      "217172\n",
      "217173\n",
      "217174\n",
      "217175\n",
      "217176\n",
      "217177\n",
      "217178\n",
      "217179\n",
      "217180\n",
      "217181\n",
      "217182\n",
      "217183\n",
      "217184\n",
      "217185\n",
      "217186\n",
      "217187\n",
      "217188\n",
      "217189\n",
      "217190\n",
      "217191\n",
      "217192\n",
      "217193\n",
      "217194\n",
      "217195\n",
      "217196\n",
      "217197\n",
      "217198\n",
      "217199\n",
      "217200\n",
      "217201\n",
      "217202\n",
      "217203\n",
      "217204\n",
      "217205\n",
      "217206\n",
      "217207\n",
      "217208\n",
      "217209\n",
      "217210\n",
      "217211\n",
      "217212\n",
      "217213\n",
      "217214\n",
      "217215\n",
      "217216\n",
      "217217\n",
      "217218\n",
      "217219\n",
      "217220\n",
      "217221\n",
      "217222\n",
      "217223\n",
      "217224\n",
      "217225\n",
      "217226\n",
      "217227\n",
      "217228\n",
      "217229\n",
      "217230\n",
      "217231\n",
      "217232\n",
      "217233"
     ]
    },
    {
     "name": "stderr",
     "output_type": "stream",
     "text": [
      " 99%|█████████▉| 217265/218571 [05:31<00:04, 316.66it/s]"
     ]
    },
    {
     "name": "stdout",
     "output_type": "stream",
     "text": [
      "\n",
      "217234\n",
      "217235\n",
      "217236\n",
      "217237\n",
      "217238\n",
      "217239\n",
      "217240\n",
      "217241\n",
      "217242\n",
      "217243\n",
      "217244\n",
      "217245\n",
      "217246\n",
      "217247\n",
      "217248\n",
      "217249\n",
      "217250\n",
      "217251\n",
      "217252\n",
      "217253\n",
      "217254\n",
      "217255\n",
      "217256\n",
      "217257\n",
      "217258\n",
      "217259\n",
      "217260\n",
      "217261\n",
      "217262\n",
      "217263\n",
      "217264\n",
      "217265\n",
      "217266\n",
      "217267\n",
      "217268\n",
      "217269\n",
      "217270\n",
      "217271\n",
      "217272\n",
      "217273\n",
      "217274\n",
      "217275\n",
      "217276\n",
      "217277\n",
      "217278\n",
      "217279\n",
      "217280\n",
      "217281\n",
      "217282\n",
      "217283\n",
      "217284\n",
      "217285\n",
      "217286\n",
      "217287\n",
      "217288\n",
      "217289\n",
      "217290\n",
      "217291\n",
      "217292\n",
      "217293\n",
      "217294\n",
      "217295\n",
      "217296\n",
      "217297"
     ]
    },
    {
     "name": "stderr",
     "output_type": "stream",
     "text": [
      " 99%|█████████▉| 217329/218571 [05:31<00:03, 316.10it/s]"
     ]
    },
    {
     "name": "stdout",
     "output_type": "stream",
     "text": [
      "\n",
      "217298\n",
      "217299\n",
      "217300\n",
      "217301\n",
      "217302\n",
      "217303\n",
      "217304\n",
      "217305\n",
      "217306\n",
      "217307\n",
      "217308\n",
      "217309\n",
      "217310\n",
      "217311\n",
      "217312\n",
      "217313\n",
      "217314\n",
      "217315\n",
      "217316\n",
      "217317\n",
      "217318\n",
      "217319\n",
      "217320\n",
      "217321\n",
      "217322\n",
      "217323\n",
      "217324\n",
      "217325\n",
      "217326\n",
      "217327\n",
      "217328\n",
      "217329\n",
      "217330\n",
      "217331\n",
      "217332\n",
      "217333\n",
      "217334\n",
      "217335\n",
      "217336\n",
      "217337\n",
      "217338\n",
      "217339\n",
      "217340\n",
      "217341\n",
      "217342\n",
      "217343\n",
      "217344\n",
      "217345\n",
      "217346\n",
      "217347\n",
      "217348\n",
      "217349\n",
      "217350\n",
      "217351\n",
      "217352\n",
      "217353\n",
      "217354\n",
      "217355\n",
      "217356\n",
      "217357\n",
      "217358\n",
      "217359\n",
      "217360\n",
      "217361\n",
      "217362\n",
      "217363"
     ]
    },
    {
     "name": "stderr",
     "output_type": "stream",
     "text": [
      " 99%|█████████▉| 217396/218571 [05:31<00:03, 320.87it/s]"
     ]
    },
    {
     "name": "stdout",
     "output_type": "stream",
     "text": [
      "\n",
      "217364\n",
      "217365\n",
      "217366\n",
      "217367\n",
      "217368\n",
      "217369\n",
      "217370\n",
      "217371\n",
      "217372\n",
      "217373\n",
      "217374\n",
      "217375\n",
      "217376\n",
      "217377\n",
      "217378\n",
      "217379\n",
      "217380\n",
      "217381\n",
      "217382\n",
      "217383\n",
      "217384\n",
      "217385\n",
      "217386\n",
      "217387\n",
      "217388\n",
      "217389\n",
      "217390\n",
      "217391\n",
      "217392\n",
      "217393\n",
      "217394\n",
      "217395\n",
      "217396\n",
      "217397\n",
      "217398\n",
      "217399\n",
      "217400\n",
      "217401\n",
      "217402\n",
      "217403\n",
      "217404\n",
      "217405\n",
      "217406\n",
      "217407\n",
      "217408\n",
      "217409\n",
      "217410\n",
      "217411\n",
      "217412\n",
      "217413\n",
      "217414\n",
      "217415\n",
      "217416\n",
      "217417\n",
      "217418\n",
      "217419\n",
      "217420\n",
      "217421\n",
      "217422\n",
      "217423\n",
      "217424\n",
      "217425\n",
      "217426\n",
      "217427\n",
      "217428"
     ]
    },
    {
     "name": "stderr",
     "output_type": "stream",
     "text": [
      " 99%|█████████▉| 217462/218571 [05:31<00:03, 319.57it/s]"
     ]
    },
    {
     "name": "stdout",
     "output_type": "stream",
     "text": [
      "\n",
      "217429\n",
      "217430\n",
      "217431\n",
      "217432\n",
      "217433\n",
      "217434\n",
      "217435\n",
      "217436\n",
      "217437\n",
      "217438\n",
      "217439\n",
      "217440\n",
      "217441\n",
      "217442\n",
      "217443\n",
      "217444\n",
      "217445\n",
      "217446\n",
      "217447\n",
      "217448\n",
      "217449\n",
      "217450\n",
      "217451\n",
      "217452\n",
      "217453\n",
      "217454\n",
      "217455\n",
      "217456\n",
      "217457\n",
      "217458\n",
      "217459\n",
      "217460\n",
      "217461\n",
      "217462\n",
      "217463\n",
      "217464\n",
      "217465\n",
      "217466\n",
      "217467\n",
      "217468\n",
      "217469\n",
      "217470\n",
      "217471\n",
      "217472\n",
      "217473\n",
      "217474\n",
      "217475\n",
      "217476\n",
      "217477\n",
      "217478\n",
      "217479\n",
      "217480\n",
      "217481\n",
      "217482\n",
      "217483\n",
      "217484\n",
      "217485\n",
      "217486\n",
      "217487\n",
      "217488\n",
      "217489\n",
      "217490\n",
      "217491\n",
      "217492\n",
      "217493"
     ]
    },
    {
     "name": "stderr",
     "output_type": "stream",
     "text": [
      "100%|█████████▉| 217528/218571 [05:32<00:03, 316.93it/s]"
     ]
    },
    {
     "name": "stdout",
     "output_type": "stream",
     "text": [
      "\n",
      "217494\n",
      "217495\n",
      "217496\n",
      "217497\n",
      "217498\n",
      "217499\n",
      "217500\n",
      "217501\n",
      "217502\n",
      "217503\n",
      "217504\n",
      "217505\n",
      "217506\n",
      "217507\n",
      "217508\n",
      "217509\n",
      "217510\n",
      "217511\n",
      "217512\n",
      "217513\n",
      "217514\n",
      "217515\n",
      "217516\n",
      "217517\n",
      "217518\n",
      "217519\n",
      "217520\n",
      "217521\n",
      "217522\n",
      "217523\n",
      "217524\n",
      "217525\n",
      "217526\n",
      "217527\n",
      "217528\n",
      "217529\n",
      "217530\n",
      "217531\n",
      "217532\n",
      "217533\n",
      "217534\n",
      "217535\n",
      "217536\n",
      "217537\n",
      "217538\n",
      "217539\n",
      "217540\n",
      "217541\n",
      "217542\n",
      "217543\n",
      "217544\n",
      "217545\n",
      "217546\n",
      "217547\n",
      "217548\n",
      "217549\n",
      "217550\n",
      "217551\n",
      "217552\n",
      "217553\n",
      "217554\n",
      "217555\n",
      "217556\n",
      "217557\n",
      "217558"
     ]
    },
    {
     "name": "stderr",
     "output_type": "stream",
     "text": [
      "100%|█████████▉| 217593/218571 [05:32<00:03, 319.82it/s]"
     ]
    },
    {
     "name": "stdout",
     "output_type": "stream",
     "text": [
      "\n",
      "217559\n",
      "217560\n",
      "217561\n",
      "217562\n",
      "217563\n",
      "217564\n",
      "217565\n",
      "217566\n",
      "217567\n",
      "217568\n",
      "217569\n",
      "217570\n",
      "217571\n",
      "217572\n",
      "217573\n",
      "217574\n",
      "217575\n",
      "217576\n",
      "217577\n",
      "217578\n",
      "217579\n",
      "217580\n",
      "217581\n",
      "217582\n",
      "217583\n",
      "217584\n",
      "217585\n",
      "217586\n",
      "217587\n",
      "217588\n",
      "217589\n",
      "217590\n",
      "217591\n",
      "217592\n",
      "217593\n",
      "217594\n",
      "217595\n",
      "217596\n",
      "217597\n",
      "217598\n",
      "217599\n",
      "217600\n",
      "217601\n",
      "217602\n",
      "217603\n",
      "217604\n",
      "217605\n",
      "217606\n",
      "217607\n",
      "217608\n",
      "217609\n",
      "217610\n",
      "217611\n",
      "217612\n",
      "217613\n",
      "217614\n",
      "217615\n",
      "217616\n",
      "217617\n",
      "217618\n",
      "217619\n",
      "217620\n",
      "217621\n",
      "217622\n",
      "217623\n",
      "217624\n",
      "217625\n",
      "217626\n",
      "217627"
     ]
    },
    {
     "name": "stderr",
     "output_type": "stream",
     "text": [
      "100%|█████████▉| 217660/218571 [05:32<00:02, 324.34it/s]"
     ]
    },
    {
     "name": "stdout",
     "output_type": "stream",
     "text": [
      "\n",
      "217628\n",
      "217629\n",
      "217630\n",
      "217631\n",
      "217632\n",
      "217633\n",
      "217634\n",
      "217635\n",
      "217636\n",
      "217637\n",
      "217638\n",
      "217639\n",
      "217640\n",
      "217641\n",
      "217642\n",
      "217643\n",
      "217644\n",
      "217645\n",
      "217646\n",
      "217647\n",
      "217648\n",
      "217649\n",
      "217650\n",
      "217651\n",
      "217652\n",
      "217653\n",
      "217654\n",
      "217655\n",
      "217656\n",
      "217657\n",
      "217658\n",
      "217659\n",
      "217660\n",
      "217661\n",
      "217662\n",
      "217663\n",
      "217664\n",
      "217665\n",
      "217666\n",
      "217667\n",
      "217668\n",
      "217669\n",
      "217670\n",
      "217671\n",
      "217672\n",
      "217673\n",
      "217674\n",
      "217675\n",
      "217676\n",
      "217677\n",
      "217678\n",
      "217679\n",
      "217680\n",
      "217681\n",
      "217682\n",
      "217683\n",
      "217684\n",
      "217685\n",
      "217686\n",
      "217687\n",
      "217688\n",
      "217689\n",
      "217690\n",
      "217691\n",
      "217692\n",
      "217693"
     ]
    },
    {
     "name": "stderr",
     "output_type": "stream",
     "text": [
      "100%|█████████▉| 217726/218571 [05:32<00:02, 321.80it/s]"
     ]
    },
    {
     "name": "stdout",
     "output_type": "stream",
     "text": [
      "\n",
      "217694\n",
      "217695\n",
      "217696\n",
      "217697\n",
      "217698\n",
      "217699\n",
      "217700\n",
      "217701\n",
      "217702\n",
      "217703\n",
      "217704\n",
      "217705\n",
      "217706\n",
      "217707\n",
      "217708\n",
      "217709\n",
      "217710\n",
      "217711\n",
      "217712\n",
      "217713\n",
      "217714\n",
      "217715\n",
      "217716\n",
      "217717\n",
      "217718\n",
      "217719\n",
      "217720\n",
      "217721\n",
      "217722\n",
      "217723\n",
      "217724\n",
      "217725\n",
      "217726\n",
      "217727\n",
      "217728\n",
      "217729\n",
      "217730\n",
      "217731\n",
      "217732\n",
      "217733\n",
      "217734\n",
      "217735\n",
      "217736\n",
      "217737\n",
      "217738\n",
      "217739\n",
      "217740\n",
      "217741\n",
      "217742\n",
      "217743\n",
      "217744\n",
      "217745\n",
      "217746\n",
      "217747\n",
      "217748\n",
      "217749\n",
      "217750\n",
      "217751\n",
      "217752\n",
      "217753\n",
      "217754\n",
      "217755\n",
      "217756\n",
      "217757"
     ]
    },
    {
     "name": "stderr",
     "output_type": "stream",
     "text": [
      "100%|█████████▉| 217792/218571 [05:32<00:02, 312.93it/s]"
     ]
    },
    {
     "name": "stdout",
     "output_type": "stream",
     "text": [
      "\n",
      "217758\n",
      "217759\n",
      "217760\n",
      "217761\n",
      "217762\n",
      "217763\n",
      "217764\n",
      "217765\n",
      "217766\n",
      "217767\n",
      "217768\n",
      "217769\n",
      "217770\n",
      "217771\n",
      "217772\n",
      "217773\n",
      "217774\n",
      "217775\n",
      "217776\n",
      "217777\n",
      "217778\n",
      "217779\n",
      "217780\n",
      "217781\n",
      "217782\n",
      "217783\n",
      "217784\n",
      "217785\n",
      "217786\n",
      "217787\n",
      "217788\n",
      "217789\n",
      "217790\n",
      "217791\n",
      "217792\n",
      "217793\n",
      "217794\n",
      "217795\n",
      "217796\n",
      "217797\n",
      "217798\n",
      "217799\n",
      "217800\n",
      "217801\n",
      "217802\n",
      "217803\n",
      "217804\n",
      "217805\n",
      "217806\n",
      "217807\n",
      "217808\n",
      "217809\n",
      "217810\n",
      "217811\n",
      "217812\n",
      "217813\n",
      "217814\n",
      "217815\n",
      "217816\n",
      "217817\n",
      "217818\n",
      "217819\n",
      "217820\n",
      "217821"
     ]
    },
    {
     "name": "stderr",
     "output_type": "stream",
     "text": [
      "100%|█████████▉| 217856/218571 [05:33<00:02, 315.82it/s]"
     ]
    },
    {
     "name": "stdout",
     "output_type": "stream",
     "text": [
      "\n",
      "217822\n",
      "217823\n",
      "217824\n",
      "217825\n",
      "217826\n",
      "217827\n",
      "217828\n",
      "217829\n",
      "217830\n",
      "217831\n",
      "217832\n",
      "217833\n",
      "217834\n",
      "217835\n",
      "217836\n",
      "217837\n",
      "217838\n",
      "217839\n",
      "217840\n",
      "217841\n",
      "217842\n",
      "217843\n",
      "217844\n",
      "217845\n",
      "217846\n",
      "217847\n",
      "217848\n",
      "217849\n",
      "217850\n",
      "217851\n",
      "217852\n",
      "217853\n",
      "217854\n",
      "217855\n",
      "217856\n",
      "217857\n",
      "217858\n",
      "217859\n",
      "217860\n",
      "217861\n",
      "217862\n",
      "217863\n",
      "217864\n",
      "217865\n",
      "217866\n",
      "217867\n",
      "217868\n",
      "217869\n",
      "217870\n",
      "217871\n",
      "217872\n",
      "217873\n",
      "217874\n",
      "217875\n",
      "217876\n",
      "217877\n",
      "217878\n",
      "217879\n",
      "217880\n",
      "217881\n",
      "217882\n",
      "217883\n",
      "217884\n",
      "217885\n",
      "217886\n",
      "217887\n",
      "217888\n",
      "217889\n",
      "217890"
     ]
    },
    {
     "name": "stderr",
     "output_type": "stream",
     "text": [
      "100%|█████████▉| 217923/218571 [05:33<00:02, 321.89it/s]"
     ]
    },
    {
     "name": "stdout",
     "output_type": "stream",
     "text": [
      "\n",
      "217891\n",
      "217892\n",
      "217893\n",
      "217894\n",
      "217895\n",
      "217896\n",
      "217897\n",
      "217898\n",
      "217899\n",
      "217900\n",
      "217901\n",
      "217902\n",
      "217903\n",
      "217904\n",
      "217905\n",
      "217906\n",
      "217907\n",
      "217908\n",
      "217909\n",
      "217910\n",
      "217911\n",
      "217912\n",
      "217913\n",
      "217914\n",
      "217915\n",
      "217916\n",
      "217917\n",
      "217918\n",
      "217919\n",
      "217920\n",
      "217921\n",
      "217922\n",
      "217923\n",
      "217924\n",
      "217925\n",
      "217926\n",
      "217927\n",
      "217928\n",
      "217929\n",
      "217930\n",
      "217931\n",
      "217932\n",
      "217933\n",
      "217934\n",
      "217935\n",
      "217936\n",
      "217937\n",
      "217938\n",
      "217939\n",
      "217940\n",
      "217941\n",
      "217942\n",
      "217943\n",
      "217944\n",
      "217945\n",
      "217946\n",
      "217947\n",
      "217948\n",
      "217949\n",
      "217950\n",
      "217951\n",
      "217952\n",
      "217953\n",
      "217954\n",
      "217955\n",
      "217956"
     ]
    },
    {
     "name": "stderr",
     "output_type": "stream",
     "text": [
      "100%|█████████▉| 217989/218571 [05:33<00:01, 319.40it/s]"
     ]
    },
    {
     "name": "stdout",
     "output_type": "stream",
     "text": [
      "\n",
      "217957\n",
      "217958\n",
      "217959\n",
      "217960\n",
      "217961\n",
      "217962\n",
      "217963\n",
      "217964\n",
      "217965\n",
      "217966\n",
      "217967\n",
      "217968\n",
      "217969\n",
      "217970\n",
      "217971\n",
      "217972\n",
      "217973\n",
      "217974\n",
      "217975\n",
      "217976\n",
      "217977\n",
      "217978\n",
      "217979\n",
      "217980\n",
      "217981\n",
      "217982\n",
      "217983\n",
      "217984\n",
      "217985\n",
      "217986\n",
      "217987\n",
      "217988\n",
      "217989\n",
      "217990\n",
      "217991\n",
      "217992\n",
      "217993\n",
      "217994\n",
      "217995\n",
      "217996\n",
      "217997\n",
      "217998\n",
      "217999\n",
      "218000\n",
      "218001\n",
      "218002\n",
      "218003\n",
      "218004\n",
      "218005\n",
      "218006\n",
      "218007\n",
      "218008\n",
      "218009\n",
      "218010\n",
      "218011\n",
      "218012\n",
      "218013\n",
      "218014\n",
      "218015\n",
      "218016\n",
      "218017\n",
      "218018\n",
      "218019"
     ]
    },
    {
     "name": "stderr",
     "output_type": "stream",
     "text": [
      "100%|█████████▉| 218053/218571 [05:33<00:01, 314.38it/s]"
     ]
    },
    {
     "name": "stdout",
     "output_type": "stream",
     "text": [
      "\n",
      "218020\n",
      "218021\n",
      "218022\n",
      "218023\n",
      "218024\n",
      "218025\n",
      "218026\n",
      "218027\n",
      "218028\n",
      "218029\n",
      "218030\n",
      "218031\n",
      "218032\n",
      "218033\n",
      "218034\n",
      "218035\n",
      "218036\n",
      "218037\n",
      "218038\n",
      "218039\n",
      "218040\n",
      "218041\n",
      "218042\n",
      "218043\n",
      "218044\n",
      "218045\n",
      "218046\n",
      "218047\n",
      "218048\n",
      "218049\n",
      "218050\n",
      "218051\n",
      "218052\n",
      "218053\n",
      "218054\n",
      "218055\n",
      "218056\n",
      "218057\n",
      "218058\n",
      "218059\n",
      "218060\n",
      "218061\n",
      "218062\n",
      "218063\n",
      "218064\n",
      "218065\n",
      "218066\n",
      "218067\n",
      "218068\n",
      "218069\n",
      "218070\n",
      "218071\n",
      "218072\n",
      "218073\n",
      "218074\n",
      "218075\n",
      "218076\n",
      "218077\n",
      "218078\n",
      "218079\n",
      "218080\n",
      "218081\n",
      "218082\n",
      "218083\n",
      "218084"
     ]
    },
    {
     "name": "stderr",
     "output_type": "stream",
     "text": [
      "100%|█████████▉| 218119/218571 [05:33<00:01, 319.68it/s]"
     ]
    },
    {
     "name": "stdout",
     "output_type": "stream",
     "text": [
      "\n",
      "218085\n",
      "218086\n",
      "218087\n",
      "218088\n",
      "218089\n",
      "218090\n",
      "218091\n",
      "218092\n",
      "218093\n",
      "218094\n",
      "218095\n",
      "218096\n",
      "218097\n",
      "218098\n",
      "218099\n",
      "218100\n",
      "218101\n",
      "218102\n",
      "218103\n",
      "218104\n",
      "218105\n",
      "218106\n",
      "218107\n",
      "218108\n",
      "218109\n",
      "218110\n",
      "218111\n",
      "218112\n",
      "218113\n",
      "218114\n",
      "218115\n",
      "218116\n",
      "218117\n",
      "218118\n",
      "218119\n",
      "218120\n",
      "218121\n",
      "218122\n",
      "218123\n",
      "218124\n",
      "218125\n",
      "218126\n",
      "218127\n",
      "218128\n",
      "218129\n",
      "218130\n",
      "218131\n",
      "218132\n",
      "218133\n",
      "218134\n",
      "218135\n",
      "218136\n",
      "218137\n",
      "218138\n",
      "218139\n",
      "218140\n",
      "218141\n",
      "218142\n",
      "218143\n",
      "218144\n",
      "218145\n",
      "218146\n",
      "218147\n",
      "218148\n",
      "218149\n",
      "218150\n",
      "218151\n",
      "218152"
     ]
    },
    {
     "name": "stderr",
     "output_type": "stream",
     "text": [
      "100%|█████████▉| 218185/218571 [05:34<00:01, 318.96it/s]"
     ]
    },
    {
     "name": "stdout",
     "output_type": "stream",
     "text": [
      "\n",
      "218153\n",
      "218154\n",
      "218155\n",
      "218156\n",
      "218157\n",
      "218158\n",
      "218159\n",
      "218160\n",
      "218161\n",
      "218162\n",
      "218163\n",
      "218164\n",
      "218165\n",
      "218166\n",
      "218167\n",
      "218168\n",
      "218169\n",
      "218170\n",
      "218171\n",
      "218172\n",
      "218173\n",
      "218174\n",
      "218175\n",
      "218176\n",
      "218177\n",
      "218178\n",
      "218179\n",
      "218180\n",
      "218181\n",
      "218182\n",
      "218183\n",
      "218184\n",
      "218185\n",
      "218186\n",
      "218187\n",
      "218188\n",
      "218189\n",
      "218190\n",
      "218191\n",
      "218192\n",
      "218193\n",
      "218194\n",
      "218195\n",
      "218196\n",
      "218197\n",
      "218198\n",
      "218199\n",
      "218200\n",
      "218201\n",
      "218202\n",
      "218203\n",
      "218204\n",
      "218205\n",
      "218206\n",
      "218207\n",
      "218208\n",
      "218209\n",
      "218210\n",
      "218211\n",
      "218212\n",
      "218213\n",
      "218214\n",
      "218215\n",
      "218216"
     ]
    },
    {
     "name": "stderr",
     "output_type": "stream",
     "text": [
      "100%|█████████▉| 218249/218571 [05:34<00:01, 315.72it/s]"
     ]
    },
    {
     "name": "stdout",
     "output_type": "stream",
     "text": [
      "\n",
      "218217\n",
      "218218\n",
      "218219\n",
      "218220\n",
      "218221\n",
      "218222\n",
      "218223\n",
      "218224\n",
      "218225\n",
      "218226\n",
      "218227\n",
      "218228\n",
      "218229\n",
      "218230\n",
      "218231\n",
      "218232\n",
      "218233\n",
      "218234\n",
      "218235\n",
      "218236\n",
      "218237\n",
      "218238\n",
      "218239\n",
      "218240\n",
      "218241\n",
      "218242\n",
      "218243\n",
      "218244\n",
      "218245\n",
      "218246\n",
      "218247\n",
      "218248\n",
      "218249\n",
      "218250\n",
      "218251\n",
      "218252\n",
      "218253\n",
      "218254\n",
      "218255\n",
      "218256\n",
      "218257\n",
      "218258\n",
      "218259\n",
      "218260\n",
      "218261\n",
      "218262\n",
      "218263\n",
      "218264\n",
      "218265\n",
      "218266\n",
      "218267\n",
      "218268\n",
      "218269\n",
      "218270\n",
      "218271\n",
      "218272\n",
      "218273\n",
      "218274\n",
      "218275\n",
      "218276\n",
      "218277\n",
      "218278\n",
      "218279\n",
      "218280\n",
      "218281\n",
      "218282"
     ]
    },
    {
     "name": "stderr",
     "output_type": "stream",
     "text": [
      "100%|█████████▉| 218316/218571 [05:34<00:00, 323.39it/s]"
     ]
    },
    {
     "name": "stdout",
     "output_type": "stream",
     "text": [
      "\n",
      "218283\n",
      "218284\n",
      "218285\n",
      "218286\n",
      "218287\n",
      "218288\n",
      "218289\n",
      "218290\n",
      "218291\n",
      "218292\n",
      "218293\n",
      "218294\n",
      "218295\n",
      "218296\n",
      "218297\n",
      "218298\n",
      "218299\n",
      "218300\n",
      "218301\n",
      "218302\n",
      "218303\n",
      "218304\n",
      "218305\n",
      "218306\n",
      "218307\n",
      "218308\n",
      "218309\n",
      "218310\n",
      "218311\n",
      "218312\n",
      "218313\n",
      "218314\n",
      "218315\n",
      "218316\n",
      "218317\n",
      "218318\n",
      "218319\n",
      "218320\n",
      "218321\n",
      "218322\n",
      "218323\n",
      "218324\n",
      "218325\n",
      "218326\n",
      "218327\n",
      "218328\n",
      "218329\n",
      "218330\n",
      "218331\n",
      "218332\n",
      "218333\n",
      "218334\n",
      "218335\n",
      "218336\n",
      "218337\n",
      "218338\n",
      "218339\n",
      "218340\n",
      "218341\n",
      "218342\n",
      "218343\n",
      "218344\n",
      "218345\n",
      "218346\n",
      "218347\n",
      "218348\n",
      "218349"
     ]
    },
    {
     "name": "stderr",
     "output_type": "stream",
     "text": [
      "100%|█████████▉| 218382/218571 [05:34<00:00, 320.43it/s]"
     ]
    },
    {
     "name": "stdout",
     "output_type": "stream",
     "text": [
      "\n",
      "218350\n",
      "218351\n",
      "218352\n",
      "218353\n",
      "218354\n",
      "218355\n",
      "218356\n",
      "218357\n",
      "218358\n",
      "218359\n",
      "218360\n",
      "218361\n",
      "218362\n",
      "218363\n",
      "218364\n",
      "218365\n",
      "218366\n",
      "218367\n",
      "218368\n",
      "218369\n",
      "218370\n",
      "218371\n",
      "218372\n",
      "218373\n",
      "218374\n",
      "218375\n",
      "218376\n",
      "218377\n",
      "218378\n",
      "218379\n",
      "218380\n",
      "218381\n",
      "218382\n",
      "218383\n",
      "218384\n",
      "218385\n",
      "218386\n",
      "218387\n",
      "218388\n",
      "218389\n",
      "218390\n",
      "218391\n",
      "218392\n",
      "218393\n",
      "218394\n",
      "218395\n",
      "218396\n",
      "218397\n",
      "218398\n",
      "218399\n",
      "218400\n",
      "218401\n",
      "218402\n",
      "218403\n",
      "218404\n",
      "218405\n",
      "218406\n",
      "218407\n",
      "218408\n",
      "218409\n",
      "218410\n",
      "218411\n",
      "218412\n",
      "218413"
     ]
    },
    {
     "name": "stderr",
     "output_type": "stream",
     "text": [
      "100%|█████████▉| 218447/218571 [05:34<00:00, 314.97it/s]"
     ]
    },
    {
     "name": "stdout",
     "output_type": "stream",
     "text": [
      "\n",
      "218414\n",
      "218415\n",
      "218416\n",
      "218417\n",
      "218418\n",
      "218419\n",
      "218420\n",
      "218421\n",
      "218422\n",
      "218423\n",
      "218424\n",
      "218425\n",
      "218426\n",
      "218427\n",
      "218428\n",
      "218429\n",
      "218430\n",
      "218431\n",
      "218432\n",
      "218433\n",
      "218434\n",
      "218435\n",
      "218436\n",
      "218437\n",
      "218438\n",
      "218439\n",
      "218440\n",
      "218441\n",
      "218442\n",
      "218443\n",
      "218444\n",
      "218445\n",
      "218446\n",
      "218447\n",
      "218448\n",
      "218449\n",
      "218450\n",
      "218451\n",
      "218452\n",
      "218453\n",
      "218454\n",
      "218455\n",
      "218456\n",
      "218457\n",
      "218458\n",
      "218459\n",
      "218460\n",
      "218461\n",
      "218462\n",
      "218463\n",
      "218464\n",
      "218465\n",
      "218466\n",
      "218467\n",
      "218468\n",
      "218469\n",
      "218470\n",
      "218471\n",
      "218472\n",
      "218473\n",
      "218474\n",
      "218475\n",
      "218476\n",
      "218477\n",
      "218478"
     ]
    },
    {
     "name": "stderr",
     "output_type": "stream",
     "text": [
      "100%|█████████▉| 218512/218571 [05:35<00:00, 317.06it/s]"
     ]
    },
    {
     "name": "stdout",
     "output_type": "stream",
     "text": [
      "\n",
      "218479\n",
      "218480\n",
      "218481\n",
      "218482\n",
      "218483\n",
      "218484\n",
      "218485\n",
      "218486\n",
      "218487\n",
      "218488\n",
      "218489\n",
      "218490\n",
      "218491\n",
      "218492\n",
      "218493\n",
      "218494\n",
      "218495\n",
      "218496\n",
      "218497\n",
      "218498\n",
      "218499\n",
      "218500\n",
      "218501\n",
      "218502\n",
      "218503\n",
      "218504\n",
      "218505\n",
      "218506\n",
      "218507\n",
      "218508\n",
      "218509\n",
      "218510\n",
      "218511\n",
      "218512\n",
      "218513\n",
      "218514\n",
      "218515\n",
      "218516\n",
      "218517\n",
      "218518\n",
      "218519\n",
      "218520\n",
      "218521\n",
      "218522\n",
      "218523\n",
      "218524\n",
      "218525\n",
      "218526\n",
      "218527\n",
      "218528\n",
      "218529\n",
      "218530\n",
      "218531\n",
      "218532\n",
      "218533\n",
      "218534\n",
      "218535\n",
      "218536\n",
      "218537\n",
      "218538\n",
      "218539\n",
      "218540\n",
      "218541\n",
      "218542\n",
      "218543\n",
      "218544\n",
      "218545\n",
      "218546"
     ]
    },
    {
     "name": "stderr",
     "output_type": "stream",
     "text": [
      "100%|██████████| 218571/218571 [05:35<00:00, 651.81it/s]"
     ]
    },
    {
     "name": "stdout",
     "output_type": "stream",
     "text": [
      "\n",
      "218547\n",
      "218548\n",
      "218549\n",
      "218550\n",
      "218551\n",
      "218552\n",
      "218553\n",
      "218554\n",
      "218555\n",
      "218556\n",
      "218557\n",
      "218558\n",
      "218559\n",
      "218560\n",
      "218561\n",
      "218562\n",
      "218563\n",
      "218564\n",
      "218565\n",
      "218566\n",
      "218567\n",
      "218568\n",
      "218569\n",
      "218570\n",
      "218571\n"
     ]
    },
    {
     "name": "stderr",
     "output_type": "stream",
     "text": [
      "\n"
     ]
    }
   ],
   "source": [
    "not_there_p = []\n",
    "temp = list(df['person_id'])\n",
    "for i in tqdm(range(1, 218572)):\n",
    "    if i not in temp:\n",
    "        print(i)\n",
    "        not_there_p.append(i)"
   ]
  },
  {
   "cell_type": "code",
   "execution_count": 8,
   "id": "7474cfaf",
   "metadata": {},
   "outputs": [
    {
     "name": "stderr",
     "output_type": "stream",
     "text": [
      "100%|██████████| 218572/218572 [05:05<00:00, 714.35it/s] \n"
     ]
    }
   ],
   "source": [
    "temp = []\n",
    "dups_r = []\n",
    "pp = list(df['record_id'])\n",
    "for i in tqdm(pp):\n",
    "    if i not in temp:\n",
    "        temp.append(i)\n",
    "    else:\n",
    "        print(i)\n",
    "        dups_r.append(i)"
   ]
  },
  {
   "cell_type": "code",
   "execution_count": 9,
   "id": "6498ab4c",
   "metadata": {},
   "outputs": [
    {
     "name": "stderr",
     "output_type": "stream",
     "text": [
      "100%|██████████| 218571/218571 [05:01<00:00, 724.75it/s] \n"
     ]
    }
   ],
   "source": [
    "not_there_r = []\n",
    "temp = list(df['record_id'])\n",
    "for i in tqdm(range(1, 218572)):\n",
    "    if i not in temp:\n",
    "        print(i)\n",
    "        not_there_r.append(i)"
   ]
  },
  {
   "cell_type": "code",
   "execution_count": 15,
   "id": "f1cf4e86",
   "metadata": {},
   "outputs": [],
   "source": [
    "import pickle\n",
    "with open('dups_person.pickle', 'wb') as f:\n",
    "    pickle.dump(dups_p, f)\n",
    "with open('not_there_person.pickle', 'wb') as f:\n",
    "    pickle.dump(not_there_p, f)"
   ]
  },
  {
   "cell_type": "code",
   "execution_count": 16,
   "id": "e8c77bbf",
   "metadata": {},
   "outputs": [],
   "source": [
    "with open('not_there_person.pickle', 'rb') as f:\n",
    "    pp = pickle.load(f)"
   ]
  },
  {
   "cell_type": "code",
   "execution_count": 17,
   "id": "c173fe77",
   "metadata": {},
   "outputs": [
    {
     "data": {
      "text/plain": [
       "[215665,\n",
       " 215666,\n",
       " 215667,\n",
       " 215668,\n",
       " 215669,\n",
       " 215670,\n",
       " 215671,\n",
       " 215672,\n",
       " 215673,\n",
       " 215674,\n",
       " 215675,\n",
       " 215676,\n",
       " 215677,\n",
       " 215678,\n",
       " 215679,\n",
       " 215680,\n",
       " 215681,\n",
       " 215682,\n",
       " 215683,\n",
       " 215684,\n",
       " 215685,\n",
       " 215686,\n",
       " 215687,\n",
       " 215688,\n",
       " 215689,\n",
       " 215690,\n",
       " 215691,\n",
       " 215692,\n",
       " 215693,\n",
       " 215694,\n",
       " 215695,\n",
       " 215696,\n",
       " 215697,\n",
       " 215698,\n",
       " 215699,\n",
       " 215700,\n",
       " 215701,\n",
       " 215702,\n",
       " 215703,\n",
       " 215704,\n",
       " 215705,\n",
       " 215706,\n",
       " 215707,\n",
       " 215708,\n",
       " 215709,\n",
       " 215710,\n",
       " 215711,\n",
       " 215712,\n",
       " 215713,\n",
       " 215714,\n",
       " 215715,\n",
       " 215716,\n",
       " 215717,\n",
       " 215718,\n",
       " 215719,\n",
       " 215720,\n",
       " 215721,\n",
       " 215722,\n",
       " 215723,\n",
       " 215724,\n",
       " 215725,\n",
       " 215726,\n",
       " 215727,\n",
       " 215728,\n",
       " 215729,\n",
       " 215730,\n",
       " 215731,\n",
       " 215732,\n",
       " 215733,\n",
       " 215734,\n",
       " 215735,\n",
       " 215736,\n",
       " 215737,\n",
       " 215738,\n",
       " 215739,\n",
       " 215740,\n",
       " 215741,\n",
       " 215742,\n",
       " 215743,\n",
       " 215744,\n",
       " 215745,\n",
       " 215746,\n",
       " 215747,\n",
       " 215748,\n",
       " 215749,\n",
       " 215750,\n",
       " 215751,\n",
       " 215752,\n",
       " 215753,\n",
       " 215754,\n",
       " 215755,\n",
       " 215756,\n",
       " 215757,\n",
       " 215758,\n",
       " 215759,\n",
       " 215760,\n",
       " 215761,\n",
       " 215762,\n",
       " 215763,\n",
       " 215764,\n",
       " 215765,\n",
       " 215766,\n",
       " 215767,\n",
       " 215768,\n",
       " 215769,\n",
       " 215770,\n",
       " 215771,\n",
       " 215772,\n",
       " 215773,\n",
       " 215774,\n",
       " 215775,\n",
       " 215776,\n",
       " 215777,\n",
       " 215778,\n",
       " 215779,\n",
       " 215780,\n",
       " 215781,\n",
       " 215782,\n",
       " 215783,\n",
       " 215784,\n",
       " 215785,\n",
       " 215786,\n",
       " 215787,\n",
       " 215788,\n",
       " 215789,\n",
       " 215790,\n",
       " 215791,\n",
       " 215792,\n",
       " 215793,\n",
       " 215794,\n",
       " 215795,\n",
       " 215796,\n",
       " 215797,\n",
       " 215798,\n",
       " 215799,\n",
       " 215800,\n",
       " 215801,\n",
       " 215802,\n",
       " 215803,\n",
       " 215804,\n",
       " 215805,\n",
       " 215806,\n",
       " 215807,\n",
       " 215808,\n",
       " 215809,\n",
       " 215810,\n",
       " 215811,\n",
       " 215812,\n",
       " 215813,\n",
       " 215814,\n",
       " 215815,\n",
       " 215816,\n",
       " 215817,\n",
       " 215818,\n",
       " 215819,\n",
       " 215820,\n",
       " 215821,\n",
       " 215822,\n",
       " 215823,\n",
       " 215824,\n",
       " 215825,\n",
       " 215826,\n",
       " 215827,\n",
       " 215828,\n",
       " 215829,\n",
       " 215830,\n",
       " 215831,\n",
       " 215832,\n",
       " 215833,\n",
       " 215834,\n",
       " 215835,\n",
       " 215836,\n",
       " 215837,\n",
       " 215838,\n",
       " 215839,\n",
       " 215840,\n",
       " 215841,\n",
       " 215842,\n",
       " 215843,\n",
       " 215844,\n",
       " 215845,\n",
       " 215846,\n",
       " 215847,\n",
       " 215848,\n",
       " 215849,\n",
       " 215850,\n",
       " 215851,\n",
       " 215852,\n",
       " 215853,\n",
       " 215854,\n",
       " 215855,\n",
       " 215856,\n",
       " 215857,\n",
       " 215858,\n",
       " 215859,\n",
       " 215860,\n",
       " 215861,\n",
       " 215862,\n",
       " 215863,\n",
       " 215864,\n",
       " 215865,\n",
       " 215866,\n",
       " 215867,\n",
       " 215868,\n",
       " 215869,\n",
       " 215870,\n",
       " 215871,\n",
       " 215872,\n",
       " 215873,\n",
       " 215874,\n",
       " 215875,\n",
       " 215876,\n",
       " 215877,\n",
       " 215878,\n",
       " 215879,\n",
       " 215880,\n",
       " 215881,\n",
       " 215882,\n",
       " 215883,\n",
       " 215884,\n",
       " 215885,\n",
       " 215886,\n",
       " 215887,\n",
       " 215888,\n",
       " 215889,\n",
       " 215890,\n",
       " 215891,\n",
       " 215892,\n",
       " 215893,\n",
       " 215894,\n",
       " 215895,\n",
       " 215896,\n",
       " 215897,\n",
       " 215898,\n",
       " 215899,\n",
       " 215900,\n",
       " 215901,\n",
       " 215902,\n",
       " 215903,\n",
       " 215904,\n",
       " 215905,\n",
       " 215906,\n",
       " 215907,\n",
       " 215908,\n",
       " 215909,\n",
       " 215910,\n",
       " 215911,\n",
       " 215912,\n",
       " 215913,\n",
       " 215914,\n",
       " 215915,\n",
       " 215916,\n",
       " 215917,\n",
       " 215918,\n",
       " 215919,\n",
       " 215920,\n",
       " 215921,\n",
       " 215922,\n",
       " 215923,\n",
       " 215924,\n",
       " 215925,\n",
       " 215926,\n",
       " 215927,\n",
       " 215928,\n",
       " 215929,\n",
       " 215930,\n",
       " 215931,\n",
       " 215932,\n",
       " 215933,\n",
       " 215934,\n",
       " 215935,\n",
       " 215936,\n",
       " 215937,\n",
       " 215938,\n",
       " 215939,\n",
       " 215940,\n",
       " 215941,\n",
       " 215942,\n",
       " 215943,\n",
       " 215944,\n",
       " 215945,\n",
       " 215946,\n",
       " 215947,\n",
       " 215948,\n",
       " 215949,\n",
       " 215950,\n",
       " 215951,\n",
       " 215952,\n",
       " 215953,\n",
       " 215954,\n",
       " 215955,\n",
       " 215956,\n",
       " 215957,\n",
       " 215958,\n",
       " 215959,\n",
       " 215960,\n",
       " 215961,\n",
       " 215962,\n",
       " 215963,\n",
       " 215964,\n",
       " 215965,\n",
       " 215966,\n",
       " 215967,\n",
       " 215968,\n",
       " 215969,\n",
       " 215970,\n",
       " 215971,\n",
       " 215972,\n",
       " 215973,\n",
       " 215974,\n",
       " 215975,\n",
       " 215976,\n",
       " 215977,\n",
       " 215978,\n",
       " 215979,\n",
       " 215980,\n",
       " 215981,\n",
       " 215982,\n",
       " 215983,\n",
       " 215984,\n",
       " 215985,\n",
       " 215986,\n",
       " 215987,\n",
       " 215988,\n",
       " 215989,\n",
       " 215990,\n",
       " 215991,\n",
       " 215992,\n",
       " 215993,\n",
       " 215994,\n",
       " 215995,\n",
       " 215996,\n",
       " 215997,\n",
       " 215998,\n",
       " 215999,\n",
       " 216000,\n",
       " 216001,\n",
       " 216002,\n",
       " 216003,\n",
       " 216004,\n",
       " 216005,\n",
       " 216006,\n",
       " 216007,\n",
       " 216008,\n",
       " 216009,\n",
       " 216010,\n",
       " 216011,\n",
       " 216012,\n",
       " 216013,\n",
       " 216014,\n",
       " 216015,\n",
       " 216016,\n",
       " 216017,\n",
       " 216018,\n",
       " 216019,\n",
       " 216020,\n",
       " 216021,\n",
       " 216022,\n",
       " 216023,\n",
       " 216024,\n",
       " 216025,\n",
       " 216026,\n",
       " 216027,\n",
       " 216028,\n",
       " 216029,\n",
       " 216030,\n",
       " 216031,\n",
       " 216032,\n",
       " 216033,\n",
       " 216034,\n",
       " 216035,\n",
       " 216036,\n",
       " 216037,\n",
       " 216038,\n",
       " 216039,\n",
       " 216040,\n",
       " 216041,\n",
       " 216042,\n",
       " 216043,\n",
       " 216044,\n",
       " 216045,\n",
       " 216046,\n",
       " 216047,\n",
       " 216048,\n",
       " 216049,\n",
       " 216050,\n",
       " 216051,\n",
       " 216052,\n",
       " 216053,\n",
       " 216054,\n",
       " 216055,\n",
       " 216056,\n",
       " 216057,\n",
       " 216058,\n",
       " 216059,\n",
       " 216060,\n",
       " 216061,\n",
       " 216062,\n",
       " 216063,\n",
       " 216064,\n",
       " 216065,\n",
       " 216066,\n",
       " 216067,\n",
       " 216068,\n",
       " 216069,\n",
       " 216070,\n",
       " 216071,\n",
       " 216072,\n",
       " 216073,\n",
       " 216074,\n",
       " 216075,\n",
       " 216076,\n",
       " 216077,\n",
       " 216078,\n",
       " 216079,\n",
       " 216080,\n",
       " 216081,\n",
       " 216082,\n",
       " 216083,\n",
       " 216084,\n",
       " 216085,\n",
       " 216086,\n",
       " 216087,\n",
       " 216088,\n",
       " 216089,\n",
       " 216090,\n",
       " 216091,\n",
       " 216092,\n",
       " 216093,\n",
       " 216094,\n",
       " 216095,\n",
       " 216096,\n",
       " 216097,\n",
       " 216098,\n",
       " 216099,\n",
       " 216100,\n",
       " 216101,\n",
       " 216102,\n",
       " 216103,\n",
       " 216104,\n",
       " 216105,\n",
       " 216106,\n",
       " 216107,\n",
       " 216108,\n",
       " 216109,\n",
       " 216110,\n",
       " 216111,\n",
       " 216112,\n",
       " 216113,\n",
       " 216114,\n",
       " 216115,\n",
       " 216116,\n",
       " 216117,\n",
       " 216118,\n",
       " 216119,\n",
       " 216120,\n",
       " 216121,\n",
       " 216122,\n",
       " 216123,\n",
       " 216124,\n",
       " 216125,\n",
       " 216126,\n",
       " 216127,\n",
       " 216128,\n",
       " 216129,\n",
       " 216130,\n",
       " 216131,\n",
       " 216132,\n",
       " 216133,\n",
       " 216134,\n",
       " 216135,\n",
       " 216136,\n",
       " 216137,\n",
       " 216138,\n",
       " 216139,\n",
       " 216140,\n",
       " 216141,\n",
       " 216142,\n",
       " 216143,\n",
       " 216144,\n",
       " 216145,\n",
       " 216146,\n",
       " 216147,\n",
       " 216148,\n",
       " 216149,\n",
       " 216150,\n",
       " 216151,\n",
       " 216152,\n",
       " 216153,\n",
       " 216154,\n",
       " 216155,\n",
       " 216156,\n",
       " 216157,\n",
       " 216158,\n",
       " 216159,\n",
       " 216160,\n",
       " 216161,\n",
       " 216162,\n",
       " 216163,\n",
       " 216164,\n",
       " 216165,\n",
       " 216166,\n",
       " 216167,\n",
       " 216168,\n",
       " 216169,\n",
       " 216170,\n",
       " 216171,\n",
       " 216172,\n",
       " 216173,\n",
       " 216174,\n",
       " 216175,\n",
       " 216176,\n",
       " 216177,\n",
       " 216178,\n",
       " 216179,\n",
       " 216180,\n",
       " 216181,\n",
       " 216182,\n",
       " 216183,\n",
       " 216184,\n",
       " 216185,\n",
       " 216186,\n",
       " 216187,\n",
       " 216188,\n",
       " 216189,\n",
       " 216190,\n",
       " 216191,\n",
       " 216192,\n",
       " 216193,\n",
       " 216194,\n",
       " 216195,\n",
       " 216196,\n",
       " 216197,\n",
       " 216198,\n",
       " 216199,\n",
       " 216200,\n",
       " 216201,\n",
       " 216202,\n",
       " 216203,\n",
       " 216204,\n",
       " 216205,\n",
       " 216206,\n",
       " 216207,\n",
       " 216208,\n",
       " 216209,\n",
       " 216210,\n",
       " 216211,\n",
       " 216212,\n",
       " 216213,\n",
       " 216214,\n",
       " 216215,\n",
       " 216216,\n",
       " 216217,\n",
       " 216218,\n",
       " 216219,\n",
       " 216220,\n",
       " 216221,\n",
       " 216222,\n",
       " 216223,\n",
       " 216224,\n",
       " 216225,\n",
       " 216226,\n",
       " 216227,\n",
       " 216228,\n",
       " 216229,\n",
       " 216230,\n",
       " 216231,\n",
       " 216232,\n",
       " 216233,\n",
       " 216234,\n",
       " 216235,\n",
       " 216236,\n",
       " 216237,\n",
       " 216238,\n",
       " 216239,\n",
       " 216240,\n",
       " 216241,\n",
       " 216242,\n",
       " 216243,\n",
       " 216244,\n",
       " 216245,\n",
       " 216246,\n",
       " 216247,\n",
       " 216248,\n",
       " 216249,\n",
       " 216250,\n",
       " 216251,\n",
       " 216252,\n",
       " 216253,\n",
       " 216254,\n",
       " 216255,\n",
       " 216256,\n",
       " 216257,\n",
       " 216258,\n",
       " 216259,\n",
       " 216260,\n",
       " 216261,\n",
       " 216262,\n",
       " 216263,\n",
       " 216264,\n",
       " 216265,\n",
       " 216266,\n",
       " 216267,\n",
       " 216268,\n",
       " 216269,\n",
       " 216270,\n",
       " 216271,\n",
       " 216272,\n",
       " 216273,\n",
       " 216274,\n",
       " 216275,\n",
       " 216276,\n",
       " 216277,\n",
       " 216278,\n",
       " 216279,\n",
       " 216280,\n",
       " 216281,\n",
       " 216282,\n",
       " 216283,\n",
       " 216284,\n",
       " 216285,\n",
       " 216286,\n",
       " 216287,\n",
       " 216288,\n",
       " 216289,\n",
       " 216290,\n",
       " 216291,\n",
       " 216292,\n",
       " 216293,\n",
       " 216294,\n",
       " 216295,\n",
       " 216296,\n",
       " 216297,\n",
       " 216298,\n",
       " 216299,\n",
       " 216300,\n",
       " 216301,\n",
       " 216302,\n",
       " 216303,\n",
       " 216304,\n",
       " 216305,\n",
       " 216306,\n",
       " 216307,\n",
       " 216308,\n",
       " 216309,\n",
       " 216310,\n",
       " 216311,\n",
       " 216312,\n",
       " 216313,\n",
       " 216314,\n",
       " 216315,\n",
       " 216316,\n",
       " 216317,\n",
       " 216318,\n",
       " 216319,\n",
       " 216320,\n",
       " 216321,\n",
       " 216322,\n",
       " 216323,\n",
       " 216324,\n",
       " 216325,\n",
       " 216326,\n",
       " 216327,\n",
       " 216328,\n",
       " 216329,\n",
       " 216330,\n",
       " 216331,\n",
       " 216332,\n",
       " 216333,\n",
       " 216334,\n",
       " 216335,\n",
       " 216336,\n",
       " 216337,\n",
       " 216338,\n",
       " 216339,\n",
       " 216340,\n",
       " 216341,\n",
       " 216342,\n",
       " 216343,\n",
       " 216344,\n",
       " 216345,\n",
       " 216346,\n",
       " 216347,\n",
       " 216348,\n",
       " 216349,\n",
       " 216350,\n",
       " 216351,\n",
       " 216352,\n",
       " 216353,\n",
       " 216354,\n",
       " 216355,\n",
       " 216356,\n",
       " 216357,\n",
       " 216358,\n",
       " 216359,\n",
       " 216360,\n",
       " 216361,\n",
       " 216362,\n",
       " 216363,\n",
       " 216364,\n",
       " 216365,\n",
       " 216366,\n",
       " 216367,\n",
       " 216368,\n",
       " 216369,\n",
       " 216370,\n",
       " 216371,\n",
       " 216372,\n",
       " 216373,\n",
       " 216374,\n",
       " 216375,\n",
       " 216376,\n",
       " 216377,\n",
       " 216378,\n",
       " 216379,\n",
       " 216380,\n",
       " 216381,\n",
       " 216382,\n",
       " 216383,\n",
       " 216384,\n",
       " 216385,\n",
       " 216386,\n",
       " 216387,\n",
       " 216388,\n",
       " 216389,\n",
       " 216390,\n",
       " 216391,\n",
       " 216392,\n",
       " 216393,\n",
       " 216394,\n",
       " 216395,\n",
       " 216396,\n",
       " 216397,\n",
       " 216398,\n",
       " 216399,\n",
       " 216400,\n",
       " 216401,\n",
       " 216402,\n",
       " 216403,\n",
       " 216404,\n",
       " 216405,\n",
       " 216406,\n",
       " 216407,\n",
       " 216408,\n",
       " 216409,\n",
       " 216410,\n",
       " 216411,\n",
       " 216412,\n",
       " 216413,\n",
       " 216414,\n",
       " 216415,\n",
       " 216416,\n",
       " 216417,\n",
       " 216418,\n",
       " 216419,\n",
       " 216420,\n",
       " 216421,\n",
       " 216422,\n",
       " 216423,\n",
       " 216424,\n",
       " 216425,\n",
       " 216426,\n",
       " 216427,\n",
       " 216428,\n",
       " 216429,\n",
       " 216430,\n",
       " 216431,\n",
       " 216432,\n",
       " 216433,\n",
       " 216434,\n",
       " 216435,\n",
       " 216436,\n",
       " 216437,\n",
       " 216438,\n",
       " 216439,\n",
       " 216440,\n",
       " 216441,\n",
       " 216442,\n",
       " 216443,\n",
       " 216444,\n",
       " 216445,\n",
       " 216446,\n",
       " 216447,\n",
       " 216448,\n",
       " 216449,\n",
       " 216450,\n",
       " 216451,\n",
       " 216452,\n",
       " 216453,\n",
       " 216454,\n",
       " 216455,\n",
       " 216456,\n",
       " 216457,\n",
       " 216458,\n",
       " 216459,\n",
       " 216460,\n",
       " 216461,\n",
       " 216462,\n",
       " 216463,\n",
       " 216464,\n",
       " 216465,\n",
       " 216466,\n",
       " 216467,\n",
       " 216468,\n",
       " 216469,\n",
       " 216470,\n",
       " 216471,\n",
       " 216472,\n",
       " 216473,\n",
       " 216474,\n",
       " 216475,\n",
       " 216476,\n",
       " 216477,\n",
       " 216478,\n",
       " 216479,\n",
       " 216480,\n",
       " 216481,\n",
       " 216482,\n",
       " 216483,\n",
       " 216484,\n",
       " 216485,\n",
       " 216486,\n",
       " 216487,\n",
       " 216488,\n",
       " 216489,\n",
       " 216490,\n",
       " 216491,\n",
       " 216492,\n",
       " 216493,\n",
       " 216494,\n",
       " 216495,\n",
       " 216496,\n",
       " 216497,\n",
       " 216498,\n",
       " 216499,\n",
       " 216500,\n",
       " 216501,\n",
       " 216502,\n",
       " 216503,\n",
       " 216504,\n",
       " 216505,\n",
       " 216506,\n",
       " 216507,\n",
       " 216508,\n",
       " 216509,\n",
       " 216510,\n",
       " 216511,\n",
       " 216512,\n",
       " 216513,\n",
       " 216514,\n",
       " 216515,\n",
       " 216516,\n",
       " 216517,\n",
       " 216518,\n",
       " 216519,\n",
       " 216520,\n",
       " 216521,\n",
       " 216522,\n",
       " 216523,\n",
       " 216524,\n",
       " 216525,\n",
       " 216526,\n",
       " 216527,\n",
       " 216528,\n",
       " 216529,\n",
       " 216530,\n",
       " 216531,\n",
       " 216532,\n",
       " 216533,\n",
       " 216534,\n",
       " 216535,\n",
       " 216536,\n",
       " 216537,\n",
       " 216538,\n",
       " 216539,\n",
       " 216540,\n",
       " 216541,\n",
       " 216542,\n",
       " 216543,\n",
       " 216544,\n",
       " 216545,\n",
       " 216546,\n",
       " 216547,\n",
       " 216548,\n",
       " 216549,\n",
       " 216550,\n",
       " 216551,\n",
       " 216552,\n",
       " 216553,\n",
       " 216554,\n",
       " 216555,\n",
       " 216556,\n",
       " 216557,\n",
       " 216558,\n",
       " 216559,\n",
       " 216560,\n",
       " 216561,\n",
       " 216562,\n",
       " 216563,\n",
       " 216564,\n",
       " 216565,\n",
       " 216566,\n",
       " 216567,\n",
       " 216568,\n",
       " 216569,\n",
       " 216570,\n",
       " 216571,\n",
       " 216572,\n",
       " 216573,\n",
       " 216574,\n",
       " 216575,\n",
       " 216576,\n",
       " 216577,\n",
       " 216578,\n",
       " 216579,\n",
       " 216580,\n",
       " 216581,\n",
       " 216582,\n",
       " 216583,\n",
       " 216584,\n",
       " 216585,\n",
       " 216586,\n",
       " 216587,\n",
       " 216588,\n",
       " 216589,\n",
       " 216590,\n",
       " 216591,\n",
       " 216592,\n",
       " 216593,\n",
       " 216594,\n",
       " 216595,\n",
       " 216596,\n",
       " 216597,\n",
       " 216598,\n",
       " 216599,\n",
       " 216600,\n",
       " 216601,\n",
       " 216602,\n",
       " 216603,\n",
       " 216604,\n",
       " 216605,\n",
       " 216606,\n",
       " 216607,\n",
       " 216608,\n",
       " 216609,\n",
       " 216610,\n",
       " 216611,\n",
       " 216612,\n",
       " 216613,\n",
       " 216614,\n",
       " 216615,\n",
       " 216616,\n",
       " 216617,\n",
       " 216618,\n",
       " 216619,\n",
       " 216620,\n",
       " 216621,\n",
       " 216622,\n",
       " 216623,\n",
       " 216624,\n",
       " 216625,\n",
       " 216626,\n",
       " 216627,\n",
       " 216628,\n",
       " 216629,\n",
       " 216630,\n",
       " 216631,\n",
       " 216632,\n",
       " 216633,\n",
       " 216634,\n",
       " 216635,\n",
       " 216636,\n",
       " 216637,\n",
       " 216638,\n",
       " 216639,\n",
       " 216640,\n",
       " 216641,\n",
       " 216642,\n",
       " 216643,\n",
       " 216644,\n",
       " 216645,\n",
       " 216646,\n",
       " 216647,\n",
       " 216648,\n",
       " 216649,\n",
       " 216650,\n",
       " 216651,\n",
       " 216652,\n",
       " 216653,\n",
       " 216654,\n",
       " 216655,\n",
       " 216656,\n",
       " 216657,\n",
       " 216658,\n",
       " 216659,\n",
       " 216660,\n",
       " 216661,\n",
       " 216662,\n",
       " 216663,\n",
       " 216664,\n",
       " ...]"
      ]
     },
     "execution_count": 17,
     "metadata": {},
     "output_type": "execute_result"
    }
   ],
   "source": [
    "pp"
   ]
  },
  {
   "cell_type": "code",
   "execution_count": null,
   "id": "2aa9d0f3",
   "metadata": {},
   "outputs": [],
   "source": []
  }
 ],
 "metadata": {
  "kernelspec": {
   "display_name": "Python 3",
   "language": "python",
   "name": "python3"
  },
  "language_info": {
   "codemirror_mode": {
    "name": "ipython",
    "version": 3
   },
   "file_extension": ".py",
   "mimetype": "text/x-python",
   "name": "python",
   "nbconvert_exporter": "python",
   "pygments_lexer": "ipython3",
   "version": "3.9.20"
  }
 },
 "nbformat": 4,
 "nbformat_minor": 5
}
