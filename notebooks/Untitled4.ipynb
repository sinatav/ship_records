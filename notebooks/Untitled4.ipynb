{
 "cells": [
  {
   "cell_type": "code",
   "execution_count": 1,
   "id": "87efdc03",
   "metadata": {},
   "outputs": [
    {
     "name": "stdout",
     "output_type": "stream",
     "text": [
      "Todo List:\n",
      "ID: 1, Title: Buy groceries, Status: Pending\n",
      "ID: 2, Title: Complete Python project, Status: Pending\n",
      "ID: 3, Title: Go to the gym, Status: Pending\n",
      "\n",
      "Updated Todo List:\n",
      "ID: 2, Title: Complete Python project, Status: Completed\n",
      "ID: 3, Title: Go to the gym, Status: Pending\n"
     ]
    }
   ],
   "source": [
    "class Task:\n",
    "    def __init__(self, task_id, title, status=\"Pending\"):\n",
    "        self.task_id = task_id\n",
    "        self.title = title\n",
    "        self.status = status\n",
    "\n",
    "    def update_status(self, new_status):\n",
    "\n",
    "        self.status = new_status\n",
    "\n",
    "    def __str__(self):\n",
    "        return f\"ID: {self.task_id}, Title: {self.title}, Status: {self.status}\"\n",
    "\n",
    "\n",
    "class TodoList:\n",
    "    def __init__(self):\n",
    "        self.tasks = []\n",
    "\n",
    "    def add_task(self, task):\n",
    "        self.tasks.append(task)\n",
    "\n",
    "    def remove_task(self, task_id):\n",
    "        self.tasks = [task for task in self.tasks if task.task_id != task_id]\n",
    "\n",
    "    def display_tasks(self):\n",
    "        if not self.tasks:\n",
    "            print(\"No tasks in the todo list.\")\n",
    "        else:\n",
    "            for task in self.tasks:\n",
    "                print(task)\n",
    "\n",
    "\n",
    "if __name__ == \"__main__\":\n",
    "    todo_list = TodoList()\n",
    "\n",
    "    task1 = Task(1, \"Buy groceries\")\n",
    "    task2 = Task(2, \"Complete Python project\")\n",
    "    task3 = Task(3, \"Go to the gym\")\n",
    "\n",
    "    todo_list.add_task(task1)\n",
    "    todo_list.add_task(task2)\n",
    "    todo_list.add_task(task3)\n",
    "\n",
    "    print(\"Todo List:\")\n",
    "    todo_list.display_tasks()\n",
    "\n",
    "    task2.update_status(\"Completed\")\n",
    "\n",
    "    todo_list.remove_task(1)\n",
    "\n",
    "    print(\"\\nUpdated Todo List:\")\n",
    "    todo_list.display_tasks()\n"
   ]
  },
  {
   "cell_type": "code",
   "execution_count": null,
   "id": "7f721af5",
   "metadata": {},
   "outputs": [],
   "source": []
  }
 ],
 "metadata": {
  "kernelspec": {
   "display_name": "Python 3",
   "language": "python",
   "name": "python3"
  },
  "language_info": {
   "codemirror_mode": {
    "name": "ipython",
    "version": 3
   },
   "file_extension": ".py",
   "mimetype": "text/x-python",
   "name": "python",
   "nbconvert_exporter": "python",
   "pygments_lexer": "ipython3",
   "version": "3.9.20"
  }
 },
 "nbformat": 4,
 "nbformat_minor": 5
}
