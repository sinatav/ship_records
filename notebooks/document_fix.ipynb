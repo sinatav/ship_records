{
 "cells": [
  {
   "cell_type": "code",
   "execution_count": 9,
   "id": "fe8602eb",
   "metadata": {},
   "outputs": [],
   "source": [
    "import pandas as pd"
   ]
  },
  {
   "cell_type": "code",
   "execution_count": 10,
   "id": "d389ec7c",
   "metadata": {},
   "outputs": [],
   "source": [
    "df_d = pd.read_csv('document_final.csv', low_memory=False).drop('Unnamed: 0', axis=1)"
   ]
  },
  {
   "cell_type": "code",
   "execution_count": 11,
   "id": "1fe55345",
   "metadata": {},
   "outputs": [],
   "source": [
    "for index, row in df_d.iterrows():\n",
    "    df_d.at[index, 'voyage_doc_no'] = row['Voyage Code']+'_'+str(row['voyage_doc_no'])"
   ]
  },
  {
   "cell_type": "code",
   "execution_count": 13,
   "id": "26cbaa3e",
   "metadata": {},
   "outputs": [],
   "source": [
    "df_d.to_csv('document_final.csv')"
   ]
  },
  {
   "cell_type": "code",
   "execution_count": null,
   "id": "c44dccd8",
   "metadata": {},
   "outputs": [],
   "source": []
  }
 ],
 "metadata": {
  "kernelspec": {
   "display_name": "Python 3",
   "language": "python",
   "name": "python3"
  },
  "language_info": {
   "codemirror_mode": {
    "name": "ipython",
    "version": 3
   },
   "file_extension": ".py",
   "mimetype": "text/x-python",
   "name": "python",
   "nbconvert_exporter": "python",
   "pygments_lexer": "ipython3",
   "version": "3.9.20"
  }
 },
 "nbformat": 4,
 "nbformat_minor": 5
}
