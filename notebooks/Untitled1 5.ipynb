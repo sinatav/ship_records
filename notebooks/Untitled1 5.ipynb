{
 "cells": [
  {
   "cell_type": "code",
   "execution_count": 1,
   "id": "05f81f0b",
   "metadata": {},
   "outputs": [
    {
     "name": "stdout",
     "output_type": "stream",
     "text": [
      "\u001b[33mDEPRECATION: Configuring installation scheme with distutils config files is deprecated and will no longer work in the near future. If you are using a Homebrew or Linuxbrew Python, please see discussion at https://github.com/Homebrew/homebrew-core/issues/76621\u001b[0m\u001b[33m\n",
      "\u001b[0mRequirement already satisfied: pyPDF2 in /usr/local/lib/python3.9/site-packages (1.26.0)\n",
      "\u001b[33mDEPRECATION: Configuring installation scheme with distutils config files is deprecated and will no longer work in the near future. If you are using a Homebrew or Linuxbrew Python, please see discussion at https://github.com/Homebrew/homebrew-core/issues/76621\u001b[0m\u001b[33m\n",
      "\u001b[0m\u001b[33mWARNING: There was an error checking the latest version of pip.\u001b[0m\u001b[33m\n",
      "\u001b[0mNote: you may need to restart the kernel to use updated packages.\n"
     ]
    }
   ],
   "source": [
    "pip install pyPDF2"
   ]
  },
  {
   "cell_type": "code",
   "execution_count": 2,
   "id": "abe0d16f",
   "metadata": {},
   "outputs": [],
   "source": [
    "import PyPDF2\n",
    "\n",
    "def remove_first_page(input_pdf, output_pdf):\n",
    "    with open(input_pdf, 'rb') as file:\n",
    "        pdf_reader = PyPDF2.PdfFileReader(file)\n",
    "        pdf_writer = PyPDF2.PdfFileWriter()\n",
    "\n",
    "        for page_num in range(1, pdf_reader.numPages):\n",
    "            page = pdf_reader.getPage(page_num)\n",
    "            pdf_writer.addPage(page)\n",
    "\n",
    "        with open(output_pdf, 'wb') as output_file:\n",
    "            pdf_writer.write(output_file)\n",
    "\n",
    "if __name__ == \"__main__\":\n",
    "    input_file = \"IMPROVED_PROTEIN_SEQUENCE_ALIGNMENTS_USING_DEEP_LEARNING (1).pdf\"\n",
    "    output_file = \"IMPROVED_PROTEIN_SEQUENCE_ALIGNMENTS_USING_DEEP_LEARNING_without_title.pdf\"\n",
    "\n",
    "    remove_first_page(input_file, output_file)\n"
   ]
  },
  {
   "cell_type": "code",
   "execution_count": null,
   "id": "ffea0e8d",
   "metadata": {},
   "outputs": [],
   "source": []
  }
 ],
 "metadata": {
  "kernelspec": {
   "display_name": "Python 3",
   "language": "python",
   "name": "python3"
  },
  "language_info": {
   "codemirror_mode": {
    "name": "ipython",
    "version": 3
   },
   "file_extension": ".py",
   "mimetype": "text/x-python",
   "name": "python",
   "nbconvert_exporter": "python",
   "pygments_lexer": "ipython3",
   "version": "3.9.13"
  }
 },
 "nbformat": 4,
 "nbformat_minor": 5
}
