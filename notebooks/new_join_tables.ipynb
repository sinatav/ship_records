{
 "cells": [
  {
   "cell_type": "code",
   "execution_count": 1,
   "id": "d0b0bf4b",
   "metadata": {},
   "outputs": [],
   "source": [
    "import pandas as pd\n",
    "from tqdm import tqdm"
   ]
  },
  {
   "cell_type": "code",
   "execution_count": 13,
   "id": "540489ef",
   "metadata": {},
   "outputs": [],
   "source": [
    "df_r = pd.read_csv('beta_record.csv', low_memory=False).drop('Unnamed: 0', axis=1)\n",
    "df_p = pd.read_csv('beta_person.csv', low_memory=False).drop('Unnamed: 0', axis=1)\n",
    "# df_v = pd.read_csv('beta_voyage.csv', low_memory=False)\n",
    "# df_v_columns = list(df_v.columns)\n",
    "# df_s = pd.read_csv('beta_ship.csv', low_memory=False)\n",
    "# df_s_columns = list(df_s.columns)\n",
    "# df_f = pd.read_csv('beta_function.csv', low_memory=False)\n",
    "# df_f_columns = list(df_f.columns)\n",
    "df_o = pd.read_csv('beta_origin.csv', low_memory=False).drop('Unnamed: 0', axis=1)\n",
    "# df_o_columns = list(df_o.columns)\n",
    "# df1 = pd.merge(df_r, df_s, on='ship_id', how='inner')\n",
    "# df2 = pd.merge(df1, df_v, on='voyage_id', how='inner')\n",
    "# df3 = pd.merge(df2, df_p, on='person_id', how='inner')\n",
    "# df4 = pd.merge(df3, df_o, on='origin_id', how='inner')\n",
    "df1 = pd.merge(df_r, df_o, on='origin_id', how='inner')\n",
    "df = pd.merge(df1, df_p, on='person_id', how='inner')"
   ]
  },
  {
   "cell_type": "code",
   "execution_count": 9,
   "id": "94f19811",
   "metadata": {},
   "outputs": [],
   "source": [
    "df_r_columns2 = ['record_id',\n",
    " 'file_name',\n",
    " 'n',\n",
    " 'age',\n",
    " 'build',\n",
    " 'complexion',\n",
    " 'conscription',\n",
    " 'wage',\n",
    " 'remarks',\n",
    " 'f_n',\n",
    " 'zot_title',\n",
    " 'date_of_birth',\n",
    " 'date_of_death',\n",
    " 'medical_issues',\n",
    " 'passage_paid_by',\n",
    " 'emb_date',\n",
    " 'emb_loc',\n",
    " 'emb_class',\n",
    " 'disemb_date',\n",
    " 'disemb_loc',\n",
    " 'disemb_class',\n",
    " 'days_on_voyage',\n",
    " 'earnings',\n",
    " 'person_id',\n",
    " 'origin_id',\n",
    " 'function_id',\n",
    " 'ship_id',\n",
    " 'voyage_id']\n",
    "df_p_columns2 = ['person_id',\n",
    " 'last_name',\n",
    " 'first_name',\n",
    " 'alternate_last_name',\n",
    " 'alternate_first_name',\n",
    " 'parents',\n",
    " 'gender',\n",
    " 'families_groups',\n",
    " 'orig_cert']"
   ]
  },
  {
   "cell_type": "code",
   "execution_count": 17,
   "id": "354f37d4",
   "metadata": {},
   "outputs": [],
   "source": [
    "df[df_p_columns2].sort_values(by='person_id').to_csv('person_jul.csv')"
   ]
  },
  {
   "cell_type": "code",
   "execution_count": null,
   "id": "ce235d9f",
   "metadata": {},
   "outputs": [],
   "source": []
  }
 ],
 "metadata": {
  "kernelspec": {
   "display_name": "Python 3",
   "language": "python",
   "name": "python3"
  },
  "language_info": {
   "codemirror_mode": {
    "name": "ipython",
    "version": 3
   },
   "file_extension": ".py",
   "mimetype": "text/x-python",
   "name": "python",
   "nbconvert_exporter": "python",
   "pygments_lexer": "ipython3",
   "version": "3.9.20"
  }
 },
 "nbformat": 4,
 "nbformat_minor": 5
}
