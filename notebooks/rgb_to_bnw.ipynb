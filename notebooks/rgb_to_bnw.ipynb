{
 "cells": [
  {
   "cell_type": "code",
   "execution_count": 8,
   "id": "faf65380",
   "metadata": {},
   "outputs": [],
   "source": [
    "from PIL import Image\n",
    "import numpy as np\n",
    "import os\n",
    "import cv2\n",
    "from skimage import measure, io\n",
    "from skimage.color import rgb2gray\n",
    "from skimage.filters import threshold_otsu\n",
    "import matplotlib.pyplot as plt\n",
    "from scipy.spatial import Delaunay"
   ]
  },
  {
   "cell_type": "code",
   "execution_count": 61,
   "id": "4843c041",
   "metadata": {},
   "outputs": [],
   "source": [
    "directory = 'japan/'\n",
    "\n",
    "for filename in os.listdir(directory):\n",
    "    if filename.endswith(\".jpg\"):\n",
    "        file_path = os.path.join(directory, filename)\n",
    "    else:\n",
    "        continue\n",
    "    image = Image.open(file_path)\n",
    "    gray_image = image.convert('L')\n",
    "\n",
    "    bnw_image = gray_image.point(lambda x: 0 if x < 128 else 255, '1')\n",
    "\n",
    "    bnw_image_matrix = np.array(bnw_image)\n",
    "\n",
    "    bnw_image = Image.fromarray(bnw_image_matrix)\n",
    "    bnw_image.save(directory+'bnw/'+filename)"
   ]
  },
  {
   "cell_type": "code",
   "execution_count": 17,
   "id": "34588256",
   "metadata": {},
   "outputs": [],
   "source": [
    "image_path = 'ppp.png'\n",
    "def draw_outline_one_line(image_path, output_path, threshold):\n",
    "    # Read the image\n",
    "    img = cv2.imread(image_path)\n",
    "\n",
    "    # Convert the image to grayscale\n",
    "    gray = cv2.cvtColor(img, cv2.COLOR_BGR2GRAY)\n",
    "\n",
    "    # Apply a Canny edge detector to find edges\n",
    "    edges = cv2.Canny(gray, 100, 200)\n",
    "\n",
    "    # Define a kernel size based on the threshold\n",
    "    kernel = np.ones((threshold, threshold), np.uint8)\n",
    "\n",
    "    # Dilate the edges to merge close lines\n",
    "    dilated_edges = cv2.dilate(edges, kernel, iterations=1)\n",
    "\n",
    "    # Erode the edges back to single-pixel width\n",
    "    merged_edges = cv2.erode(dilated_edges, kernel, iterations=1)\n",
    "\n",
    "    # Create an output image with white background\n",
    "    outline_image = np.ones_like(img) * 255\n",
    "\n",
    "    # Draw the merged edges in black\n",
    "    outline_image[merged_edges == 255] = [0, 0, 0]\n",
    "\n",
    "    # Save the output image\n",
    "    cv2.imwrite(output_path, outline_image)\n",
    "\n",
    "    # Display the original and outline images\n",
    "    plt.subplot(121), plt.imshow(cv2.cvtColor(img, cv2.COLOR_BGR2RGB)), plt.title('Original Image')\n",
    "    plt.subplot(122), plt.imshow(cv2.cvtColor(outline_image, cv2.COLOR_BGR2RGB)), plt.title('Single Line Outline Image')\n",
    "    plt.show()"
   ]
  },
  {
   "cell_type": "code",
   "execution_count": 19,
   "id": "4084b378",
   "metadata": {},
   "outputs": [
    {
     "data": {
      "image/png": "[encoded data removed]",
      "text/plain": [
       "<Figure size 432x288 with 2 Axes>"
      ]
     },
     "metadata": {
      "needs_background": "light"
     },
     "output_type": "display_data"
    }
   ],
   "source": [
    "draw_outline_one_line(image_path, 'GG.png', 5)"
   ]
  },
  {
   "cell_type": "code",
   "execution_count": null,
   "id": "e2a49cf2",
   "metadata": {},
   "outputs": [],
   "source": []
  }
 ],
 "metadata": {
  "kernelspec": {
   "display_name": "Python 3",
   "language": "python",
   "name": "python3"
  },
  "language_info": {
   "codemirror_mode": {
    "name": "ipython",
    "version": 3
   },
   "file_extension": ".py",
   "mimetype": "text/x-python",
   "name": "python",
   "nbconvert_exporter": "python",
   "pygments_lexer": "ipython3",
   "version": "3.9.13"
  }
 },
 "nbformat": 4,
 "nbformat_minor": 5
}
