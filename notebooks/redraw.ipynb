{
 "cells": [
  {
   "cell_type": "code",
   "execution_count": 1,
   "id": "586bbe2c",
   "metadata": {},
   "outputs": [],
   "source": [
    "import cv2\n",
    "import numpy as np\n",
    "from skimage.morphology import skeletonize\n",
    "from skimage.feature import corner_harris, corner_peaks\n",
    "import svgwrite\n",
    "import matplotlib.pyplot as plt\n",
    "from skimage import io"
   ]
  },
  {
   "cell_type": "code",
   "execution_count": 2,
   "id": "b2d1990c",
   "metadata": {},
   "outputs": [],
   "source": [
    "# Function to display images\n",
    "def display_image(image, title):\n",
    "    plt.imshow(image, cmap='gray')\n",
    "    plt.title(title)\n",
    "    plt.axis('off')\n",
    "    plt.show()\n",
    "\n",
    "# Step 1: Make shapes hollow\n",
    "def make_shapes_hollow(image, line_thickness=1):\n",
    "    print(\"Step 1: Making filled shapes hollow...\")\n",
    "    \n",
    "    # Thresholding to binary (0 or 255)\n",
    "    _, binary_image = cv2.threshold(image, 127, 255, cv2.THRESH_BINARY_INV)\n",
    "    \n",
    "    # Find contours from the binary image\n",
    "    contours, _ = cv2.findContours(binary_image, cv2.RETR_EXTERNAL, cv2.CHAIN_APPROX_SIMPLE)\n",
    "    \n",
    "    # Create a blank canvas to draw the hollow outlines\n",
    "    hollow_image = np.zeros_like(binary_image)\n",
    "    \n",
    "    # Draw only the contours on the hollow_image (ignoring the filled regions)\n",
    "    cv2.drawContours(hollow_image, contours, -1, (255), 1)  # Thickness of 1 for hollow outline\n",
    "    \n",
    "    # If line_thickness is greater than 1, apply dilation to thicken the lines\n",
    "    if line_thickness > 1:\n",
    "        kernel = cv2.getStructuringElement(cv2.MORPH_RECT, (line_thickness, line_thickness))\n",
    "        hollow_image = cv2.dilate(hollow_image, kernel, iterations=1)\n",
    "    \n",
    "    # Show the result of Step 1\n",
    "    display_image(hollow_image, \"Hollow and Thickened Shapes\")\n",
    "    \n",
    "    return hollow_image\n",
    "\n",
    "# Step 2: Skeletonize the hollowed image\n",
    "def skeletonize_image(hollow_image):\n",
    "    print(\"Step 2: Skeletonizing the hollow shapes...\")\n",
    "    \n",
    "    # Convert the hollow image to a binary format (0 and 1) for skeletonization\n",
    "    binary_hollow_image = hollow_image > 0\n",
    "    \n",
    "    # Apply skeletonization\n",
    "    skeleton = skeletonize(binary_hollow_image)\n",
    "    \n",
    "    # Convert back to 255 scale for display purposes\n",
    "    skeleton_image = (skeleton * 255).astype(np.uint8)\n",
    "    \n",
    "    # Show the skeletonized result\n",
    "    display_image(skeleton_image, \"Skeletonized Image\")\n",
    "    \n",
    "    cv2.imwrite('TEST.png', skeleton_image)\n",
    "    \n",
    "    return skeleton_image\n",
    "\n",
    "# Main function\n",
    "def main(image_path):\n",
    "    # Load the input image (assumed to be grayscale or already binary)\n",
    "    image = cv2.imread(image_path, cv2.IMREAD_GRAYSCALE)\n",
    "    \n",
    "    # Step 1: Make shapes hollow\n",
    "    hollow_image = make_shapes_hollow(image, line_thickness=25)\n",
    "    \n",
    "    # Step 2: Skeletonize the hollow shapes\n",
    "    skeleton_image = skeletonize_image(hollow_image)"
   ]
  },
  {
   "cell_type": "code",
   "execution_count": 4,
   "id": "acdf4a8e",
   "metadata": {},
   "outputs": [
    {
     "name": "stdout",
     "output_type": "stream",
     "text": [
      "Step 1: Making filled shapes hollow...\n"
     ]
    },
    {
     "data": {
      "image/png": "[encoded data removed]",
      "text/plain": [
       "<Figure size 432x288 with 1 Axes>"
      ]
     },
     "metadata": {
      "needs_background": "light"
     },
     "output_type": "display_data"
    },
    {
     "name": "stdout",
     "output_type": "stream",
     "text": [
      "Step 2: Skeletonizing the hollow shapes...\n"
     ]
    },
    {
     "data": {
      "image/png": "[encoded data removed]",
      "text/plain": [
       "<Figure size 432x288 with 1 Axes>"
      ]
     },
     "metadata": {
      "needs_background": "light"
     },
     "output_type": "display_data"
    }
   ],
   "source": [
    "main('ppp.png')"
   ]
  },
  {
   "cell_type": "code",
   "execution_count": 82,
   "id": "132cae7b",
   "metadata": {},
   "outputs": [],
   "source": [
    "# Utility function to display images in Jupyter\n",
    "def display_image(image, title=\"Image\"):\n",
    "    plt.figure(figsize=(6, 6))\n",
    "    plt.imshow(image, cmap=\"gray\")\n",
    "    plt.title(title)\n",
    "    plt.axis(\"off\")\n",
    "    plt.show()\n",
    "\n",
    "# Step 1: Convert filled shapes to hollow by detecting the contours\n",
    "def make_shapes_hollow(image, line_thickness=1):\n",
    "    print(\"Step 1: Making filled shapes hollow...\")\n",
    "    \n",
    "    # Thresholding to binary (0 or 255)\n",
    "    _, binary_image = cv2.threshold(image, 127, 255, cv2.THRESH_BINARY_INV)\n",
    "    \n",
    "    # Find contours from the binary image\n",
    "    contours, _ = cv2.findContours(binary_image, cv2.RETR_EXTERNAL, cv2.CHAIN_APPROX_SIMPLE)\n",
    "    \n",
    "    # Create a blank canvas to draw the hollow outlines\n",
    "    hollow_image = np.zeros_like(binary_image)\n",
    "    \n",
    "    # Draw only the contours on the hollow_image (ignoring the filled regions)\n",
    "    cv2.drawContours(hollow_image, contours, -1, (255), 1)  # Thickness of 1 for hollow outline\n",
    "    \n",
    "    # If line_thickness is greater than 1, apply dilation to thicken the lines\n",
    "    if line_thickness > 1:\n",
    "        kernel = cv2.getStructuringElement(cv2.MORPH_RECT, (line_thickness, line_thickness))\n",
    "        hollow_image = cv2.dilate(hollow_image, kernel, iterations=1)\n",
    "    \n",
    "    # Show the result of Step 1\n",
    "    display_image(hollow_image, \"Hollow and Thickened Shapes\")\n",
    "    \n",
    "    return hollow_image\n",
    "\n",
    "# Step 2: Skeletonize the hollow image using scikit-image\n",
    "def skeletonize_image(hollow_image):\n",
    "    print(\"Step 2: Extracting centerline (skeletonizing) the image...\")\n",
    "    \n",
    "    # Convert the hollow image to binary (0-1 range) for skeletonization\n",
    "    binary_hollow = hollow_image // 255\n",
    "    \n",
    "    # Skeletonize the binary image using scikit-image's skeletonize function\n",
    "    skeleton = skeletonize(binary_hollow).astype(np.uint8) * 255\n",
    "    \n",
    "    # Show the result of Step 2\n",
    "    display_image(skeleton, \"Skeletonized Image (Centerlines)\")\n",
    "    \n",
    "    return skeleton\n",
    "\n",
    "# Step 3: Detect and handle forks in skeletonized lines\n",
    "def detect_forks_and_merge_pipes(skeleton_image):\n",
    "    print(\"Step 3: Detecting forks and merging pipes...\")\n",
    "    \n",
    "    # Find fork points by checking the number of neighbors each pixel has\n",
    "    kernel = np.ones((3, 3), np.uint8)\n",
    "    neighbors_count = cv2.filter2D(skeleton_image, -1, kernel)\n",
    "    \n",
    "    # Fork points are where more than 2 neighbors exist\n",
    "    fork_points = np.where(neighbors_count > 3, 255, 0).astype(np.uint8)\n",
    "    \n",
    "    # Create an empty image to visualize forks and lines merging\n",
    "    fork_image = np.zeros_like(skeleton_image)\n",
    "    fork_image[fork_points == 255] = 255\n",
    "    \n",
    "    # Show the fork points\n",
    "    display_image(fork_image, \"Fork Points\")\n",
    "    \n",
    "    return skeleton_image, fork_points\n",
    "\n",
    "# Step 4: Trace the outline of the skeleton\n",
    "def find_contours(skeleton_image):\n",
    "    print(\"Step 4: Finding contours in the skeletonized image...\")\n",
    "    \n",
    "    # Find contours from the skeletonized image\n",
    "    contours, _ = cv2.findContours(skeleton_image, cv2.RETR_EXTERNAL, cv2.CHAIN_APPROX_NONE)\n",
    "    \n",
    "    # Approximate each contour to a polygon\n",
    "    polygons = []\n",
    "    for contour in contours:\n",
    "        epsilon = 0.01 * cv2.arcLength(contour, True)  # Adjust epsilon for smoothness\n",
    "        polygon = cv2.approxPolyDP(contour, epsilon, True)\n",
    "        polygons.append(polygon)\n",
    "    \n",
    "    # Create an empty image to draw contours\n",
    "    contour_image = np.zeros_like(skeleton_image)\n",
    "    cv2.drawContours(contour_image, contours, -1, (255), 1)\n",
    "    \n",
    "    # Show the result of Step 4\n",
    "    display_image(contour_image, \"Contour Image\")\n",
    "    \n",
    "    return polygons\n",
    "\n",
    "# Step 5: Classify edges as straight or curved\n",
    "def classify_edges(contours, skeleton_image):\n",
    "    print(\"Step 5: Classifying edges as straight or curved...\")\n",
    "    \n",
    "    edges = []\n",
    "    for contour in contours:\n",
    "        for i in range(len(contour) - 1):\n",
    "            p1 = contour[i][0]\n",
    "            p2 = contour[i + 1][0]\n",
    "            dist = np.linalg.norm(p2 - p1)\n",
    "            if dist > 5:  # Edge length threshold for \"straight\"\n",
    "                edges.append((tuple(map(int, p1)), tuple(map(int, p2))))  # Ensure coordinates are integers\n",
    "    \n",
    "    # Display the edges on an empty image\n",
    "    edge_image = np.zeros((skeleton_image.shape[0], skeleton_image.shape[1], 3), dtype=np.uint8)\n",
    "    for edge in edges:\n",
    "        start, end = edge\n",
    "        cv2.line(edge_image, start, end, (0, 255, 0), 1)\n",
    "    \n",
    "    # Show the result of Step 5\n",
    "    display_image(edge_image, \"Edges Classified\")\n",
    "    \n",
    "    return edges\n",
    "\n",
    "# Step 6: Export to SVG for CorelDRAW\n",
    "def export_to_svg(edges, output_file='output.svg'):\n",
    "    print(\"Step 6: Exporting to SVG...\")\n",
    "    \n",
    "    dwg = svgwrite.Drawing(output_file, profile='tiny')\n",
    "    \n",
    "    for edge in edges:\n",
    "        start, end = edge\n",
    "        dwg.add(dwg.line(start=start, end=end, stroke=svgwrite.rgb(0, 0, 0, '%')))\n",
    "    \n",
    "    dwg.save()\n",
    "    print(f\"SVG file saved to {output_file}\")\n",
    "\n",
    "# Main function to process the image\n",
    "def process_image(image_path, output_file='output.svg'):\n",
    "    # Step 1: Read the image\n",
    "    image = cv2.imread(image_path, cv2.IMREAD_GRAYSCALE)\n",
    "    \n",
    "    # Step 1: Make the shapes hollow\n",
    "    hollow_image = make_shapes_hollow(image, line_thickness=15)\n",
    "    \n",
    "    # Step 2: Skeletonize the hollow image (centerline extraction)\n",
    "    skeleton = skeletonize_image(hollow_image)\n",
    "    \n",
    "#     # Step 3: Detect forks and handle pipe merging\n",
    "#     skeleton_with_forks, fork_points = detect_forks_and_merge_pipes(skeleton)\n",
    "    \n",
    "#     # Step 4: Find contours in the skeletonized image\n",
    "#     contours = find_contours(skeleton_with_forks)\n",
    "    \n",
    "#     # Step 5: Classify edges\n",
    "#     edges = classify_edges(contours, skeleton)\n",
    "    \n",
    "    # Step 6: Export the outlines to SVG\n",
    "    export_to_svg(skeleton, output_file)"
   ]
  },
  {
   "cell_type": "code",
   "execution_count": 83,
   "id": "6fa7b72c",
   "metadata": {},
   "outputs": [
    {
     "name": "stdout",
     "output_type": "stream",
     "text": [
      "Step 1: Making filled shapes hollow...\n"
     ]
    },
    {
     "data": {
      "image/png": "[encoded data removed]",
      "text/plain": [
       "<Figure size 432x432 with 1 Axes>"
      ]
     },
     "metadata": {
      "needs_background": "light"
     },
     "output_type": "display_data"
    },
    {
     "name": "stdout",
     "output_type": "stream",
     "text": [
      "Step 2: Extracting centerline (skeletonizing) the image...\n"
     ]
    },
    {
     "data": {
      "image/png": "[encoded data removed]",
      "text/plain": [
       "<Figure size 432x432 with 1 Axes>"
      ]
     },
     "metadata": {
      "needs_background": "light"
     },
     "output_type": "display_data"
    },
    {
     "name": "stdout",
     "output_type": "stream",
     "text": [
      "Step 6: Exporting to SVG...\n"
     ]
    },
    {
     "ename": "ValueError",
     "evalue": "too many values to unpack (expected 2)",
     "output_type": "error",
     "traceback": [
      "\u001b[0;31m---------------------------------------------------------------------------\u001b[0m",
      "\u001b[0;31mValueError\u001b[0m                                Traceback (most recent call last)",
      "\u001b[0;32m<ipython-input-83-f06d3a0bae18>\u001b[0m in \u001b[0;36m<module>\u001b[0;34m\u001b[0m\n\u001b[0;32m----> 1\u001b[0;31m \u001b[0mprocess_image\u001b[0m\u001b[0;34m(\u001b[0m\u001b[0;34m'ppp.png'\u001b[0m\u001b[0;34m)\u001b[0m\u001b[0;34m\u001b[0m\u001b[0;34m\u001b[0m\u001b[0m\n\u001b[0m",
      "\u001b[0;32m<ipython-input-82-fa6048d53e5c>\u001b[0m in \u001b[0;36mprocess_image\u001b[0;34m(image_path, output_file)\u001b[0m\n\u001b[1;32m    149\u001b[0m \u001b[0;34m\u001b[0m\u001b[0m\n\u001b[1;32m    150\u001b[0m     \u001b[0;31m# Step 6: Export the outlines to SVG\u001b[0m\u001b[0;34m\u001b[0m\u001b[0;34m\u001b[0m\u001b[0m\n\u001b[0;32m--> 151\u001b[0;31m     \u001b[0mexport_to_svg\u001b[0m\u001b[0;34m(\u001b[0m\u001b[0mskeleton\u001b[0m\u001b[0;34m,\u001b[0m \u001b[0moutput_file\u001b[0m\u001b[0;34m)\u001b[0m\u001b[0;34m\u001b[0m\u001b[0;34m\u001b[0m\u001b[0m\n\u001b[0m",
      "\u001b[0;32m<ipython-input-82-fa6048d53e5c>\u001b[0m in \u001b[0;36mexport_to_svg\u001b[0;34m(edges, output_file)\u001b[0m\n\u001b[1;32m    122\u001b[0m \u001b[0;34m\u001b[0m\u001b[0m\n\u001b[1;32m    123\u001b[0m     \u001b[0;32mfor\u001b[0m \u001b[0medge\u001b[0m \u001b[0;32min\u001b[0m \u001b[0medges\u001b[0m\u001b[0;34m:\u001b[0m\u001b[0;34m\u001b[0m\u001b[0;34m\u001b[0m\u001b[0m\n\u001b[0;32m--> 124\u001b[0;31m         \u001b[0mstart\u001b[0m\u001b[0;34m,\u001b[0m \u001b[0mend\u001b[0m \u001b[0;34m=\u001b[0m \u001b[0medge\u001b[0m\u001b[0;34m\u001b[0m\u001b[0;34m\u001b[0m\u001b[0m\n\u001b[0m\u001b[1;32m    125\u001b[0m         \u001b[0mdwg\u001b[0m\u001b[0;34m.\u001b[0m\u001b[0madd\u001b[0m\u001b[0;34m(\u001b[0m\u001b[0mdwg\u001b[0m\u001b[0;34m.\u001b[0m\u001b[0mline\u001b[0m\u001b[0;34m(\u001b[0m\u001b[0mstart\u001b[0m\u001b[0;34m=\u001b[0m\u001b[0mstart\u001b[0m\u001b[0;34m,\u001b[0m \u001b[0mend\u001b[0m\u001b[0;34m=\u001b[0m\u001b[0mend\u001b[0m\u001b[0;34m,\u001b[0m \u001b[0mstroke\u001b[0m\u001b[0;34m=\u001b[0m\u001b[0msvgwrite\u001b[0m\u001b[0;34m.\u001b[0m\u001b[0mrgb\u001b[0m\u001b[0;34m(\u001b[0m\u001b[0;36m0\u001b[0m\u001b[0;34m,\u001b[0m \u001b[0;36m0\u001b[0m\u001b[0;34m,\u001b[0m \u001b[0;36m0\u001b[0m\u001b[0;34m,\u001b[0m \u001b[0;34m'%'\u001b[0m\u001b[0;34m)\u001b[0m\u001b[0;34m)\u001b[0m\u001b[0;34m)\u001b[0m\u001b[0;34m\u001b[0m\u001b[0;34m\u001b[0m\u001b[0m\n\u001b[1;32m    126\u001b[0m \u001b[0;34m\u001b[0m\u001b[0m\n",
      "\u001b[0;31mValueError\u001b[0m: too many values to unpack (expected 2)"
     ]
    }
   ],
   "source": [
    "process_image('ppp.png')"
   ]
  },
  {
   "cell_type": "code",
   "execution_count": null,
   "id": "05270a54",
   "metadata": {},
   "outputs": [],
   "source": []
  }
 ],
 "metadata": {
  "kernelspec": {
   "display_name": "Python 3",
   "language": "python",
   "name": "python3"
  },
  "language_info": {
   "codemirror_mode": {
    "name": "ipython",
    "version": 3
   },
   "file_extension": ".py",
   "mimetype": "text/x-python",
   "name": "python",
   "nbconvert_exporter": "python",
   "pygments_lexer": "ipython3",
   "version": "3.9.13"
  }
 },
 "nbformat": 4,
 "nbformat_minor": 5
}
