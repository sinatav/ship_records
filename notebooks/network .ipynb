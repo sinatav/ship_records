{
 "cells": [
  {
   "cell_type": "code",
   "execution_count": 2,
   "id": "7b48e312",
   "metadata": {},
   "outputs": [
    {
     "name": "stdout",
     "output_type": "stream",
     "text": [
      "\u001b[33mDEPRECATION: Configuring installation scheme with distutils config files is deprecated and will no longer work in the near future. If you are using a Homebrew or Linuxbrew Python, please see discussion at https://github.com/Homebrew/homebrew-core/issues/76621\u001b[0m\u001b[33m\n",
      "\u001b[0mCollecting pyvis\n",
      "  Downloading pyvis-0.3.2-py3-none-any.whl (756 kB)\n",
      "\u001b[2K     \u001b[90m━━━━━━━━━━━━━━━━━━━━━━━━━━━━━━━━━━━━━━━\u001b[0m \u001b[32m756.0/756.0 kB\u001b[0m \u001b[31m2.8 MB/s\u001b[0m eta \u001b[36m0:00:00\u001b[0m00:01\u001b[0m00:01\u001b[0m\n",
      "\u001b[?25hRequirement already satisfied: ipython>=5.3.0 in /usr/local/lib/python3.9/site-packages (from pyvis) (7.8.0)\n",
      "Collecting jsonpickle>=1.4.1\n",
      "  Downloading jsonpickle-3.0.2-py3-none-any.whl (40 kB)\n",
      "\u001b[2K     \u001b[90m━━━━━━━━━━━━━━━━━━━━━━━━━━━━━━━━━━━━━━━━\u001b[0m \u001b[32m40.7/40.7 kB\u001b[0m \u001b[31m1.7 MB/s\u001b[0m eta \u001b[36m0:00:00\u001b[0m\n",
      "\u001b[?25hRequirement already satisfied: jinja2>=2.9.6 in /usr/local/lib/python3.9/site-packages (from pyvis) (3.1.2)\n",
      "Requirement already satisfied: networkx>=1.11 in /usr/local/lib/python3.9/site-packages (from pyvis) (3.0)\n",
      "Requirement already satisfied: pickleshare in /usr/local/lib/python3.9/site-packages (from ipython>=5.3.0->pyvis) (0.7.5)\n",
      "Requirement already satisfied: pexpect in /usr/local/lib/python3.9/site-packages (from ipython>=5.3.0->pyvis) (4.8.0)\n",
      "Requirement already satisfied: decorator in /usr/local/lib/python3.9/site-packages (from ipython>=5.3.0->pyvis) (4.4.2)\n",
      "Requirement already satisfied: appnope in /usr/local/lib/python3.9/site-packages (from ipython>=5.3.0->pyvis) (0.1.2)\n",
      "Requirement already satisfied: pygments in /usr/local/lib/python3.9/site-packages (from ipython>=5.3.0->pyvis) (2.8.1)\n",
      "Requirement already satisfied: prompt-toolkit<2.1.0,>=2.0.0 in /usr/local/lib/python3.9/site-packages (from ipython>=5.3.0->pyvis) (2.0.10)\n",
      "Requirement already satisfied: backcall in /usr/local/lib/python3.9/site-packages (from ipython>=5.3.0->pyvis) (0.2.0)\n",
      "Requirement already satisfied: traitlets>=4.2 in /usr/local/lib/python3.9/site-packages (from ipython>=5.3.0->pyvis) (5.5.0)\n",
      "Requirement already satisfied: setuptools>=18.5 in /usr/local/lib/python3.9/site-packages (from ipython>=5.3.0->pyvis) (62.3.2)\n",
      "Requirement already satisfied: jedi>=0.10 in /usr/local/lib/python3.9/site-packages (from ipython>=5.3.0->pyvis) (0.18.0)\n",
      "Requirement already satisfied: MarkupSafe>=2.0 in /usr/local/lib/python3.9/site-packages (from jinja2>=2.9.6->pyvis) (2.1.1)\n",
      "Requirement already satisfied: parso<0.9.0,>=0.8.0 in /usr/local/lib/python3.9/site-packages (from jedi>=0.10->ipython>=5.3.0->pyvis) (0.8.1)\n",
      "Requirement already satisfied: wcwidth in /usr/local/lib/python3.9/site-packages (from prompt-toolkit<2.1.0,>=2.0.0->ipython>=5.3.0->pyvis) (0.2.5)\n",
      "Requirement already satisfied: six>=1.9.0 in /usr/local/lib/python3.9/site-packages (from prompt-toolkit<2.1.0,>=2.0.0->ipython>=5.3.0->pyvis) (1.12.0)\n",
      "Requirement already satisfied: ptyprocess>=0.5 in /usr/local/lib/python3.9/site-packages (from pexpect->ipython>=5.3.0->pyvis) (0.7.0)\n",
      "Installing collected packages: jsonpickle, pyvis\n",
      "\u001b[33m  DEPRECATION: Configuring installation scheme with distutils config files is deprecated and will no longer work in the near future. If you are using a Homebrew or Linuxbrew Python, please see discussion at https://github.com/Homebrew/homebrew-core/issues/76621\u001b[0m\u001b[33m\n",
      "\u001b[0m\u001b[33m  DEPRECATION: Configuring installation scheme with distutils config files is deprecated and will no longer work in the near future. If you are using a Homebrew or Linuxbrew Python, please see discussion at https://github.com/Homebrew/homebrew-core/issues/76621\u001b[0m\u001b[33m\n",
      "\u001b[0m\u001b[33mDEPRECATION: Configuring installation scheme with distutils config files is deprecated and will no longer work in the near future. If you are using a Homebrew or Linuxbrew Python, please see discussion at https://github.com/Homebrew/homebrew-core/issues/76621\u001b[0m\u001b[33m\n",
      "\u001b[0mSuccessfully installed jsonpickle-3.0.2 pyvis-0.3.2\n",
      "\u001b[33mWARNING: There was an error checking the latest version of pip.\u001b[0m\u001b[33m\n",
      "\u001b[0mNote: you may need to restart the kernel to use updated packages.\n"
     ]
    }
   ],
   "source": [
    "pip install pyvis"
   ]
  },
  {
   "cell_type": "code",
   "execution_count": 3,
   "id": "6bca3bf3",
   "metadata": {},
   "outputs": [],
   "source": [
    "import pickle\n",
    "from pyvis.network import Network\n",
    "import pandas as pd"
   ]
  },
  {
   "cell_type": "code",
   "execution_count": null,
   "id": "9082d43d",
   "metadata": {},
   "outputs": [],
   "source": [
    "# Load your data from pickle\n",
    "with open('tups.pickle', 'rb') as handle:\n",
    "    tups = pickle.load(handle)\n",
    "\n",
    "with open('road.pickle', 'rb') as handle:\n",
    "    road = pickle.load(handle)\n",
    "\n",
    "# Create an interactive network visualization\n",
    "nt = Network(height=\"500px\", width=\"100%\", directed=True, notebook=True)\n",
    "\n",
    "# Add nodes and edges to the visualization\n",
    "for n1, n2 in tups:\n",
    "    nt.add_node(n1, label=str(n1))\n",
    "    nt.add_node(n2, label=str(n2))\n",
    "    nt.add_edge(n1, n2, label=str(road[n1][n2]))\n",
    "\n",
    "# Configure stabilization settings using JavaScript code\n",
    "stabilization_options = \"\"\"\n",
    "{\n",
    "  \"enabled\": true,\n",
    "  \"iterations\": 1000,\n",
    "  \"fit\": true,\n",
    "  \"updateInterval\": 50,\n",
    "  \"onlyDynamicEdges\": false\n",
    "}\n",
    "\"\"\"\n",
    "\n",
    "# Apply the stabilization options using JavaScript code\n",
    "stabilization_code = f\"\"\"\n",
    "var options = {stabilization_options};\n",
    "network.setOptions(options);\n",
    "\"\"\"\n",
    "nt.barnes_hut(gravity=-800, central_gravity=0.1, spring_length=300)\n",
    "nt.set_edge_smooth(\"dynamic\")\n",
    "\n",
    "# Add the JavaScript code to the HTML page\n",
    "nt.html += f\"<script>{stabilization_code}</script>\""
   ]
  }
 ],
 "metadata": {
  "kernelspec": {
   "display_name": "Python 3",
   "language": "python",
   "name": "python3"
  },
  "language_info": {
   "codemirror_mode": {
    "name": "ipython",
    "version": 3
   },
   "file_extension": ".py",
   "mimetype": "text/x-python",
   "name": "python",
   "nbconvert_exporter": "python",
   "pygments_lexer": "ipython3",
   "version": "3.9.13"
  }
 },
 "nbformat": 4,
 "nbformat_minor": 5
}
