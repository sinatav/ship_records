{
 "cells": [
  {
   "cell_type": "code",
   "execution_count": 1,
   "id": "5fdbfc32",
   "metadata": {},
   "outputs": [
    {
     "name": "stdout",
     "output_type": "stream",
     "text": [
      "Call Option Price: $10.45\n",
      "Option Greeks:\n",
      "  Delta: 0.6368\n",
      "  Gamma: 0.0188\n",
      "  Theta: -0.0176\n",
      "  Vega: 0.3752\n",
      "  Rho: 0.5323\n"
     ]
    }
   ],
   "source": [
    "import numpy as np\n",
    "from scipy.stats import norm\n",
    "import matplotlib.pyplot as plt\n",
    "\n",
    "# ---------------------------\n",
    "# Black-Scholes Price Function\n",
    "# ---------------------------\n",
    "def black_scholes_price(S, K, T, r, sigma, option_type='call'):\n",
    "    d1 = (np.log(S / K) + (r + 0.5 * sigma ** 2) * T) / (sigma * np.sqrt(T))\n",
    "    d2 = d1 - sigma * np.sqrt(T)\n",
    "\n",
    "    if option_type == 'call':\n",
    "        price = S * norm.cdf(d1) - K * np.exp(-r * T) * norm.cdf(d2)\n",
    "    elif option_type == 'put':\n",
    "        price = K * np.exp(-r * T) * norm.cdf(-d2) - S * norm.cdf(-d1)\n",
    "    else:\n",
    "        raise ValueError(\"Invalid option type. Use 'call' or 'put'.\")\n",
    "\n",
    "    return price\n",
    "\n",
    "# ---------------------------\n",
    "# Greek Calculations\n",
    "# ---------------------------\n",
    "def option_greeks(S, K, T, r, sigma, option_type='call'):\n",
    "    d1 = (np.log(S / K) + (r + 0.5 * sigma ** 2) * T) / (sigma * np.sqrt(T))\n",
    "    d2 = d1 - sigma * np.sqrt(T)\n",
    "\n",
    "    delta = norm.cdf(d1) if option_type == 'call' else -norm.cdf(-d1)\n",
    "    gamma = norm.pdf(d1) / (S * sigma * np.sqrt(T))\n",
    "    theta = (-S * norm.pdf(d1) * sigma / (2 * np.sqrt(T)) \n",
    "             - r * K * np.exp(-r * T) * norm.cdf(d2 if option_type == 'call' else -d2)) / 365\n",
    "    vega = S * norm.pdf(d1) * np.sqrt(T) / 100  # per 1% change in volatility\n",
    "    rho = (K * T * np.exp(-r * T) * norm.cdf(d2 if option_type == 'call' else -d2)) / 100\n",
    "\n",
    "    return {\n",
    "        'Delta': delta,\n",
    "        'Gamma': gamma,\n",
    "        'Theta': theta,\n",
    "        'Vega': vega,\n",
    "        'Rho': rho\n",
    "    }\n",
    "\n",
    "# ---------------------------\n",
    "# Example Usage\n",
    "# ---------------------------\n",
    "S = 100      # Stock price\n",
    "K = 100      # Strike price\n",
    "T = 1        # Time to maturity in years\n",
    "r = 0.05     # Risk-free rate\n",
    "sigma = 0.2  # Volatility (20%)\n",
    "option_type = 'call'  # or 'put'\n",
    "\n",
    "price = black_scholes_price(S, K, T, r, sigma, option_type)\n",
    "greeks = option_greeks(S, K, T, r, sigma, option_type)\n",
    "\n",
    "print(f\"{option_type.capitalize()} Option Price: ${price:.2f}\")\n",
    "print(\"Option Greeks:\")\n",
    "for greek, value in greeks.items():\n",
    "    print(f\"  {greek}: {value:.4f}\")\n"
   ]
  },
  {
   "cell_type": "code",
   "execution_count": null,
   "id": "916dd671",
   "metadata": {},
   "outputs": [],
   "source": []
  }
 ],
 "metadata": {
  "kernelspec": {
   "display_name": "Python 3",
   "language": "python",
   "name": "python3"
  },
  "language_info": {
   "codemirror_mode": {
    "name": "ipython",
    "version": 3
   },
   "file_extension": ".py",
   "mimetype": "text/x-python",
   "name": "python",
   "nbconvert_exporter": "python",
   "pygments_lexer": "ipython3",
   "version": "3.9.20"
  }
 },
 "nbformat": 4,
 "nbformat_minor": 5
}
