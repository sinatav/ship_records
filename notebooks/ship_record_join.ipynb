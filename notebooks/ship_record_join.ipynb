{
 "cells": [
  {
   "cell_type": "code",
   "execution_count": 201,
   "id": "46040fa9",
   "metadata": {},
   "outputs": [],
   "source": [
    "import pandas as pd\n",
    "import numpy as np\n",
    "from tqdm import tqdm"
   ]
  },
  {
   "cell_type": "code",
   "execution_count": 202,
   "id": "f671fc27",
   "metadata": {},
   "outputs": [],
   "source": [
    "df_r = pd.read_csv('record_corrected3.csv', low_memory=False).drop('Unnamed: 29', axis=1)\n",
    "df_s = pd.read_csv('ship_final.csv', low_memory=False).rename(columns={'correct.ship_index': 'ship_index'}).drop(columns=['Unnamed: 10', 'Unnamed: 11', 'Unnamed: 12', 'Unnamed: 13'])"
   ]
  },
  {
   "cell_type": "code",
   "execution_count": 203,
   "id": "d17a7d65",
   "metadata": {},
   "outputs": [],
   "source": [
    "df_s['ship_name'] = df_s['ship_name'].str.strip().str.title()\n",
    "df_s['ship_code'] = df_s['ship_code'].str.strip().str.upper()\n",
    "df_s['ship_index'] = df_s['ship_index'].astype(str)\n",
    "df_r['ship_index'] = df_r['ship_index'].astype(str)"
   ]
  },
  {
   "cell_type": "code",
   "execution_count": 204,
   "id": "1ecd2b51",
   "metadata": {},
   "outputs": [],
   "source": [
    "for index, row in df_r.iterrows():\n",
    "    if '/' in row['ship_index']:\n",
    "        if row['ship_index'].split('/')[0] == '':\n",
    "            df_r.at[index, 'ship_index'] = row['ship_index'].split('/')[1].strip()\n",
    "        else:\n",
    "            temp = row['ship_index'].split('/')\n",
    "            df_r.at[index, 'ship_index'] = temp[0].strip()\n",
    "for index, row in df_s.iterrows():\n",
    "    if '/' in row['ship_index']:\n",
    "        if row['ship_index'].split('/')[0] == '':\n",
    "            df_s.at[index, 'ship_index'] = row['ship_index'].split('/')[1].strip()\n",
    "        else:\n",
    "            temp = row['ship_index'].split('/')\n",
    "            df_s.at[index, 'ship_index'] = temp[0].strip() + '/' + temp[1].strip()"
   ]
  },
  {
   "cell_type": "code",
   "execution_count": 205,
   "id": "15538c6b",
   "metadata": {},
   "outputs": [],
   "source": [
    "sind_r = list(set(df_r['ship_index']))\n",
    "sind_s = list(set(df_s['ship_index']))\n",
    "absents = []\n",
    "for i in sind_r:\n",
    "    if i not in sind_s:\n",
    "        absents.append(i)"
   ]
  },
  {
   "cell_type": "code",
   "execution_count": 206,
   "id": "c2e27a16",
   "metadata": {},
   "outputs": [],
   "source": [
    "mapper = {}\n",
    "mapper_s = {}\n",
    "pp = ['0/32',\n",
    " '151/154',\n",
    " '161/167',\n",
    " '163/325',\n",
    " '288/289',\n",
    " '292/293',\n",
    " '316/317',\n",
    " '50/61',\n",
    " '60/295']\n",
    "for i in pp:\n",
    "    oh = i.split('/')\n",
    "    mapper[oh[0]] = oh[1]\n",
    "for i in pp:\n",
    "    mapper_s[i] = i.split('/')[1]\n",
    "mapper_s['247'] = '248'\n",
    "mapper['247'] = '248'"
   ]
  },
  {
   "cell_type": "code",
   "execution_count": 207,
   "id": "1c59aedd",
   "metadata": {},
   "outputs": [],
   "source": [
    "df_r['ship_index'] = df_r['ship_index'].replace(mapper)\n",
    "df_s['ship_index'] = df_s['ship_index'].replace(mapper_s)"
   ]
  },
  {
   "cell_type": "code",
   "execution_count": 208,
   "id": "3e2331cb",
   "metadata": {},
   "outputs": [],
   "source": [
    "sind_r = list(set(df_r['ship_index']))\n",
    "sind_s = list(set(df_s['ship_index']))\n",
    "absents = []\n",
    "for i in sind_s:\n",
    "    if i not in sind_r:\n",
    "        absents.append(i)"
   ]
  },
  {
   "cell_type": "code",
   "execution_count": 212,
   "id": "96370fce",
   "metadata": {},
   "outputs": [],
   "source": [
    "df_s[df_s['ship_index'].isin(absents)].to_csv('still_absent_ships.csv')"
   ]
  },
  {
   "cell_type": "code",
   "execution_count": 237,
   "id": "082479d4",
   "metadata": {},
   "outputs": [],
   "source": [
    "df_s.to_csv('ship_rev.csv')\n",
    "df_r.to_csv('record_rev.csv')"
   ]
  },
  {
   "cell_type": "code",
   "execution_count": 238,
   "id": "fe1aaf35",
   "metadata": {},
   "outputs": [],
   "source": [
    "df_r_columns = list(df_r.columns)\n",
    "df_p = pd.read_csv('person.csv', low_memory=False).rename(columns={'id': 'person_id'})\n",
    "df_p_columns = list(df_p.columns)\n",
    "df_v = pd.read_csv('voyage.csv', low_memory=False).rename(columns={'id': 'voyage_id'}).drop(columns=['ship_code'])\n",
    "df_v_columns = list(df_v.columns)\n",
    "df_s_columns = list(df_s.columns)\n",
    "df_f = pd.read_csv('functions.csv', low_memory=False).rename(columns={'id': 'function_id'})\n",
    "df_f_columns = list(df_f.columns)\n",
    "df_o = pd.read_csv('origin.csv', low_memory=False).rename(columns={'id': 'origin_id'})\n",
    "df_o_columns = list(df_o.columns)\n",
    "df1 = pd.merge(df_r, df_s, on='ship_index', how='inner')\n",
    "df2 = pd.merge(df1, df_v, on='voyage_index', how='inner')\n",
    "df3 = pd.merge(df2, df_p, on='person_index', how='inner')\n",
    "df4 = pd.merge(df3, df_o, on='origin_index', how='inner')\n",
    "df = pd.merge(df4, df_f, on='function_index', how='inner')"
   ]
  },
  {
   "cell_type": "code",
   "execution_count": null,
   "id": "69f0933c",
   "metadata": {},
   "outputs": [],
   "source": []
  }
 ],
 "metadata": {
  "kernelspec": {
   "display_name": "Python 3",
   "language": "python",
   "name": "python3"
  },
  "language_info": {
   "codemirror_mode": {
    "name": "ipython",
    "version": 3
   },
   "file_extension": ".py",
   "mimetype": "text/x-python",
   "name": "python",
   "nbconvert_exporter": "python",
   "pygments_lexer": "ipython3",
   "version": "3.9.20"
  }
 },
 "nbformat": 4,
 "nbformat_minor": 5
}
