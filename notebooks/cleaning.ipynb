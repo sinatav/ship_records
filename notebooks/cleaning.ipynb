{
 "cells": [
  {
   "cell_type": "code",
   "execution_count": 141,
   "id": "5a1924ef",
   "metadata": {},
   "outputs": [],
   "source": [
    "import pandas as pd\n",
    "import numpy as np"
   ]
  },
  {
   "cell_type": "code",
   "execution_count": 142,
   "id": "5c93c201",
   "metadata": {},
   "outputs": [],
   "source": [
    "df_d = pd.read_csv('document_final.csv', low_memory=False).drop('Unnamed: 0', axis=1)\n",
    "df_d = df_d[df_d['voyage_id'].notna()]\n",
    "df_d = df_d.drop('steps', axis=1)\n",
    "df_d['voyage_id'] = df_d['voyage_id'].astype(int)\n",
    "df_d['document_id'] = df_d['document_id'].astype(int)\n",
    "df_d['Voyage Code'] = df_d['Voyage Code'].astype(str)\n",
    "df_d['voyage_doc_no'] = df_d['voyage_doc_no'].astype(str)\n",
    "df_d['ZotTitle'] = df_d['ZotTitle'].astype(str)\n",
    "df_d['file_name'] = df_d['file_name'].astype(str)\n",
    "df_d['Call Number'] = df_d['Call Number'].astype(str)\n",
    "df_d['DateDocBegin'] = df_d['DateDocBegin'].astype(str)\n",
    "df_d['DateDocEnd'] = df_d['DateDocEnd'].astype(str)\n",
    "df_d['document_notes'] = df_d['document_notes'].astype(str)"
   ]
  },
  {
   "cell_type": "code",
   "execution_count": 143,
   "id": "d8792e17",
   "metadata": {},
   "outputs": [],
   "source": [
    "df_v = pd.read_csv('voyage_final.csv', low_memory=False).drop('Unnamed: 0', axis=1)\n",
    "df_v.replace('---', np.nan, inplace=True)\n",
    "df_v.loc[df_v['voyage_id']==1122, 'Tonnage'] = np.nan\n",
    "types = {\n",
    "    'str': ['ship_code', 'voyage_code', 'date_voy_begin', 'date_voy_end', 'Fate', 'steps', 'operations', 'ship_notes', 'route_Class_1', 'm/d/h h3 (Route)', 'start_loc', 'last_loc', 'captain', 'owner'], \n",
    "    'int': ['voyage_id', 'date'],\n",
    "    'float': ['Tonnage', 'Guns']\n",
    "}\n",
    "for i in types['str']:\n",
    "    df_v[i] = df_v[i].astype(str)\n",
    "for i in types['int']:\n",
    "    df_v[i] = df_v[i].astype(int)\n",
    "for i in types['float']:\n",
    "    df_v[i] = df_v[i].astype(float)"
   ]
  },
  {
   "cell_type": "code",
   "execution_count": 144,
   "id": "2639d299",
   "metadata": {},
   "outputs": [],
   "source": [
    "df_r = pd.read_csv('record_final.csv', low_memory=False).drop('Unnamed: 0', axis=1)\n",
    "df_r.replace('sans solde', np.nan, inplace=True)\n",
    "df_r.replace('?', np.nan, inplace=True)\n",
    "types = {\n",
    "    'str': [],\n",
    "    'int': ['n', 'record_id', 'person_id', 'origin_id', 'function_id', 'ship_id', 'voyage_id', 'document_id'],\n",
    "    'float': ['age', 'emb_class', 'disemb_class', 'days_on_voyage']\n",
    "}\n",
    "c = list(df_r.columns)\n",
    "for i in c:\n",
    "    if i not in types['int'] and i not in types['float']:\n",
    "        types['str'].append(i)\n",
    "for i in types['str']:\n",
    "    df_r[i] = df_r[i].astype(str)\n",
    "for i in types['int']:\n",
    "    df_r[i] = df_r[i].astype(int)\n",
    "for i in types['float']:\n",
    "    df_r[i] = df_r[i].astype(float)"
   ]
  },
  {
   "cell_type": "code",
   "execution_count": 145,
   "id": "7f082299",
   "metadata": {},
   "outputs": [],
   "source": [
    "df_p = pd.read_csv('person.csv', low_memory=False)\n",
    "c = list(df_p.columns)\n",
    "for i in c:\n",
    "    if i != 'person_id':\n",
    "        df_p[i] = df_p[i].astype(str)\n",
    "    else:\n",
    "        df_p[i] = df_p[i].astype(int)"
   ]
  },
  {
   "cell_type": "code",
   "execution_count": 146,
   "id": "390aaac3",
   "metadata": {},
   "outputs": [],
   "source": [
    "df_s = pd.read_csv('ship.csv', low_memory=False)\n",
    "c = list(df_s.columns)\n",
    "for i in c:\n",
    "    if i != 'ship_id':\n",
    "        df_s[i] = df_s[i].astype(str)\n",
    "    else:\n",
    "        df_s[i] = df_s[i].astype(int)"
   ]
  },
  {
   "cell_type": "code",
   "execution_count": 147,
   "id": "e93d9f8c",
   "metadata": {},
   "outputs": [],
   "source": [
    "df_l = pd.read_csv('location.csv', low_memory=False)\n",
    "df_l.replace('*', np.nan, inplace=True)\n",
    "df_l.replace('%', np.nan, inplace=True)\n",
    "df_l.replace('/', np.nan, inplace=True)\n",
    "df_l.replace('3.199022°E', '3.199022', inplace=True)\n",
    "df_l.replace('Estimation based on itineraries', np.nan, inplace=True)\n",
    "c = list(df_l.columns)\n",
    "types = {\n",
    "    'str': ['port', 'place', 'alt_place', 'notes'],\n",
    "    'int': ['origin_id'],\n",
    "    'float': []\n",
    "}\n",
    "for i in c:\n",
    "    if i not in types['int'] and i not in types['str']:\n",
    "        types['float'].append(i)\n",
    "for i in types['str']:\n",
    "    df_l[i] = df_l[i].astype(str)\n",
    "for i in types['int']:\n",
    "    df_l[i] = df_l[i].astype(int)\n",
    "for i in types['float']:\n",
    "    df_l[i] = df_l[i].astype(float)"
   ]
  },
  {
   "cell_type": "code",
   "execution_count": 148,
   "id": "3d9d9551",
   "metadata": {},
   "outputs": [],
   "source": [
    "df_f = pd.read_csv('function.csv', low_memory=False)\n",
    "c = list(df_f.columns)\n",
    "types = {\n",
    "    'str': [],\n",
    "    'int': ['function_ID (new)', 'F_func1', 'F_func2']\n",
    "}\n",
    "for i in c:\n",
    "    if i not in types['int']:\n",
    "        types['str'].append(i)\n",
    "for i in types['int']:\n",
    "    df_f[i] = df_f[i].astype(int)\n",
    "for i in types['str']:\n",
    "    df_f[i] = df_f[i].astype(str)"
   ]
  },
  {
   "cell_type": "code",
   "execution_count": 149,
   "id": "702a5000",
   "metadata": {},
   "outputs": [],
   "source": [
    "df_d.to_csv('document_clean.csv')\n",
    "df_v.to_csv('voyage_clean.csv')\n",
    "df_r.to_csv('record_clean.csv')\n",
    "df_p.to_csv('person_clean.csv')\n",
    "df_l.to_csv('location_clean.csv')\n",
    "df_f.to_csv('function_clean.csv')\n",
    "df_s.to_csv('ship_clean.csv')"
   ]
  },
  {
   "cell_type": "code",
   "execution_count": null,
   "id": "e75b922b",
   "metadata": {},
   "outputs": [],
   "source": []
  }
 ],
 "metadata": {
  "kernelspec": {
   "display_name": "Python 3",
   "language": "python",
   "name": "python3"
  },
  "language_info": {
   "codemirror_mode": {
    "name": "ipython",
    "version": 3
   },
   "file_extension": ".py",
   "mimetype": "text/x-python",
   "name": "python",
   "nbconvert_exporter": "python",
   "pygments_lexer": "ipython3",
   "version": "3.9.20"
  }
 },
 "nbformat": 4,
 "nbformat_minor": 5
}
