{
 "cells": [
  {
   "cell_type": "code",
   "execution_count": 1,
   "id": "b9a6a6cd",
   "metadata": {},
   "outputs": [],
   "source": [
    "import pandas as pd\n",
    "from tqdm import tqdm"
   ]
  },
  {
   "cell_type": "code",
   "execution_count": 24,
   "id": "99914a1d",
   "metadata": {},
   "outputs": [],
   "source": [
    "df_v = pd.read_csv('voyage.csv', low_memory=False)[['voyage_ID (new)', 'voyage_id (old)', 'voyage_code']]\n",
    "df_r = pd.read_csv('record.csv', low_memory=False)\n",
    "df_r_columns = list(df_r.columns)\n",
    "df_r_columns.append('voyage_code')\n",
    "voy = pd.read_csv('voyage 2.csv', low_memory=False).rename(columns={'id': 'voyage_id'}).drop(columns=['ship_code'])\n",
    "cor = pd.read_csv('inc_rec.csv', low_memory=False)\n",
    "df_v['voyage_code'] = df_v['voyage_code'].str.strip()\n",
    "voy['voyage_code'] = voy['voyage_code'].str.strip()\n",
    "replace_map = {\n",
    "    'SYD02': 'SYD01',\n",
    "    'VAL05.01': 'VAL05',\n",
    "    'VAL05.02': 'VAL05',\n",
    "    'DDO13B': 'DDO13',\n",
    "    'DDO13A': 'DDO13',\n",
    "    'DDO9': 'DDO09'\n",
    "}\n",
    "voy['voyage_code'] = voy['voyage_code'].replace(replace_map)"
   ]
  },
  {
   "cell_type": "code",
   "execution_count": 25,
   "id": "26f6722c",
   "metadata": {},
   "outputs": [],
   "source": [
    "df = pd.merge(voy, df_r, on='voyage_id', how='inner')[df_r_columns]"
   ]
  },
  {
   "cell_type": "code",
   "execution_count": 26,
   "id": "8fd63117",
   "metadata": {},
   "outputs": [],
   "source": [
    "test = pd.merge(df, df_v, on='voyage_code', how='inner')"
   ]
  },
  {
   "cell_type": "code",
   "execution_count": 27,
   "id": "fe40201b",
   "metadata": {},
   "outputs": [],
   "source": [
    "df = test.drop(columns=['voyage_id', 'voyage_id (old)']).rename(columns={'voyage_ID (new)': 'voyage_id'})"
   ]
  },
  {
   "cell_type": "code",
   "execution_count": 30,
   "id": "cb904cf9",
   "metadata": {},
   "outputs": [],
   "source": [
    "df[df_r_columns].drop('voyage_code', axis=1).to_csv('record_final.csv')"
   ]
  },
  {
   "cell_type": "code",
   "execution_count": null,
   "id": "aa5e7b53",
   "metadata": {},
   "outputs": [],
   "source": []
  }
 ],
 "metadata": {
  "kernelspec": {
   "display_name": "Python 3",
   "language": "python",
   "name": "python3"
  },
  "language_info": {
   "codemirror_mode": {
    "name": "ipython",
    "version": 3
   },
   "file_extension": ".py",
   "mimetype": "text/x-python",
   "name": "python",
   "nbconvert_exporter": "python",
   "pygments_lexer": "ipython3",
   "version": "3.9.20"
  }
 },
 "nbformat": 4,
 "nbformat_minor": 5
}
