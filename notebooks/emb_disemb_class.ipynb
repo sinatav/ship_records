{
 "cells": [
  {
   "cell_type": "code",
   "execution_count": 9,
   "id": "6cd88378",
   "metadata": {},
   "outputs": [],
   "source": [
    "import pandas as pd\n",
    "\n",
    "file_path = 'sec_version.csv'\n",
    "df = pd.read_csv(file_path).drop('Unnamed: 0', axis=1)\n",
    "df.rename(columns={'Last Name ': 'Last Name'}, inplace=True)"
   ]
  },
  {
   "cell_type": "code",
   "execution_count": 28,
   "id": "a02c1ef6",
   "metadata": {},
   "outputs": [],
   "source": [
    "df['emb_class'], df['disemb_class'] = None, None\n",
    "for index, row in df.iterrows():\n",
    "    if not isinstance(row['Remarks'], str):\n",
    "        continue\n",
    "    if 'clandestin' in row['Remarks'] or 'caché' in row['Remarks']:\n",
    "        df.at[index, 'emb_class'] = 304\n",
    "    elif 'rembarqué' in row['Remarks']:\n",
    "        df.at[index, 'emb_class'] = 306\n",
    "    elif 'fait la campagne' in row['Remarks'] or 'armement' in row['Remarks'] or 'embarqué' in row['Remarks']:\n",
    "        df.at[index, 'emb_class'] = 301\n",
    "    elif 'remplacement' in row['Remarks'] or 'supplément' in row['Remarks']:\n",
    "        df.at[index, 'emb_class'] = 302\n",
    "    elif 'resté à terre' in row['Remarks']:\n",
    "        df.at[index, 'emb_class'] = 308\n",
    "    elif 'renversement' in row['Remarks'] or 'vient' in row['Remarks']:\n",
    "        df.at[index, 'emb_class'] = 303\n",
    "    elif 'né' in row['Remarks'] or 'née' in row['Remarks']:\n",
    "        df.at[index, 'emb_class'] = 305\n",
    "    else:\n",
    "        df.at[index, 'disemb_class'] = 309\n",
    "        \n",
    "    if 'mort' in row['Remarks']:\n",
    "        df.at[index, 'disemb_class'] = 305\n",
    "    elif 'fait la campagne' in row['Remarks']:\n",
    "        df.at[index, 'disemb_class'] = 301\n",
    "    elif 'resté malade' in row['Remarks'] or 'resté à l\\'hôpital' in row['Remarks']:\n",
    "        df.at[index, 'disemb_class'] = 306\n",
    "    elif 'débarqué' in row['Remarks']:\n",
    "        if row['Emb_loc'] == row['Disemb_loc']:\n",
    "            df.at[index, 'disemb_class'] = 301\n",
    "        else:\n",
    "            df.at[index, 'disemb_class'] = 302\n",
    "    elif 'passé sur' in row['Remarks']:\n",
    "        df.at[index, 'disemb_class'] = 303\n",
    "    elif 'échapé' in row['Remarks'] or 'fugitif' in row['Remarks'] or 'déserté' in row['Remarks']:\n",
    "        df.at[index, 'disemb_class'] = 304\n",
    "    elif 'prise par le' in row['Remarks']:\n",
    "        df.at[index, 'disemb_class'] = 307\n",
    "    elif 'resté à terre' in row['Remarks'] or 'restée à terre' in row['Remarks']:\n",
    "        df.at[index, 'disemb_class'] = 308\n",
    "    else:\n",
    "        df.at[index, 'disemb_class'] = 309"
   ]
  },
  {
   "cell_type": "code",
   "execution_count": 29,
   "id": "003718d9",
   "metadata": {},
   "outputs": [],
   "source": [
    "df.to_csv('with_class.csv')"
   ]
  },
  {
   "cell_type": "code",
   "execution_count": 36,
   "id": "034d3a88",
   "metadata": {},
   "outputs": [
    {
     "data": {
      "text/plain": [
       "[\"embarqué à l'armement \\n tombé à la mer et mort noyé le 31/05/1754\"]"
      ]
     },
     "execution_count": 36,
     "metadata": {},
     "output_type": "execute_result"
    }
   ],
   "source": [
    "list(df[(df['Remarks'].str.contains('mort', na=False, case=False)) & (df['Last Name']=='L\\'HELIEVE')]['Remarks'])"
   ]
  },
  {
   "cell_type": "code",
   "execution_count": null,
   "id": "85055c56",
   "metadata": {},
   "outputs": [],
   "source": []
  }
 ],
 "metadata": {
  "kernelspec": {
   "display_name": "Python 3",
   "language": "python",
   "name": "python3"
  },
  "language_info": {
   "codemirror_mode": {
    "name": "ipython",
    "version": 3
   },
   "file_extension": ".py",
   "mimetype": "text/x-python",
   "name": "python",
   "nbconvert_exporter": "python",
   "pygments_lexer": "ipython3",
   "version": "3.9.13"
  }
 },
 "nbformat": 4,
 "nbformat_minor": 5
}
