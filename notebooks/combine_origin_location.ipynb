{
 "cells": [
  {
   "cell_type": "code",
   "execution_count": 13,
   "id": "e306cb0e",
   "metadata": {},
   "outputs": [],
   "source": [
    "import pandas as pd\n",
    "import numpy as np\n",
    "from tqdm import tqdm"
   ]
  },
  {
   "cell_type": "code",
   "execution_count": 14,
   "id": "d0696419",
   "metadata": {},
   "outputs": [],
   "source": [
    "df_o = pd.read_csv('beta_origin.csv', low_memory=False).drop('Unnamed: 0', axis=1).dropna(subset=['origin']).sort_values(by='origin_id')\n",
    "df_l = pd.read_csv('location.csv', low_memory=False).drop('id', axis=1)"
   ]
  },
  {
   "cell_type": "code",
   "execution_count": 15,
   "id": "994168c4",
   "metadata": {},
   "outputs": [],
   "source": [
    "df_l['origin_id'] = np.nan\n",
    "df_l['orig_cert'] = np.nan\n",
    "df_o['origin_id'] = df_o['origin_id'].astype(int)"
   ]
  },
  {
   "cell_type": "code",
   "execution_count": 16,
   "id": "d54ae205",
   "metadata": {},
   "outputs": [],
   "source": [
    "# df_l[df_l.duplicated(subset=['place'], keep=False)].to_csv('duplicated_place_names.csv')"
   ]
  },
  {
   "cell_type": "code",
   "execution_count": 17,
   "id": "3572f969",
   "metadata": {},
   "outputs": [],
   "source": [
    "for index, row in df_l.iterrows():\n",
    "    match = df_o[df_o['origin'] == row['place']]\n",
    "\n",
    "    # We know each place appears at most once in df_o\n",
    "    if not match.empty:\n",
    "        match_row = match.iloc[0]\n",
    "\n",
    "        df_l.at[index, 'origin_id'] = int(match_row['origin_id'])\n",
    "        df_l.at[index, 'orig_cert'] = match_row['orig_cert']\n",
    "\n",
    "        for oc in ['orig_class_1', 'orig_class_2', 'orig_class_3']:\n",
    "            if (pd.isna(row[oc]) or row[oc] == '/') and pd.notna(match_row[oc]):\n",
    "                df_l.at[index, oc] = match_row[oc]"
   ]
  },
  {
   "cell_type": "code",
   "execution_count": 18,
   "id": "bc6ab333",
   "metadata": {},
   "outputs": [
    {
     "name": "stderr",
     "output_type": "stream",
     "text": [
      "100%|██████████| 8950/8950 [00:39<00:00, 224.55it/s]\n"
     ]
    }
   ],
   "source": [
    "for place in tqdm(set(df_o['origin'])):\n",
    "    if place not in set(df_l['place']):\n",
    "        match_row = df_o[df_o['origin'] == place].iloc[0]\n",
    "\n",
    "        new_row = {\n",
    "            'place': place,\n",
    "            'orig_cert': match_row['orig_cert'],\n",
    "            'origin_id': int(match_row['origin_id']),\n",
    "            'orig_class_1': match_row['orig_class_1'],\n",
    "            'orig_class_2': match_row['orig_class_2'],\n",
    "            'orig_class_3': match_row['orig_class_3'],\n",
    "        }\n",
    "\n",
    "        df_l = pd.concat([df_l, pd.DataFrame([new_row])], ignore_index=True)"
   ]
  },
  {
   "cell_type": "code",
   "execution_count": 19,
   "id": "798234b1",
   "metadata": {},
   "outputs": [],
   "source": [
    "df_l.sort_values(by='origin_id').to_csv('combined_loc.csv')"
   ]
  },
  {
   "cell_type": "code",
   "execution_count": null,
   "id": "ccb6811c",
   "metadata": {},
   "outputs": [],
   "source": []
  }
 ],
 "metadata": {
  "kernelspec": {
   "display_name": "Python 3",
   "language": "python",
   "name": "python3"
  },
  "language_info": {
   "codemirror_mode": {
    "name": "ipython",
    "version": 3
   },
   "file_extension": ".py",
   "mimetype": "text/x-python",
   "name": "python",
   "nbconvert_exporter": "python",
   "pygments_lexer": "ipython3",
   "version": "3.9.20"
  }
 },
 "nbformat": 4,
 "nbformat_minor": 5
}
